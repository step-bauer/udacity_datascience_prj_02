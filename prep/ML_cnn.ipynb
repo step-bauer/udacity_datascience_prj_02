{
 "cells": [
  {
   "cell_type": "markdown",
   "metadata": {},
   "source": [
    "# ML Training with Keras"
   ]
  },
  {
   "cell_type": "code",
   "execution_count": 1,
   "metadata": {},
   "outputs": [
    {
     "name": "stdout",
     "output_type": "stream",
     "text": [
      "Python 3.7.10\n"
     ]
    }
   ],
   "source": [
    "!python --version"
   ]
  },
  {
   "cell_type": "code",
   "execution_count": 2,
   "metadata": {},
   "outputs": [
    {
     "name": "stdout",
     "output_type": "stream",
     "text": [
      "/opt/conda/lib/python3.7/site-packages/secretstorage/dhcrypto.py:16: CryptographyDeprecationWarning: int_from_bytes is deprecated, use int.from_bytes instead\n",
      "  from cryptography.utils import int_from_bytes\n",
      "/opt/conda/lib/python3.7/site-packages/secretstorage/util.py:25: CryptographyDeprecationWarning: int_from_bytes is deprecated, use int.from_bytes instead\n",
      "  from cryptography.utils import int_from_bytes\n",
      "Requirement already satisfied: scikit-learn in /opt/conda/lib/python3.7/site-packages (0.22.1)\n",
      "Collecting scikit-learn\n",
      "  Using cached scikit_learn-0.24.2-cp37-cp37m-manylinux2010_x86_64.whl (22.3 MB)\n",
      "Requirement already satisfied: pandas in /opt/conda/lib/python3.7/site-packages (1.0.1)\n",
      "Collecting pandas\n",
      "  Using cached pandas-1.2.5-cp37-cp37m-manylinux_2_5_x86_64.manylinux1_x86_64.whl (9.9 MB)\n",
      "Requirement already satisfied: nltk in /opt/conda/lib/python3.7/site-packages (3.4.5)\n",
      "Collecting nltk\n",
      "  Using cached nltk-3.6.2-py3-none-any.whl (1.5 MB)\n",
      "Requirement already satisfied: sqlalchemy in /opt/conda/lib/python3.7/site-packages (1.3.13)\n",
      "Collecting sqlalchemy\n",
      "  Using cached SQLAlchemy-1.4.19-cp37-cp37m-manylinux_2_5_x86_64.manylinux1_x86_64.manylinux_2_17_x86_64.manylinux2014_x86_64.whl (1.5 MB)\n",
      "Collecting threadpoolctl>=2.0.0\n",
      "  Using cached threadpoolctl-2.1.0-py3-none-any.whl (12 kB)\n",
      "Requirement already satisfied: numpy>=1.13.3 in /opt/conda/lib/python3.7/site-packages (from scikit-learn) (1.19.5)\n",
      "Requirement already satisfied: joblib>=0.11 in /opt/conda/lib/python3.7/site-packages (from scikit-learn) (0.14.1)\n",
      "Requirement already satisfied: scipy>=0.19.1 in /opt/conda/lib/python3.7/site-packages (from scikit-learn) (1.4.1)\n",
      "Requirement already satisfied: python-dateutil>=2.7.3 in /opt/conda/lib/python3.7/site-packages (from pandas) (2.8.1)\n",
      "Requirement already satisfied: pytz>=2017.3 in /opt/conda/lib/python3.7/site-packages (from pandas) (2019.3)\n",
      "Requirement already satisfied: six>=1.5 in /opt/conda/lib/python3.7/site-packages (from python-dateutil>=2.7.3->pandas) (1.15.0)\n",
      "Requirement already satisfied: click in /opt/conda/lib/python3.7/site-packages (from nltk) (7.0)\n",
      "Collecting regex\n",
      "  Using cached regex-2021.4.4-cp37-cp37m-manylinux2014_x86_64.whl (720 kB)\n",
      "Requirement already satisfied: tqdm in /opt/conda/lib/python3.7/site-packages (from nltk) (4.42.1)\n",
      "Requirement already satisfied: greenlet!=0.4.17 in /opt/conda/lib/python3.7/site-packages (from sqlalchemy) (0.4.15)\n",
      "Requirement already satisfied: importlib-metadata in /opt/conda/lib/python3.7/site-packages (from sqlalchemy) (1.5.0)\n",
      "Requirement already satisfied: zipp>=0.5 in /opt/conda/lib/python3.7/site-packages (from importlib-metadata->sqlalchemy) (2.2.0)\n",
      "Installing collected packages: threadpoolctl, regex, sqlalchemy, scikit-learn, pandas, nltk\n",
      "  Attempting uninstall: sqlalchemy\n",
      "    Found existing installation: SQLAlchemy 1.3.13\n",
      "    Uninstalling SQLAlchemy-1.3.13:\n",
      "      Successfully uninstalled SQLAlchemy-1.3.13\n",
      "  Attempting uninstall: scikit-learn\n",
      "    Found existing installation: scikit-learn 0.22.1\n",
      "    Uninstalling scikit-learn-0.22.1:\n",
      "      Successfully uninstalled scikit-learn-0.22.1\n",
      "  Attempting uninstall: pandas\n",
      "    Found existing installation: pandas 1.0.1\n",
      "    Uninstalling pandas-1.0.1:\n",
      "      Successfully uninstalled pandas-1.0.1\n",
      "  Attempting uninstall: nltk\n",
      "    Found existing installation: nltk 3.4.5\n",
      "    Uninstalling nltk-3.4.5:\n",
      "      Successfully uninstalled nltk-3.4.5\n",
      "Successfully installed nltk-3.6.2 pandas-1.2.5 regex-2021.4.4 scikit-learn-0.24.2 sqlalchemy-1.4.19 threadpoolctl-2.1.0\n",
      "\u001b[33mWARNING: Running pip as root will break packages and permissions. You should install packages reliably by using venv: https://pip.pypa.io/warnings/venv\u001b[0m\n",
      "\u001b[33mWARNING: You are using pip version 21.1.1; however, version 21.1.3 is available.\n",
      "You should consider upgrading via the '/opt/conda/bin/python -m pip install --upgrade pip' command.\u001b[0m\n"
     ]
    }
   ],
   "source": [
    "!pip install scikit-learn pandas nltk sqlalchemy --upgrade"
   ]
  },
  {
   "cell_type": "code",
   "execution_count": 3,
   "metadata": {},
   "outputs": [
    {
     "name": "stdout",
     "output_type": "stream",
     "text": [
      "/opt/conda/lib/python3.7/site-packages/secretstorage/dhcrypto.py:16: CryptographyDeprecationWarning: int_from_bytes is deprecated, use int.from_bytes instead\n",
      "  from cryptography.utils import int_from_bytes\n",
      "/opt/conda/lib/python3.7/site-packages/secretstorage/util.py:25: CryptographyDeprecationWarning: int_from_bytes is deprecated, use int.from_bytes instead\n",
      "  from cryptography.utils import int_from_bytes\n",
      "Requirement already satisfied: tensorflow in /opt/conda/lib/python3.7/site-packages (2.5.0)\n",
      "Requirement already satisfied: keras in /opt/conda/lib/python3.7/site-packages (2.4.3)\n",
      "Requirement already satisfied: wheel~=0.35 in /opt/conda/lib/python3.7/site-packages (from tensorflow) (0.36.2)\n",
      "Requirement already satisfied: numpy~=1.19.2 in /opt/conda/lib/python3.7/site-packages (from tensorflow) (1.19.5)\n",
      "Requirement already satisfied: google-pasta~=0.2 in /opt/conda/lib/python3.7/site-packages (from tensorflow) (0.2.0)\n",
      "Requirement already satisfied: typing-extensions~=3.7.4 in /opt/conda/lib/python3.7/site-packages (from tensorflow) (3.7.4.3)\n",
      "Requirement already satisfied: h5py~=3.1.0 in /opt/conda/lib/python3.7/site-packages (from tensorflow) (3.1.0)\n",
      "Requirement already satisfied: keras-preprocessing~=1.1.2 in /opt/conda/lib/python3.7/site-packages (from tensorflow) (1.1.2)\n",
      "Requirement already satisfied: astunparse~=1.6.3 in /opt/conda/lib/python3.7/site-packages (from tensorflow) (1.6.3)\n",
      "Requirement already satisfied: grpcio~=1.34.0 in /opt/conda/lib/python3.7/site-packages (from tensorflow) (1.34.1)\n",
      "Requirement already satisfied: tensorboard~=2.5 in /opt/conda/lib/python3.7/site-packages (from tensorflow) (2.5.0)\n",
      "Requirement already satisfied: protobuf>=3.9.2 in /opt/conda/lib/python3.7/site-packages (from tensorflow) (3.17.0)\n",
      "Requirement already satisfied: wrapt~=1.12.1 in /opt/conda/lib/python3.7/site-packages (from tensorflow) (1.12.1)\n",
      "Requirement already satisfied: flatbuffers~=1.12.0 in /opt/conda/lib/python3.7/site-packages (from tensorflow) (1.12)\n",
      "Requirement already satisfied: six~=1.15.0 in /opt/conda/lib/python3.7/site-packages (from tensorflow) (1.15.0)\n",
      "Requirement already satisfied: absl-py~=0.10 in /opt/conda/lib/python3.7/site-packages (from tensorflow) (0.13.0)\n",
      "Requirement already satisfied: gast==0.4.0 in /opt/conda/lib/python3.7/site-packages (from tensorflow) (0.4.0)\n",
      "Requirement already satisfied: termcolor~=1.1.0 in /opt/conda/lib/python3.7/site-packages (from tensorflow) (1.1.0)\n",
      "Requirement already satisfied: tensorflow-estimator<2.6.0,>=2.5.0rc0 in /opt/conda/lib/python3.7/site-packages (from tensorflow) (2.5.0)\n",
      "Requirement already satisfied: opt-einsum~=3.3.0 in /opt/conda/lib/python3.7/site-packages (from tensorflow) (3.3.0)\n",
      "Requirement already satisfied: keras-nightly~=2.5.0.dev in /opt/conda/lib/python3.7/site-packages (from tensorflow) (2.5.0.dev2021032900)\n",
      "Requirement already satisfied: cached-property in /opt/conda/lib/python3.7/site-packages (from h5py~=3.1.0->tensorflow) (1.5.2)\n",
      "Requirement already satisfied: tensorboard-plugin-wit>=1.6.0 in /opt/conda/lib/python3.7/site-packages (from tensorboard~=2.5->tensorflow) (1.8.0)\n",
      "Requirement already satisfied: google-auth<2,>=1.6.3 in /opt/conda/lib/python3.7/site-packages (from tensorboard~=2.5->tensorflow) (1.32.0)\n",
      "Requirement already satisfied: google-auth-oauthlib<0.5,>=0.4.1 in /opt/conda/lib/python3.7/site-packages (from tensorboard~=2.5->tensorflow) (0.4.4)\n",
      "Requirement already satisfied: markdown>=2.6.8 in /opt/conda/lib/python3.7/site-packages (from tensorboard~=2.5->tensorflow) (3.3.4)\n",
      "Requirement already satisfied: requests<3,>=2.21.0 in /opt/conda/lib/python3.7/site-packages (from tensorboard~=2.5->tensorflow) (2.25.1)\n",
      "Requirement already satisfied: tensorboard-data-server<0.7.0,>=0.6.0 in /opt/conda/lib/python3.7/site-packages (from tensorboard~=2.5->tensorflow) (0.6.1)\n",
      "Requirement already satisfied: werkzeug>=0.11.15 in /opt/conda/lib/python3.7/site-packages (from tensorboard~=2.5->tensorflow) (1.0.0)\n",
      "Requirement already satisfied: setuptools>=41.0.0 in /opt/conda/lib/python3.7/site-packages (from tensorboard~=2.5->tensorflow) (56.2.0)\n",
      "Requirement already satisfied: cachetools<5.0,>=2.0.0 in /opt/conda/lib/python3.7/site-packages (from google-auth<2,>=1.6.3->tensorboard~=2.5->tensorflow) (4.2.2)\n",
      "Requirement already satisfied: pyasn1-modules>=0.2.1 in /opt/conda/lib/python3.7/site-packages (from google-auth<2,>=1.6.3->tensorboard~=2.5->tensorflow) (0.2.8)\n",
      "Requirement already satisfied: rsa<5,>=3.1.4 in /opt/conda/lib/python3.7/site-packages (from google-auth<2,>=1.6.3->tensorboard~=2.5->tensorflow) (4.7.2)\n",
      "Requirement already satisfied: requests-oauthlib>=0.7.0 in /opt/conda/lib/python3.7/site-packages (from google-auth-oauthlib<0.5,>=0.4.1->tensorboard~=2.5->tensorflow) (1.3.0)\n",
      "Requirement already satisfied: importlib-metadata in /opt/conda/lib/python3.7/site-packages (from markdown>=2.6.8->tensorboard~=2.5->tensorflow) (1.5.0)\n",
      "Requirement already satisfied: pyasn1<0.5.0,>=0.4.6 in /opt/conda/lib/python3.7/site-packages (from pyasn1-modules>=0.2.1->google-auth<2,>=1.6.3->tensorboard~=2.5->tensorflow) (0.4.8)\n",
      "Requirement already satisfied: certifi>=2017.4.17 in /opt/conda/lib/python3.7/site-packages (from requests<3,>=2.21.0->tensorboard~=2.5->tensorflow) (2020.12.5)\n",
      "Requirement already satisfied: idna<3,>=2.5 in /opt/conda/lib/python3.7/site-packages (from requests<3,>=2.21.0->tensorboard~=2.5->tensorflow) (2.8)\n",
      "Requirement already satisfied: urllib3<1.27,>=1.21.1 in /opt/conda/lib/python3.7/site-packages (from requests<3,>=2.21.0->tensorboard~=2.5->tensorflow) (1.26.4)\n",
      "Requirement already satisfied: chardet<5,>=3.0.2 in /opt/conda/lib/python3.7/site-packages (from requests<3,>=2.21.0->tensorboard~=2.5->tensorflow) (3.0.4)\n",
      "Requirement already satisfied: oauthlib>=3.0.0 in /opt/conda/lib/python3.7/site-packages (from requests-oauthlib>=0.7.0->google-auth-oauthlib<0.5,>=0.4.1->tensorboard~=2.5->tensorflow) (3.1.1)\n",
      "Requirement already satisfied: scipy>=0.14 in /opt/conda/lib/python3.7/site-packages (from keras) (1.4.1)\n",
      "Requirement already satisfied: pyyaml in /opt/conda/lib/python3.7/site-packages (from keras) (5.4.1)\n",
      "Requirement already satisfied: zipp>=0.5 in /opt/conda/lib/python3.7/site-packages (from importlib-metadata->markdown>=2.6.8->tensorboard~=2.5->tensorflow) (2.2.0)\n",
      "\u001b[33mWARNING: Running pip as root will break packages and permissions. You should install packages reliably by using venv: https://pip.pypa.io/warnings/venv\u001b[0m\n",
      "\u001b[33mWARNING: You are using pip version 21.1.1; however, version 21.1.3 is available.\n",
      "You should consider upgrading via the '/opt/conda/bin/python -m pip install --upgrade pip' command.\u001b[0m\n"
     ]
    }
   ],
   "source": [
    "!pip install tensorflow keras"
   ]
  },
  {
   "cell_type": "code",
<<<<<<< HEAD
   "execution_count": 2,
=======
   "execution_count": 155,
>>>>>>> 1ad88738b7f8d6f6515fa36a8fb8f75b89e33c44
   "metadata": {},
   "outputs": [],
   "source": [
    "import tensorflow as tf\n",
    "from tensorflow import keras\n",
    "from tensorflow.keras.preprocessing.text import Tokenizer\n",
    "\n",
    "from tensorflow.keras.preprocessing.text import text_to_word_sequence"
   ]
  },
  {
   "cell_type": "code",
<<<<<<< HEAD
   "execution_count": 3,
=======
   "execution_count": 5,
>>>>>>> 1ad88738b7f8d6f6515fa36a8fb8f75b89e33c44
   "metadata": {},
   "outputs": [
    {
     "name": "stderr",
     "output_type": "stream",
     "text": [
      "[nltk_data] Downloading package punkt to /root/nltk_data...\n",
      "[nltk_data]   Package punkt is already up-to-date!\n",
      "[nltk_data] Downloading package stopwords to /root/nltk_data...\n",
      "[nltk_data]   Package stopwords is already up-to-date!\n",
      "[nltk_data] Downloading package wordnet to /root/nltk_data...\n",
      "[nltk_data]   Package wordnet is already up-to-date!\n",
      "[nltk_data] Downloading package wordnet to /root/nltk_data...\n",
      "[nltk_data]   Package wordnet is already up-to-date!\n",
      "[nltk_data] Downloading package averaged_perceptron_tagger to\n",
      "[nltk_data]     /root/nltk_data...\n",
      "[nltk_data]   Package averaged_perceptron_tagger is already up-to-\n",
      "[nltk_data]       date!\n"
     ]
    },
    {
     "data": {
      "text/plain": [
       "True"
      ]
     },
<<<<<<< HEAD
     "execution_count": 3,
=======
     "execution_count": 5,
>>>>>>> 1ad88738b7f8d6f6515fa36a8fb8f75b89e33c44
     "metadata": {},
     "output_type": "execute_result"
    }
   ],
   "source": [
    "# import libraries\n",
    "from joblib import dump, load\n",
    "\n",
    "from sklearn.model_selection import cross_val_score\n",
    "from sklearn.metrics import confusion_matrix\n",
    "from sklearn.ensemble import RandomForestClassifier\n",
    "from sklearn.model_selection import train_test_split\n",
    "from sklearn.pipeline import Pipeline, FeatureUnion\n",
    "from sklearn.base import BaseEstimator, TransformerMixin\n",
    "from sklearn.feature_extraction.text import CountVectorizer, TfidfTransformer, TfidfVectorizer\n",
    "from sklearn.metrics import accuracy_score\n",
    "from sklearn import metrics\n",
    "\n",
    "from sqlalchemy import create_engine\n",
    "import pandas as pd\n",
    "\n",
    "import numpy as np\n",
    "import re\n",
    "\n",
    "import nltk\n",
    "from nltk.corpus import stopwords\n",
    "from nltk.stem.wordnet import WordNetLemmatizer\n",
    "from nltk.tokenize import word_tokenize\n",
    "\n",
    "nltk.download('punkt')\n",
    "nltk.download('stopwords')\n",
    "nltk.download('wordnet')\n",
    "nltk.download('wordnet')\n",
    "nltk.download('averaged_perceptron_tagger')\n",
    "#nltk.download('pos_tag')"
   ]
  },
  {
<<<<<<< HEAD
   "cell_type": "markdown",
   "metadata": {},
   "source": [
    "# Step 1 - Load Data"
   ]
  },
  {
   "cell_type": "code",
   "execution_count": 4,
=======
   "cell_type": "code",
   "execution_count": 51,
>>>>>>> 1ad88738b7f8d6f6515fa36a8fb8f75b89e33c44
   "metadata": {},
   "outputs": [],
   "source": [
    "engine = create_engine('sqlite:///DisasterResponse.db')\n",
    "df = pd.read_sql('SELECT * from DisasterMessages', engine)\n",
    "X = df['message']\n",
    "Y = df.drop(columns=['message','original','categories','genre','id'])\n",
    "X_train, X_test, y_train, y_test = train_test_split(X, Y, test_size=0.3)"
   ]
  },
  {
   "cell_type": "code",
<<<<<<< HEAD
   "execution_count": 5,
=======
   "execution_count": 52,
>>>>>>> 1ad88738b7f8d6f6515fa36a8fb8f75b89e33c44
   "metadata": {},
   "outputs": [
    {
     "data": {
      "text/plain": [
<<<<<<< HEAD
       "4397     how to find information on what is happening i...\n",
       "25246    Meanwhile, acute diarrhoea cases have increase...\n",
       "Name: message, dtype: object"
      ]
     },
     "execution_count": 5,
=======
       "7642             I want to know when the school will open \n",
       "25576    Ebola, one of the world's deadliest diseases, ...\n",
       "Name: message, dtype: object"
      ]
     },
     "execution_count": 52,
>>>>>>> 1ad88738b7f8d6f6515fa36a8fb8f75b89e33c44
     "metadata": {},
     "output_type": "execute_result"
    }
   ],
   "source": [
    "X_train[5:7]"
   ]
  },
  {
   "cell_type": "code",
<<<<<<< HEAD
   "execution_count": 6,
=======
   "execution_count": 53,
>>>>>>> 1ad88738b7f8d6f6515fa36a8fb8f75b89e33c44
   "metadata": {},
   "outputs": [
    {
     "data": {
      "text/plain": [
<<<<<<< HEAD
       "<tf.Tensor: shape=(26176,), dtype=string, numpy=\n",
       "array([b'weather update - a cold front from cuba that could pass over haiti',\n",
       "       b'is the hurricane over or is it not over',\n",
       "       b'looking for someone but no name', ...,\n",
       "       b\"proshika, operating in cox's bazar municipality and 5 other unions, ramu and chokoria, assessment, 5 kg rice, 1,5 kg lentils to 700 families.\",\n",
       "       b'some 2,000 women protesting against the conduct of the elections were teargassed as they tried to converge on the local electoral commission offices in the southern oil city of port harcourt.',\n",
       "       b'a radical shift in thinking came about as a result of this meeting, recognizing that hiv/aids is at the core of the humanitarian crisis and identifying the crisis itself as a function of the hiv/aids pandemic.'],\n",
       "      dtype=object)>"
      ]
     },
     "execution_count": 6,
=======
       "<tf.Tensor: shape=(), dtype=string, numpy=b'rtz'>"
      ]
     },
     "execution_count": 53,
>>>>>>> 1ad88738b7f8d6f6515fa36a8fb8f75b89e33c44
     "metadata": {},
     "output_type": "execute_result"
    }
   ],
   "source": [
<<<<<<< HEAD
    "tf.strings.lower(X)"
=======
    "tf.strings.lower('RTZ')"
>>>>>>> 1ad88738b7f8d6f6515fa36a8fb8f75b89e33c44
   ]
  },
  {
   "cell_type": "code",
<<<<<<< HEAD
   "execution_count": 7,
=======
   "execution_count": 54,
>>>>>>> 1ad88738b7f8d6f6515fa36a8fb8f75b89e33c44
   "metadata": {},
   "outputs": [],
   "source": [
    "pattern = r'http[s]?://(?:[a-zA-Z]|[0-9]|[$-_@.&+]|[!*\\(\\),]|(?:%[0-9a-fA-F][0-9a-fA-F]))+'\n",
    "reg = re.compile(pattern)\n",
    "\n",
    "def custom_tokenize(text):\n",
    "    # replace url\n",
    "    text = reg.sub('urlplaceholder',text)\n",
    "        \n",
    "    return text.strip().lower()\n",
    "\n",
    "tokenizer = TfidfVectorizer(ngram_range=(1,3), max_features=5000, max_df =0.5, tokenizer=custom_tokenize)"
   ]
  },
  {
   "cell_type": "code",
<<<<<<< HEAD
   "execution_count": 8,
   "metadata": {},
   "outputs": [],
   "source": [
    "# Model constants.\n",
    "max_features = 20000\n",
    "embedding_dim = 128\n",
    "sequence_length = 500"
   ]
  },
  {
   "cell_type": "markdown",
   "metadata": {},
   "source": [
    "# Step 2- Keras Preprocessing\n",
    "\n",
    "*Note* \n",
    "* replace URLs\n",
    "* replace dates and numbers\n",
    "* replace punctuation"
   ]
  },
  {
   "cell_type": "markdown",
   "metadata": {},
   "source": [
    "### Replace URLs"
   ]
  },
  {
   "cell_type": "code",
   "execution_count": 9,
   "metadata": {},
   "outputs": [
    {
     "data": {
      "text/plain": [
       "\"NOTES: WHAT A JERK ,ALL HAITIANS DONT HAVE ANYTHING TO EAT ,AND ''HE'' ORDERING 3 DAYS WITHOUT FOOD LIKE SUPPORT FOR THOSE WITHOUT FOOD? http://welcome.topuertorico.org/government.shtml\""
      ]
     },
     "execution_count": 9,
     "metadata": {},
     "output_type": "execute_result"
    }
   ],
   "source": [
    "X.loc[5288]"
=======
   "execution_count": 55,
   "metadata": {},
   "outputs": [],
   "source": [
    "x_train = tokenizer.fit_transform(X_train, y_train)"
>>>>>>> 1ad88738b7f8d6f6515fa36a8fb8f75b89e33c44
   ]
  },
  {
   "cell_type": "code",
<<<<<<< HEAD
   "execution_count": 10,
=======
   "execution_count": 56,
>>>>>>> 1ad88738b7f8d6f6515fa36a8fb8f75b89e33c44
   "metadata": {},
   "outputs": [
    {
     "data": {
      "text/plain": [
<<<<<<< HEAD
       "5019                              [http://www.jobpaw.com/]\n",
       "5288     [http://welcome.topuertorico.org/government.sh...\n",
       "7328              [http://wap.sina.comhttp://wap.sina.com]\n",
       "8835              [http://ea.mobile.nokia.com/ea/graphics]\n",
       "9707     [http://172.16.3.136/mymain2.php, http://172.1...\n",
       "                               ...                        \n",
       "24965    [http://www.usaid.gov/hum_response/ofda/situat...\n",
       "25214    [http://www.ausaid.gov.au/hottopics/topic.cfm?...\n",
       "25345    [http://www.irinnews.org/Report/94826/SENEGAL-...\n",
       "25668    [http://www.ocfa.gov.ae/En/MediaCenter/OCFANew...\n",
       "26126    [http://agritrade.cta.int/Agriculture/Commodit...\n",
       "Name: message, Length: 668, dtype: object"
      ]
     },
     "execution_count": 10,
=======
       "array([[0., 0., 0., ..., 0., 0., 0.],\n",
       "       [0., 0., 0., ..., 0., 0., 0.],\n",
       "       [0., 0., 0., ..., 0., 0., 0.],\n",
       "       [0., 0., 0., ..., 0., 0., 0.],\n",
       "       [0., 0., 0., ..., 0., 0., 0.]])"
      ]
     },
     "execution_count": 56,
>>>>>>> 1ad88738b7f8d6f6515fa36a8fb8f75b89e33c44
     "metadata": {},
     "output_type": "execute_result"
    }
   ],
   "source": [
<<<<<<< HEAD
    "pattern = r'http[s]?://(?:[a-zA-Z]|[0-9]|[$-_@.&+]|[!*\\(\\),]|(?:%[0-9a-fA-F][0-9a-fA-F]))+'\n",
    "x_urls = X.str.findall(pattern)\n",
    "x_urls[[ len(x)>0 for x in x_urls]]"
=======
    "x_train[:5].toarray()"
>>>>>>> 1ad88738b7f8d6f6515fa36a8fb8f75b89e33c44
   ]
  },
  {
   "cell_type": "code",
<<<<<<< HEAD
   "execution_count": 11,
   "metadata": {},
   "outputs": [],
   "source": [
    "X.replace(to_replace=pattern, value='urlplaceholder', regex=True, inplace=True)"
   ]
  },
  {
   "cell_type": "code",
   "execution_count": 12,
   "metadata": {},
   "outputs": [
    {
     "data": {
      "text/plain": [
       "\"NOTES: WHAT A JERK ,ALL HAITIANS DONT HAVE ANYTHING TO EAT ,AND ''HE'' ORDERING 3 DAYS WITHOUT FOOD LIKE SUPPORT FOR THOSE WITHOUT FOOD? urlplaceholder\""
      ]
     },
     "execution_count": 12,
     "metadata": {},
     "output_type": "execute_result"
    }
   ],
   "source": [
    "X.loc[5288]"
=======
   "execution_count": 66,
   "metadata": {},
   "outputs": [],
   "source": [
    "# Model constants.\n",
    "max_features = 20000\n",
    "embedding_dim = 128\n",
    "sequence_length = 500"
>>>>>>> 1ad88738b7f8d6f6515fa36a8fb8f75b89e33c44
   ]
  },
  {
   "cell_type": "markdown",
   "metadata": {},
   "source": [
<<<<<<< HEAD
    "### Keras Tokenizer"
=======
    "# Keras Preprocessing\n",
    "\n",
    "*Note* \n",
    "* replace URLs\n",
    "* replace dates and numbers\n",
    "* replace punctuation"
>>>>>>> 1ad88738b7f8d6f6515fa36a8fb8f75b89e33c44
   ]
  },
  {
   "cell_type": "code",
<<<<<<< HEAD
   "execution_count": 13,
=======
   "execution_count": 67,
>>>>>>> 1ad88738b7f8d6f6515fa36a8fb8f75b89e33c44
   "metadata": {},
   "outputs": [
    {
     "name": "stdout",
     "output_type": "stream",
     "text": [
      "35334 eindeutige Tokens gefunden.\n"
     ]
    }
   ],
   "source": [
    "pattern = r'http[s]?://(?:[a-zA-Z]|[0-9]|[$-_@.&+]|[!*\\(\\),]|(?:%[0-9a-fA-F][0-9a-fA-F]))+'\n",
    "\n",
    "tokenizer = Tokenizer( num_words = 10000, \n",
    "                      filters='!\"#$%&()*+,-./:;<=>?@[\\\\]^_`{|}~\\t\\n',\n",
    "                      lower=True) \n",
    "tokenizer.fit_on_texts(X) \n",
    "sequences = tokenizer.texts_to_sequences(X) \n",
    "one_hot_results = tokenizer.texts_to_matrix(X,mode='binary')\n",
    "word_index = tokenizer.word_index\n",
    "print('% s eindeutige Tokens gefunden.' % len(word_index))"
   ]
  },
  {
   "cell_type": "code",
<<<<<<< HEAD
   "execution_count": 14,
=======
   "execution_count": 68,
>>>>>>> 1ad88738b7f8d6f6515fa36a8fb8f75b89e33c44
   "metadata": {},
   "outputs": [
    {
     "data": {
      "text/plain": [
<<<<<<< HEAD
       "0        Weather update - a cold front from Cuba that c...\n",
       "1                  Is the Hurricane over or is it not over\n",
       "2                          Looking for someone but no name\n",
       "3        UN reports Leogane 80-90 destroyed. Only Hospi...\n",
       "4        says: west side of Haiti, rest of the country ...\n",
       "                               ...                        \n",
       "26171    The training demonstrated how to enhance micro...\n",
       "26172    A suitable candidate has been selected and OCH...\n",
       "26173    Proshika, operating in Cox's Bazar municipalit...\n",
       "26174    Some 2,000 women protesting against the conduc...\n",
       "26175    A radical shift in thinking came about as a re...\n",
       "Name: message, Length: 26176, dtype: object"
      ]
     },
     "execution_count": 14,
=======
       "Series([], Name: message, dtype: object)"
      ]
     },
     "execution_count": 68,
>>>>>>> 1ad88738b7f8d6f6515fa36a8fb8f75b89e33c44
     "metadata": {},
     "output_type": "execute_result"
    }
   ],
   "source": [
<<<<<<< HEAD
    "X"
=======
    "pattern = r'http[s]?://(?:[a-zA-Z]|[0-9]|[$-_@.&+]|[!*\\(\\),]|(?:%[0-9a-fA-F][0-9a-fA-F]))+'\n",
    "x_urls = X.str.findall(pattern)\n",
    "x_urls[[ len(x)>0 for x in x_urls]]"
>>>>>>> 1ad88738b7f8d6f6515fa36a8fb8f75b89e33c44
   ]
  },
  {
   "cell_type": "code",
<<<<<<< HEAD
   "execution_count": null,
   "metadata": {},
   "outputs": [],
   "source": []
  },
  {
   "cell_type": "code",
   "execution_count": 15,
   "metadata": {},
   "outputs": [],
   "source": [
    "from keras.preprocessing.text import Tokenizer \n",
    "from keras.preprocessing.sequence import pad_sequences \n",
    "import numpy as np \n",
    "maxlen = 200\n",
    "max_words = 15000\n",
    "embedding_dim = 100 \n",
    "\n",
    "X_data = pad_sequences( sequences, maxlen = maxlen, padding='post', truncating='post') \n"
=======
   "execution_count": 62,
   "metadata": {},
   "outputs": [],
   "source": [
    "X.replace(to_replace=pattern, value='urlplaceholder', regex=True, inplace=True)"
>>>>>>> 1ad88738b7f8d6f6515fa36a8fb8f75b89e33c44
   ]
  },
  {
   "cell_type": "code",
<<<<<<< HEAD
   "execution_count": 16,
=======
   "execution_count": 64,
>>>>>>> 1ad88738b7f8d6f6515fa36a8fb8f75b89e33c44
   "metadata": {},
   "outputs": [
    {
     "data": {
      "text/plain": [
<<<<<<< HEAD
       "24.069032701711492"
      ]
     },
     "execution_count": 16,
=======
       "\"NOTES: WHAT A JERK ,ALL HAITIANS DONT HAVE ANYTHING TO EAT ,AND ''HE'' ORDERING 3 DAYS WITHOUT FOOD LIKE SUPPORT FOR THOSE WITHOUT FOOD? urlplaceholder\""
      ]
     },
     "execution_count": 64,
>>>>>>> 1ad88738b7f8d6f6515fa36a8fb8f75b89e33c44
     "metadata": {},
     "output_type": "execute_result"
    }
   ],
   "source": [
<<<<<<< HEAD
    "X.apply(text_to_word_sequence).str.len().mean()"
=======
    "X.loc[5288]"
   ]
  },
  {
   "cell_type": "code",
   "execution_count": 98,
   "metadata": {},
   "outputs": [],
   "source": [
    "from keras.preprocessing.text import Tokenizer \n",
    "from keras.preprocessing.sequence import pad_sequences \n",
    "import numpy as np \n",
    "maxlen = 100\n",
    "max_words = 10000\n",
    "\n",
    "data = pad_sequences( sequences, maxlen = maxlen) \n"
>>>>>>> 1ad88738b7f8d6f6515fa36a8fb8f75b89e33c44
   ]
  },
  {
   "cell_type": "code",
<<<<<<< HEAD
   "execution_count": 17,
=======
   "execution_count": 99,
>>>>>>> 1ad88738b7f8d6f6515fa36a8fb8f75b89e33c44
   "metadata": {},
   "outputs": [
    {
     "data": {
      "text/plain": [
<<<<<<< HEAD
       "'Is the Hurricane over or is it not over'"
      ]
     },
     "execution_count": 17,
=======
       "array([[   0,    0,    0, ...,  579,   79,   64],\n",
       "       [   0,    0,    0, ...,   27,   34,   79],\n",
       "       [   0,    0,    0, ...,   57,   62,  888],\n",
       "       ...,\n",
       "       [   0,    0,    0, ...,    3, 1660,  166],\n",
       "       [   0,    0,    0, ...,  139,    4,  180],\n",
       "       [   0,    0,    0, ..., 2453, 1304, 3620]], dtype=int32)"
      ]
     },
     "execution_count": 99,
>>>>>>> 1ad88738b7f8d6f6515fa36a8fb8f75b89e33c44
     "metadata": {},
     "output_type": "execute_result"
    }
   ],
   "source": [
<<<<<<< HEAD
    "X.loc[1]"
=======
    "data"
>>>>>>> 1ad88738b7f8d6f6515fa36a8fb8f75b89e33c44
   ]
  },
  {
   "cell_type": "code",
<<<<<<< HEAD
   "execution_count": 18,
=======
   "execution_count": 100,
>>>>>>> 1ad88738b7f8d6f6515fa36a8fb8f75b89e33c44
   "metadata": {},
   "outputs": [
    {
     "name": "stdout",
     "output_type": "stream",
     "text": [
<<<<<<< HEAD
      " Shape des Datentensors: (26176, 200)\n",
=======
      " Shape des Datentensors: (26176, 100)\n",
>>>>>>> 1ad88738b7f8d6f6515fa36a8fb8f75b89e33c44
      " Shape des Klassenbezeichnungstensors: (26176, 36)\n"
     ]
    }
   ],
   "source": [
    "\n",
<<<<<<< HEAD
    "print(' Shape des Datentensors:', X_data.shape) \n",
    "print(' Shape des Klassenbezeichnungstensors:', Y.shape) \n",
    "\n",
    "X_train, X_test, y_train, y_test = train_test_split(X_data, Y, test_size=0.3)"
=======
    "print(' Shape des Datentensors:', data.shape) \n",
    "print(' Shape des Klassenbezeichnungstensors:', Y.shape) \n",
    "\n",
    "X_train, X_test, y_train, y_test = train_test_split(data, Y, test_size=0.3)"
>>>>>>> 1ad88738b7f8d6f6515fa36a8fb8f75b89e33c44
   ]
  },
  {
   "cell_type": "code",
<<<<<<< HEAD
   "execution_count": 19,
=======
   "execution_count": 113,
>>>>>>> 1ad88738b7f8d6f6515fa36a8fb8f75b89e33c44
   "metadata": {},
   "outputs": [
    {
     "data": {
      "text/plain": [
       "pandas.core.frame.DataFrame"
      ]
     },
<<<<<<< HEAD
     "execution_count": 19,
=======
     "execution_count": 113,
>>>>>>> 1ad88738b7f8d6f6515fa36a8fb8f75b89e33c44
     "metadata": {},
     "output_type": "execute_result"
    }
   ],
   "source": [
    "type(y_test)"
   ]
  },
  {
   "cell_type": "markdown",
   "metadata": {},
   "source": [
    "# WordVektor laden\n",
    "\n",
    "## Glove"
   ]
  },
  {
   "cell_type": "code",
   "execution_count": 101,
   "metadata": {},
   "outputs": [
    {
     "name": "stdout",
     "output_type": "stream",
     "text": [
      "--2021-06-27 21:40:23--  https://nlp.stanford.edu/data/glove.6B.zip\n",
      "Resolving nlp.stanford.edu (nlp.stanford.edu)... 171.64.67.140\n",
      "Connecting to nlp.stanford.edu (nlp.stanford.edu)|171.64.67.140|:443... connected.\n",
      "HTTP request sent, awaiting response... 301 Moved Permanently\n",
      "Location: http://downloads.cs.stanford.edu/nlp/data/glove.6B.zip [following]\n",
      "--2021-06-27 21:40:24--  http://downloads.cs.stanford.edu/nlp/data/glove.6B.zip\n",
      "Resolving downloads.cs.stanford.edu (downloads.cs.stanford.edu)... 171.64.64.22\n",
      "Connecting to downloads.cs.stanford.edu (downloads.cs.stanford.edu)|171.64.64.22|:80... connected.\n",
      "HTTP request sent, awaiting response... 200 OK\n",
      "Length: 862182613 (822M) [application/zip]\n",
      "Saving to: ‘glove.6B.zip.1’\n",
      "\n",
      "glove.6B.zip.1       22%[===>                ] 187.96M  4.75MB/s    eta 2m 1s  ^C\n"
     ]
    }
   ],
   "source": [
    "!wget https://nlp.stanford.edu/data/glove.6B.zip\n"
   ]
  },
  {
   "cell_type": "code",
<<<<<<< HEAD
   "execution_count": 17,
   "metadata": {},
   "outputs": [
    {
     "name": "stdout",
     "output_type": "stream",
     "text": [
      "400000 Wortvektoren gefunden.\n"
     ]
    }
   ],
=======
   "execution_count": null,
   "metadata": {},
   "outputs": [],
>>>>>>> 1ad88738b7f8d6f6515fa36a8fb8f75b89e33c44
   "source": [
    "import os\n",
    "embeddings_index = {} \n",
    "with open('glove.6B.100d.txt','r') as f: \n",
    "    for line in f: \n",
    "        values = line.split() \n",
    "        word = values[0] \n",
    "        coefs = np.asarray( values[ 1:], dtype ='float32') \n",
    "        embeddings_index[ word] = coefs \n",
    "    \n",
    "print('% s Wortvektoren gefunden.' % len( embeddings_index))\n",
    "\n"
   ]
  },
  {
   "cell_type": "code",
<<<<<<< HEAD
   "execution_count": 18,
   "metadata": {},
   "outputs": [],
   "source": [
    "\n",
=======
   "execution_count": 106,
   "metadata": {},
   "outputs": [],
   "source": [
    "embedding_dim = 100 \n",
>>>>>>> 1ad88738b7f8d6f6515fa36a8fb8f75b89e33c44
    "embedding_matrix = np.zeros(( max_words, embedding_dim)) \n",
    "for word, i in word_index.items(): \n",
    "    if i < max_words: \n",
    "        embedding_vector = embeddings_index.get(word) \n",
    "        if embedding_vector is not None: \n",
    "            embedding_matrix[i] = embedding_vector\n",
    "\n"
   ]
  },
  {
   "cell_type": "markdown",
   "metadata": {},
   "source": [
    "## word2Vec with gensim"
   ]
  },
  {
   "cell_type": "code",
   "execution_count": 123,
   "metadata": {},
   "outputs": [
    {
     "name": "stdout",
     "output_type": "stream",
     "text": [
      "/opt/conda/lib/python3.7/site-packages/secretstorage/dhcrypto.py:16: CryptographyDeprecationWarning: int_from_bytes is deprecated, use int.from_bytes instead\n",
      "  from cryptography.utils import int_from_bytes\n",
      "/opt/conda/lib/python3.7/site-packages/secretstorage/util.py:25: CryptographyDeprecationWarning: int_from_bytes is deprecated, use int.from_bytes instead\n",
      "  from cryptography.utils import int_from_bytes\n",
      "Requirement already satisfied: gensim in /opt/conda/lib/python3.7/site-packages (4.0.1)\n",
      "Requirement already satisfied: numpy>=1.11.3 in /opt/conda/lib/python3.7/site-packages (from gensim) (1.19.5)\n",
      "Requirement already satisfied: smart-open>=1.8.1 in /opt/conda/lib/python3.7/site-packages (from gensim) (5.1.0)\n",
      "Requirement already satisfied: scipy>=0.18.1 in /opt/conda/lib/python3.7/site-packages (from gensim) (1.4.1)\n",
      "\u001b[33mWARNING: Running pip as root will break packages and permissions. You should install packages reliably by using venv: https://pip.pypa.io/warnings/venv\u001b[0m\n",
      "\u001b[33mWARNING: You are using pip version 21.1.1; however, version 21.1.3 is available.\n",
      "You should consider upgrading via the '/opt/conda/bin/python -m pip install --upgrade pip' command.\u001b[0m\n"
     ]
    }
   ],
   "source": [
    "!pip install gensim"
   ]
  },
  {
   "cell_type": "code",
<<<<<<< HEAD
   "execution_count": 20,
   "metadata": {},
   "outputs": [
    {
     "name": "stderr",
     "output_type": "stream",
     "text": [
      "/opt/conda/lib/python3.7/site-packages/gensim/similarities/__init__.py:15: UserWarning: The gensim.similarities.levenshtein submodule is disabled, because the optional Levenshtein package <https://pypi.org/project/python-Levenshtein/> is unavailable. Install Levenhstein (e.g. `pip install python-Levenshtein`) to suppress this warning.\n",
      "  warnings.warn(msg)\n"
     ]
    }
   ],
=======
   "execution_count": 158,
   "metadata": {},
   "outputs": [],
>>>>>>> 1ad88738b7f8d6f6515fa36a8fb8f75b89e33c44
   "source": [
    "import gensim\n",
    "from gensim.models.phrases import Phraser, Phrases\n",
    "from gensim.models.word2vec import Word2Vec\n",
    "\n",
    "sent =X.apply(text_to_word_sequence)\n",
    "\n"
   ]
  },
  {
   "cell_type": "code",
<<<<<<< HEAD
   "execution_count": 21,
=======
   "execution_count": 159,
>>>>>>> 1ad88738b7f8d6f6515fa36a8fb8f75b89e33c44
   "metadata": {},
   "outputs": [
    {
     "data": {
      "text/plain": [
       "0        [weather, update, a, cold, front, from, cuba, ...\n",
       "1        [is, the, hurricane, over, or, is, it, not, over]\n",
       "2                   [looking, for, someone, but, no, name]\n",
       "3        [un, reports, leogane, 80, 90, destroyed, only...\n",
       "4        [says, west, side, of, haiti, rest, of, the, c...\n",
       "                               ...                        \n",
       "26171    [the, training, demonstrated, how, to, enhance...\n",
       "26172    [a, suitable, candidate, has, been, selected, ...\n",
       "26173    [proshika, operating, in, cox's, bazar, munici...\n",
       "26174    [some, 2, 000, women, protesting, against, the...\n",
       "26175    [a, radical, shift, in, thinking, came, about,...\n",
       "Name: message, Length: 26176, dtype: object"
      ]
     },
<<<<<<< HEAD
     "execution_count": 21,
=======
     "execution_count": 159,
>>>>>>> 1ad88738b7f8d6f6515fa36a8fb8f75b89e33c44
     "metadata": {},
     "output_type": "execute_result"
    }
   ],
   "source": [
    "sent"
   ]
  },
  {
   "cell_type": "code",
<<<<<<< HEAD
   "execution_count": 21,
=======
   "execution_count": 160,
>>>>>>> 1ad88738b7f8d6f6515fa36a8fb8f75b89e33c44
   "metadata": {},
   "outputs": [],
   "source": [
    "word2vec_model = Word2Vec (sentences=sent, vector_size=100, sg=1, window=10, epochs=5, min_count=5, workers=10)"
   ]
  },
  {
   "cell_type": "code",
   "execution_count": null,
   "metadata": {},
   "outputs": [],
   "source": []
  },
  {
   "cell_type": "code",
   "execution_count": 161,
   "metadata": {},
   "outputs": [
    {
     "data": {
      "image/png": "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\n",
      "text/plain": [
       "<Figure size 864x864 with 1 Axes>"
      ]
     },
     "metadata": {
      "needs_background": "light"
     },
     "output_type": "display_data"
    }
   ],
   "source": [
    "from sklearn.manifold import TSNE\n",
    "\n",
    "tsne = TSNE(n_components=2, n_iter=1000)\n",
    "X_2d = tsne.fit_transform(word2vec_model.wv[word2vec_model.wv.index_to_key])\n",
    "coords_df = pd.DataFrame(X_2d, columns=['x','y'])\n",
    "coords_df['token']  = word2vec_model.wv.index_to_key\n",
    "\n",
    "\n",
    "ax = coords_df.plot.scatter('x','y',figsize=(12,12), marker='.',s=10,alpha=0.2)"
   ]
  },
  {
   "cell_type": "code",
   "execution_count": 164,
   "metadata": {},
   "outputs": [],
   "source": [
    "from bokeh.io import output_notebook, output_file\n",
    "from bokeh.plotting import show, figure"
   ]
  },
  {
   "cell_type": "markdown",
   "metadata": {},
   "source": [
    "### Bokeh diagram"
   ]
  },
  {
   "cell_type": "code",
   "execution_count": 166,
   "metadata": {},
   "outputs": [
    {
     "data": {
      "text/html": [
       "\n",
       "    <div class=\"bk-root\">\n",
       "        <a href=\"https://bokeh.org\" target=\"_blank\" class=\"bk-logo bk-logo-small bk-logo-notebook\"></a>\n",
       "        <span id=\"1106\">Loading BokehJS ...</span>\n",
       "    </div>"
      ]
     },
     "metadata": {},
     "output_type": "display_data"
    },
    {
     "data": {
      "application/javascript": [
       "\n",
       "(function(root) {\n",
       "  function now() {\n",
       "    return new Date();\n",
       "  }\n",
       "\n",
       "  var force = true;\n",
       "\n",
       "  if (typeof root._bokeh_onload_callbacks === \"undefined\" || force === true) {\n",
       "    root._bokeh_onload_callbacks = [];\n",
       "    root._bokeh_is_loading = undefined;\n",
       "  }\n",
       "\n",
       "  var JS_MIME_TYPE = 'application/javascript';\n",
       "  var HTML_MIME_TYPE = 'text/html';\n",
       "  var EXEC_MIME_TYPE = 'application/vnd.bokehjs_exec.v0+json';\n",
       "  var CLASS_NAME = 'output_bokeh rendered_html';\n",
       "\n",
       "  /**\n",
       "   * Render data to the DOM node\n",
       "   */\n",
       "  function render(props, node) {\n",
       "    var script = document.createElement(\"script\");\n",
       "    node.appendChild(script);\n",
       "  }\n",
       "\n",
       "  /**\n",
       "   * Handle when an output is cleared or removed\n",
       "   */\n",
       "  function handleClearOutput(event, handle) {\n",
       "    var cell = handle.cell;\n",
       "\n",
       "    var id = cell.output_area._bokeh_element_id;\n",
       "    var server_id = cell.output_area._bokeh_server_id;\n",
       "    // Clean up Bokeh references\n",
       "    if (id != null && id in Bokeh.index) {\n",
       "      Bokeh.index[id].model.document.clear();\n",
       "      delete Bokeh.index[id];\n",
       "    }\n",
       "\n",
       "    if (server_id !== undefined) {\n",
       "      // Clean up Bokeh references\n",
       "      var cmd = \"from bokeh.io.state import curstate; print(curstate().uuid_to_server['\" + server_id + \"'].get_sessions()[0].document.roots[0]._id)\";\n",
       "      cell.notebook.kernel.execute(cmd, {\n",
       "        iopub: {\n",
       "          output: function(msg) {\n",
       "            var id = msg.content.text.trim();\n",
       "            if (id in Bokeh.index) {\n",
       "              Bokeh.index[id].model.document.clear();\n",
       "              delete Bokeh.index[id];\n",
       "            }\n",
       "          }\n",
       "        }\n",
       "      });\n",
       "      // Destroy server and session\n",
       "      var cmd = \"import bokeh.io.notebook as ion; ion.destroy_server('\" + server_id + \"')\";\n",
       "      cell.notebook.kernel.execute(cmd);\n",
       "    }\n",
       "  }\n",
       "\n",
       "  /**\n",
       "   * Handle when a new output is added\n",
       "   */\n",
       "  function handleAddOutput(event, handle) {\n",
       "    var output_area = handle.output_area;\n",
       "    var output = handle.output;\n",
       "\n",
       "    // limit handleAddOutput to display_data with EXEC_MIME_TYPE content only\n",
       "    if ((output.output_type != \"display_data\") || (!output.data.hasOwnProperty(EXEC_MIME_TYPE))) {\n",
       "      return\n",
       "    }\n",
       "\n",
       "    var toinsert = output_area.element.find(\".\" + CLASS_NAME.split(' ')[0]);\n",
       "\n",
       "    if (output.metadata[EXEC_MIME_TYPE][\"id\"] !== undefined) {\n",
       "      toinsert[toinsert.length - 1].firstChild.textContent = output.data[JS_MIME_TYPE];\n",
       "      // store reference to embed id on output_area\n",
       "      output_area._bokeh_element_id = output.metadata[EXEC_MIME_TYPE][\"id\"];\n",
       "    }\n",
       "    if (output.metadata[EXEC_MIME_TYPE][\"server_id\"] !== undefined) {\n",
       "      var bk_div = document.createElement(\"div\");\n",
       "      bk_div.innerHTML = output.data[HTML_MIME_TYPE];\n",
       "      var script_attrs = bk_div.children[0].attributes;\n",
       "      for (var i = 0; i < script_attrs.length; i++) {\n",
       "        toinsert[toinsert.length - 1].firstChild.setAttribute(script_attrs[i].name, script_attrs[i].value);\n",
       "      }\n",
       "      // store reference to server id on output_area\n",
       "      output_area._bokeh_server_id = output.metadata[EXEC_MIME_TYPE][\"server_id\"];\n",
       "    }\n",
       "  }\n",
       "\n",
       "  function register_renderer(events, OutputArea) {\n",
       "\n",
       "    function append_mime(data, metadata, element) {\n",
       "      // create a DOM node to render to\n",
       "      var toinsert = this.create_output_subarea(\n",
       "        metadata,\n",
       "        CLASS_NAME,\n",
       "        EXEC_MIME_TYPE\n",
       "      );\n",
       "      this.keyboard_manager.register_events(toinsert);\n",
       "      // Render to node\n",
       "      var props = {data: data, metadata: metadata[EXEC_MIME_TYPE]};\n",
       "      render(props, toinsert[toinsert.length - 1]);\n",
       "      element.append(toinsert);\n",
       "      return toinsert\n",
       "    }\n",
       "\n",
       "    /* Handle when an output is cleared or removed */\n",
       "    events.on('clear_output.CodeCell', handleClearOutput);\n",
       "    events.on('delete.Cell', handleClearOutput);\n",
       "\n",
       "    /* Handle when a new output is added */\n",
       "    events.on('output_added.OutputArea', handleAddOutput);\n",
       "\n",
       "    /**\n",
       "     * Register the mime type and append_mime function with output_area\n",
       "     */\n",
       "    OutputArea.prototype.register_mime_type(EXEC_MIME_TYPE, append_mime, {\n",
       "      /* Is output safe? */\n",
       "      safe: true,\n",
       "      /* Index of renderer in `output_area.display_order` */\n",
       "      index: 0\n",
       "    });\n",
       "  }\n",
       "\n",
       "  // register the mime type if in Jupyter Notebook environment and previously unregistered\n",
       "  if (root.Jupyter !== undefined) {\n",
       "    var events = require('base/js/events');\n",
       "    var OutputArea = require('notebook/js/outputarea').OutputArea;\n",
       "\n",
       "    if (OutputArea.prototype.mime_types().indexOf(EXEC_MIME_TYPE) == -1) {\n",
       "      register_renderer(events, OutputArea);\n",
       "    }\n",
       "  }\n",
       "\n",
       "  \n",
       "  if (typeof (root._bokeh_timeout) === \"undefined\" || force === true) {\n",
       "    root._bokeh_timeout = Date.now() + 5000;\n",
       "    root._bokeh_failed_load = false;\n",
       "  }\n",
       "\n",
       "  var NB_LOAD_WARNING = {'data': {'text/html':\n",
       "     \"<div style='background-color: #fdd'>\\n\"+\n",
       "     \"<p>\\n\"+\n",
       "     \"BokehJS does not appear to have successfully loaded. If loading BokehJS from CDN, this \\n\"+\n",
       "     \"may be due to a slow or bad network connection. Possible fixes:\\n\"+\n",
       "     \"</p>\\n\"+\n",
       "     \"<ul>\\n\"+\n",
       "     \"<li>re-rerun `output_notebook()` to attempt to load from CDN again, or</li>\\n\"+\n",
       "     \"<li>use INLINE resources instead, as so:</li>\\n\"+\n",
       "     \"</ul>\\n\"+\n",
       "     \"<code>\\n\"+\n",
       "     \"from bokeh.resources import INLINE\\n\"+\n",
       "     \"output_notebook(resources=INLINE)\\n\"+\n",
       "     \"</code>\\n\"+\n",
       "     \"</div>\"}};\n",
       "\n",
       "  function display_loaded() {\n",
       "    var el = document.getElementById(\"1106\");\n",
       "    if (el != null) {\n",
       "      el.textContent = \"BokehJS is loading...\";\n",
       "    }\n",
       "    if (root.Bokeh !== undefined) {\n",
       "      if (el != null) {\n",
       "        el.textContent = \"BokehJS \" + root.Bokeh.version + \" successfully loaded.\";\n",
       "      }\n",
       "    } else if (Date.now() < root._bokeh_timeout) {\n",
       "      setTimeout(display_loaded, 100)\n",
       "    }\n",
       "  }\n",
       "\n",
       "\n",
       "  function run_callbacks() {\n",
       "    try {\n",
       "      root._bokeh_onload_callbacks.forEach(function(callback) {\n",
       "        if (callback != null)\n",
       "          callback();\n",
       "      });\n",
       "    } finally {\n",
       "      delete root._bokeh_onload_callbacks\n",
       "    }\n",
       "    console.debug(\"Bokeh: all callbacks have finished\");\n",
       "  }\n",
       "\n",
       "  function load_libs(css_urls, js_urls, callback) {\n",
       "    if (css_urls == null) css_urls = [];\n",
       "    if (js_urls == null) js_urls = [];\n",
       "\n",
       "    root._bokeh_onload_callbacks.push(callback);\n",
       "    if (root._bokeh_is_loading > 0) {\n",
       "      console.debug(\"Bokeh: BokehJS is being loaded, scheduling callback at\", now());\n",
       "      return null;\n",
       "    }\n",
       "    if (js_urls == null || js_urls.length === 0) {\n",
       "      run_callbacks();\n",
       "      return null;\n",
       "    }\n",
       "    console.debug(\"Bokeh: BokehJS not loaded, scheduling load and callback at\", now());\n",
       "    root._bokeh_is_loading = css_urls.length + js_urls.length;\n",
       "\n",
       "    function on_load() {\n",
       "      root._bokeh_is_loading--;\n",
       "      if (root._bokeh_is_loading === 0) {\n",
       "        console.debug(\"Bokeh: all BokehJS libraries/stylesheets loaded\");\n",
       "        run_callbacks()\n",
       "      }\n",
       "    }\n",
       "\n",
       "    function on_error() {\n",
       "      console.error(\"failed to load \" + url);\n",
       "    }\n",
       "\n",
       "    for (var i = 0; i < css_urls.length; i++) {\n",
       "      var url = css_urls[i];\n",
       "      const element = document.createElement(\"link\");\n",
       "      element.onload = on_load;\n",
       "      element.onerror = on_error;\n",
       "      element.rel = \"stylesheet\";\n",
       "      element.type = \"text/css\";\n",
       "      element.href = url;\n",
       "      console.debug(\"Bokeh: injecting link tag for BokehJS stylesheet: \", url);\n",
       "      document.body.appendChild(element);\n",
       "    }\n",
       "\n",
       "    for (var i = 0; i < js_urls.length; i++) {\n",
       "      var url = js_urls[i];\n",
       "      var element = document.createElement('script');\n",
       "      element.onload = on_load;\n",
       "      element.onerror = on_error;\n",
       "      element.async = false;\n",
       "      element.src = url;\n",
       "      console.debug(\"Bokeh: injecting script tag for BokehJS library: \", url);\n",
       "      document.head.appendChild(element);\n",
       "    }\n",
       "  };var element = document.getElementById(\"1106\");\n",
       "  if (element == null) {\n",
       "    console.error(\"Bokeh: ERROR: autoload.js configured with elementid '1106' but no matching script tag was found. \")\n",
       "    return false;\n",
       "  }\n",
       "\n",
       "  function inject_raw_css(css) {\n",
       "    const element = document.createElement(\"style\");\n",
       "    element.appendChild(document.createTextNode(css));\n",
       "    document.body.appendChild(element);\n",
       "  }\n",
       "\n",
       "  \n",
       "  var js_urls = [\"https://cdn.pydata.org/bokeh/release/bokeh-1.4.0.min.js\", \"https://cdn.pydata.org/bokeh/release/bokeh-widgets-1.4.0.min.js\", \"https://cdn.pydata.org/bokeh/release/bokeh-tables-1.4.0.min.js\", \"https://cdn.pydata.org/bokeh/release/bokeh-gl-1.4.0.min.js\"];\n",
       "  var css_urls = [];\n",
       "  \n",
       "\n",
       "  var inline_js = [\n",
       "    function(Bokeh) {\n",
       "      Bokeh.set_log_level(\"info\");\n",
       "    },\n",
       "    function(Bokeh) {\n",
       "    \n",
       "    \n",
       "    }\n",
       "  ];\n",
       "\n",
       "  function run_inline_js() {\n",
       "    \n",
       "    if (root.Bokeh !== undefined || force === true) {\n",
       "      \n",
       "    for (var i = 0; i < inline_js.length; i++) {\n",
       "      inline_js[i].call(root, root.Bokeh);\n",
       "    }\n",
       "    if (force === true) {\n",
       "        display_loaded();\n",
       "      }} else if (Date.now() < root._bokeh_timeout) {\n",
       "      setTimeout(run_inline_js, 100);\n",
       "    } else if (!root._bokeh_failed_load) {\n",
       "      console.log(\"Bokeh: BokehJS failed to load within specified timeout.\");\n",
       "      root._bokeh_failed_load = true;\n",
       "    } else if (force !== true) {\n",
       "      var cell = $(document.getElementById(\"1106\")).parents('.cell').data().cell;\n",
       "      cell.output_area.append_execute_result(NB_LOAD_WARNING)\n",
       "    }\n",
       "\n",
       "  }\n",
       "\n",
       "  if (root._bokeh_is_loading === 0) {\n",
       "    console.debug(\"Bokeh: BokehJS loaded, going straight to plotting\");\n",
       "    run_inline_js();\n",
       "  } else {\n",
       "    load_libs(css_urls, js_urls, function() {\n",
       "      console.debug(\"Bokeh: BokehJS plotting callback run at\", now());\n",
       "      run_inline_js();\n",
       "    });\n",
       "  }\n",
       "}(window));"
      ],
      "application/vnd.bokehjs_load.v0+json": "\n(function(root) {\n  function now() {\n    return new Date();\n  }\n\n  var force = true;\n\n  if (typeof root._bokeh_onload_callbacks === \"undefined\" || force === true) {\n    root._bokeh_onload_callbacks = [];\n    root._bokeh_is_loading = undefined;\n  }\n\n  \n\n  \n  if (typeof (root._bokeh_timeout) === \"undefined\" || force === true) {\n    root._bokeh_timeout = Date.now() + 5000;\n    root._bokeh_failed_load = false;\n  }\n\n  var NB_LOAD_WARNING = {'data': {'text/html':\n     \"<div style='background-color: #fdd'>\\n\"+\n     \"<p>\\n\"+\n     \"BokehJS does not appear to have successfully loaded. If loading BokehJS from CDN, this \\n\"+\n     \"may be due to a slow or bad network connection. Possible fixes:\\n\"+\n     \"</p>\\n\"+\n     \"<ul>\\n\"+\n     \"<li>re-rerun `output_notebook()` to attempt to load from CDN again, or</li>\\n\"+\n     \"<li>use INLINE resources instead, as so:</li>\\n\"+\n     \"</ul>\\n\"+\n     \"<code>\\n\"+\n     \"from bokeh.resources import INLINE\\n\"+\n     \"output_notebook(resources=INLINE)\\n\"+\n     \"</code>\\n\"+\n     \"</div>\"}};\n\n  function display_loaded() {\n    var el = document.getElementById(\"1106\");\n    if (el != null) {\n      el.textContent = \"BokehJS is loading...\";\n    }\n    if (root.Bokeh !== undefined) {\n      if (el != null) {\n        el.textContent = \"BokehJS \" + root.Bokeh.version + \" successfully loaded.\";\n      }\n    } else if (Date.now() < root._bokeh_timeout) {\n      setTimeout(display_loaded, 100)\n    }\n  }\n\n\n  function run_callbacks() {\n    try {\n      root._bokeh_onload_callbacks.forEach(function(callback) {\n        if (callback != null)\n          callback();\n      });\n    } finally {\n      delete root._bokeh_onload_callbacks\n    }\n    console.debug(\"Bokeh: all callbacks have finished\");\n  }\n\n  function load_libs(css_urls, js_urls, callback) {\n    if (css_urls == null) css_urls = [];\n    if (js_urls == null) js_urls = [];\n\n    root._bokeh_onload_callbacks.push(callback);\n    if (root._bokeh_is_loading > 0) {\n      console.debug(\"Bokeh: BokehJS is being loaded, scheduling callback at\", now());\n      return null;\n    }\n    if (js_urls == null || js_urls.length === 0) {\n      run_callbacks();\n      return null;\n    }\n    console.debug(\"Bokeh: BokehJS not loaded, scheduling load and callback at\", now());\n    root._bokeh_is_loading = css_urls.length + js_urls.length;\n\n    function on_load() {\n      root._bokeh_is_loading--;\n      if (root._bokeh_is_loading === 0) {\n        console.debug(\"Bokeh: all BokehJS libraries/stylesheets loaded\");\n        run_callbacks()\n      }\n    }\n\n    function on_error() {\n      console.error(\"failed to load \" + url);\n    }\n\n    for (var i = 0; i < css_urls.length; i++) {\n      var url = css_urls[i];\n      const element = document.createElement(\"link\");\n      element.onload = on_load;\n      element.onerror = on_error;\n      element.rel = \"stylesheet\";\n      element.type = \"text/css\";\n      element.href = url;\n      console.debug(\"Bokeh: injecting link tag for BokehJS stylesheet: \", url);\n      document.body.appendChild(element);\n    }\n\n    for (var i = 0; i < js_urls.length; i++) {\n      var url = js_urls[i];\n      var element = document.createElement('script');\n      element.onload = on_load;\n      element.onerror = on_error;\n      element.async = false;\n      element.src = url;\n      console.debug(\"Bokeh: injecting script tag for BokehJS library: \", url);\n      document.head.appendChild(element);\n    }\n  };var element = document.getElementById(\"1106\");\n  if (element == null) {\n    console.error(\"Bokeh: ERROR: autoload.js configured with elementid '1106' but no matching script tag was found. \")\n    return false;\n  }\n\n  function inject_raw_css(css) {\n    const element = document.createElement(\"style\");\n    element.appendChild(document.createTextNode(css));\n    document.body.appendChild(element);\n  }\n\n  \n  var js_urls = [\"https://cdn.pydata.org/bokeh/release/bokeh-1.4.0.min.js\", \"https://cdn.pydata.org/bokeh/release/bokeh-widgets-1.4.0.min.js\", \"https://cdn.pydata.org/bokeh/release/bokeh-tables-1.4.0.min.js\", \"https://cdn.pydata.org/bokeh/release/bokeh-gl-1.4.0.min.js\"];\n  var css_urls = [];\n  \n\n  var inline_js = [\n    function(Bokeh) {\n      Bokeh.set_log_level(\"info\");\n    },\n    function(Bokeh) {\n    \n    \n    }\n  ];\n\n  function run_inline_js() {\n    \n    if (root.Bokeh !== undefined || force === true) {\n      \n    for (var i = 0; i < inline_js.length; i++) {\n      inline_js[i].call(root, root.Bokeh);\n    }\n    if (force === true) {\n        display_loaded();\n      }} else if (Date.now() < root._bokeh_timeout) {\n      setTimeout(run_inline_js, 100);\n    } else if (!root._bokeh_failed_load) {\n      console.log(\"Bokeh: BokehJS failed to load within specified timeout.\");\n      root._bokeh_failed_load = true;\n    } else if (force !== true) {\n      var cell = $(document.getElementById(\"1106\")).parents('.cell').data().cell;\n      cell.output_area.append_execute_result(NB_LOAD_WARNING)\n    }\n\n  }\n\n  if (root._bokeh_is_loading === 0) {\n    console.debug(\"Bokeh: BokehJS loaded, going straight to plotting\");\n    run_inline_js();\n  } else {\n    load_libs(css_urls, js_urls, function() {\n      console.debug(\"Bokeh: BokehJS plotting callback run at\", now());\n      run_inline_js();\n    });\n  }\n}(window));"
     },
     "metadata": {},
     "output_type": "display_data"
    },
    {
     "data": {
      "text/html": [
       "\n",
       "\n",
       "\n",
       "\n",
       "\n",
       "\n",
       "  <div class=\"bk-root\" id=\"43e7c3e5-0d5a-42c7-b524-b563b8089da7\" data-root-id=\"1107\"></div>\n"
      ]
     },
     "metadata": {},
     "output_type": "display_data"
    },
    {
     "data": {
      "application/javascript": [
       "(function(root) {\n",
       "  function embed_document(root) {\n",
       "    \n",
       "  var docs_json = {\"35538f6b-11b2-4a51-9e4b-69398d56a03c\":{\"roots\":{\"references\":[{\"attributes\":{\"below\":[{\"id\":\"1116\",\"type\":\"LinearAxis\"}],\"center\":[{\"id\":\"1120\",\"type\":\"Grid\"},{\"id\":\"1125\",\"type\":\"Grid\"}],\"left\":[{\"id\":\"1121\",\"type\":\"LinearAxis\"}],\"plot_height\":800,\"plot_width\":800,\"renderers\":[{\"id\":\"1142\",\"type\":\"GlyphRenderer\"}],\"title\":{\"id\":\"1154\",\"type\":\"Title\"},\"toolbar\":{\"id\":\"1132\",\"type\":\"Toolbar\"},\"x_range\":{\"id\":\"1108\",\"type\":\"DataRange1d\"},\"x_scale\":{\"id\":\"1112\",\"type\":\"LinearScale\"},\"y_range\":{\"id\":\"1110\",\"type\":\"DataRange1d\"},\"y_scale\":{\"id\":\"1114\",\"type\":\"LinearScale\"}},\"id\":\"1107\",\"subtype\":\"Figure\",\"type\":\"Plot\"},{\"attributes\":{\"callback\":null,\"data\":{\"text\":[\"the\",\"and\",\"to\",\"of\",\"in\",\"a\",\"i\",\"for\",\"is\",\"are\",\"we\",\"have\",\"on\",\"that\",\"with\",\"you\",\"by\",\"as\",\"people\",\"water\",\"from\",\"food\",\"help\",\"at\",\"this\",\"has\",\"it\",\"can\",\"need\",\"will\",\"please\",\"be\",\"me\",\"not\",\"an\",\"earthquake\",\"my\",\"been\",\"they\",\"was\",\"like\",\"would\",\"us\",\"were\",\"do\",\"what\",\"some\",\"all\",\"which\",\"said\",\"there\",\"more\",\"or\",\"their\",\"000\",\"who\",\"but\",\"about\",\"also\",\"if\",\"know\",\"no\",\"am\",\"haiti\",\"where\",\"one\",\"areas\",\"government\",\"because\",\"up\",\"find\",\"sandy\",\"had\",\"after\",\"information\",\"other\",\"don't\",\"when\",\"over\",\"country\",\"out\",\"relief\",\"urlplaceholder\",\"two\",\"he\",\"aid\",\"than\",\"its\",\"affected\",\"now\",\"how\",\"so\",\"health\",\"good\",\"our\",\"get\",\"many\",\"thank\",\"area\",\"i'm\",\"1\",\"them\",\"any\",\"2\",\"new\",\"children\",\"since\",\"most\",\"work\",\"message\",\"million\",\"emergency\",\"flood\",\"into\",\"want\",\"supplies\",\"tents\",\"including\",\"through\",\"go\",\"well\",\"give\",\"your\",\"international\",\"power\",\"during\",\"house\",\"last\",\"local\",\"5\",\"region\",\"year\",\"rain\",\"rains\",\"could\",\"time\",\"3\",\"under\",\"city\",\"still\",\"send\",\"hurricane\",\"these\",\"heavy\",\"such\",\"hit\",\"due\",\"disaster\",\"support\",\"school\",\"storm\",\"while\",\"may\",\"thanks\",\"assistance\",\"three\",\"santiago\",\"only\",\"medical\",\"http\",\"it's\",\"those\",\"shelter\",\"floods\",\"destroyed\",\"families\",\"south\",\"victims\",\"state\",\"live\",\"family\",\"province\",\"make\",\"take\",\"national\",\"being\",\"houses\",\"day\",\"north\",\"4\",\"port\",\"united\",\"7\",\"10\",\"years\",\"job\",\"just\",\"high\",\"very\",\"living\",\"days\",\"come\",\"around\",\"number\",\"red\",\"first\",\"response\",\"should\",\"much\",\"weather\",\"anything\",\"provide\",\"homes\",\"flooding\",\"notes\",\"river\",\"community\",\"district\",\"quake\",\"already\",\"going\",\"between\",\"here\",\"8\",\"see\",\"needs\",\"care\",\"off\",\"au\",\"caused\",\"working\",\"villages\",\"reported\",\"world\",\"even\",\"humanitarian\",\"conditions\",\"rt\",\"distribution\",\"before\",\"team\",\"tsunami\",\"situation\",\"according\",\"left\",\"tent\",\"thousands\",\"12\",\"hospital\",\"received\",\"street\",\"prince\",\"northern\",\"6\",\"development\",\"across\",\"down\",\"his\",\"nations\",\"week\",\"lot\",\"security\",\"made\",\"today\",\"un\",\"efforts\",\"damaged\",\"drought\",\"village\",\"against\",\"near\",\"place\",\"road\",\"cross\",\"back\",\"lost\",\"major\",\"god\",\"countries\",\"damage\",\"pakistan\",\"southern\",\"crops\",\"call\",\"disease\",\"s\",\"important\",\"rice\",\"central\",\"along\",\"way\",\"roads\",\"west\",\"january\",\"morning\",\"without\",\"several\",\"never\",\"killed\",\"authorities\",\"home\",\"provided\",\"say\",\"another\",\"chile\",\"least\",\"hello\",\"women\",\"u\",\"system\",\"20\",\"use\",\"did\",\"part\",\"long\",\"nothing\",\"bit\",\"rainfall\",\"she\",\"population\",\"officials\",\"hygiene\",\"news\",\"diseases\",\"30\",\"following\",\"land\",\"season\",\"needed\",\"severe\",\"can't\",\"public\",\"parts\",\"ly\",\"blankets\",\"100\",\"small\",\"military\",\"winter\",\"person\",\"four\",\"risk\",\"must\",\"providing\",\"communities\",\"districts\",\"rescue\",\"500\",\"tell\",\"capital\",\"next\",\"drinking\",\"non\",\"workers\",\"used\",\"open\",\"project\",\"coming\",\"items\",\"supply\",\"cyclone\",\"life\",\"de\",\"facilities\",\"little\",\"continue\",\"15\",\"crop\",\"systems\",\"possible\",\"residents\",\"dead\",\"large\",\"away\",\"equipment\",\"services\",\"five\",\"electricity\",\"each\",\"evening\",\"early\",\"died\",\"problems\",\"however\",\"found\",\"every\",\"night\",\"schools\",\"wfp\",\"sanitation\",\"kits\",\"production\",\"farmers\",\"yet\",\"hunger\",\"service\",\"month\",\"card\",\"management\",\"further\",\"building\",\"recent\",\"expected\",\"few\",\"town\",\"human\",\"camps\",\"island\",\"problem\",\"states\",\"50\",\"provinces\",\"months\",\"money\",\"temporary\",\"la\",\"east\",\"sent\",\"both\",\"displaced\",\"again\",\"police\",\"asking\",\"june\",\"delmas\",\"bring\",\"ask\",\"africa\",\"zone\",\"think\",\"why\",\"programme\",\"ground\",\"reports\",\"hungry\",\"main\",\"safe\",\"coast\",\"got\",\"carrefour\",\"receive\",\"cold\",\"sleep\",\"access\",\"eat\",\"too\",\"groups\",\"answer\",\"survivors\",\"baby\",\"unicef\",\"eastern\",\"poor\",\"snow\",\"july\",\"activities\",\"others\",\"put\",\"9\",\"monsoon\",\"agricultural\",\"office\",\"clothing\",\"clean\",\"tuesday\",\"sleeping\",\"cases\",\"past\",\"group\",\"among\",\"etc\",\"air\",\"afghanistan\",\"level\",\"per\",\"11\",\"control\",\"let\",\"something\",\"six\",\"buildings\",\"refugees\",\"phone\",\"love\",\"camp\",\"shelters\",\"political\",\"ministry\",\"told\",\"organization\",\"percent\",\"waiting\",\"then\",\"include\",\"result\",\"worst\",\"general\",\"operations\",\"available\",\"end\",\"agriculture\",\"able\",\"march\",\"addition\",\"hundreds\",\"temperatures\",\"center\",\"i'd\",\"china\",\"set\",\"200\",\"agency\",\"until\",\"based\",\"we're\",\"lives\",\"members\",\"natural\",\"october\",\"fire\",\"training\",\"staff\",\"clothes\",\"weeks\",\"death\",\"department\",\"someone\",\"teams\",\"4636\",\"distributed\",\"far\",\"cause\",\"india\",\"cannot\",\"regions\",\"winds\",\"construction\",\"0\",\"strong\",\"levels\",\"climate\",\"infrastructure\",\"program\",\"president\",\"her\",\"coastal\",\"tons\",\"change\",\"minister\",\"massive\",\"increased\",\"livestock\",\"centre\",\"aceh\",\"crisis\",\"right\",\"capacity\",\"agencies\",\"magnitude\",\"scale\",\"army\",\"treatment\",\"called\",\"especially\",\"resources\",\"prevent\",\"old\",\"order\",\"14\",\"says\",\"fever\",\"report\",\"wells\",\"address\",\"t\",\"low\",\"malaria\",\"increase\",\"operation\",\"really\",\"economic\",\"hours\",\"haitian\",\"rural\",\"april\",\"25\",\"afp\",\"regional\",\"pass\",\"keep\",\"haven't\",\"organizations\",\"better\",\"suffering\",\"materials\",\"total\",\"post\",\"lack\",\"ebola\",\"monday\",\"dying\",\"maize\",\"education\",\"child\",\"sunday\",\"plastic\",\"rivers\",\"wednesday\",\"official\",\"big\",\"same\",\"thursday\",\"vulnerable\",\"serious\",\"products\",\"everything\",\"particularly\",\"getting\",\"came\",\"urgent\",\"oil\",\"sea\",\"given\",\"basic\",\"second\",\"within\",\"does\",\"currently\",\"radio\",\"victim\",\"fund\",\"disasters\",\"landslides\",\"august\",\"medicine\",\"projects\",\"start\",\"ensure\",\"country's\",\"m\",\"reconstruction\",\"nearly\",\"located\",\"foreign\",\"immediate\",\"streets\",\"site\",\"km\",\"killing\",\"outside\",\"bad\",\"recovery\",\"december\",\"patients\",\"rue\",\"forces\",\"24\",\"13\",\"things\",\"hope\",\"18\",\"injured\",\"40\",\"hi\",\"started\",\"force\",\"indonesia\",\"making\",\"border\",\"collapsed\",\"additional\",\"concepcion\",\"friday\",\"outbreak\",\"almost\",\"term\",\"donate\",\"hurricanesandy\",\"hand\",\"leogane\",\"plan\",\"st\",\"struck\",\"dont\",\"western\",\"nyc\",\"17\",\"funds\",\"plant\",\"using\",\"300\",\"transport\",\"indian\",\"everyone\",\"des\",\"persons\",\"civil\",\"american\",\"stay\",\"september\",\"february\",\"helping\",\"rights\",\"led\",\"improve\",\"im\",\"african\",\"continued\",\"aftershocks\",\"homeless\",\"digicel\",\"protection\",\"return\",\"warning\",\"global\",\"tomorrow\",\"helicopters\",\"housing\",\"november\",\"com\",\"causing\",\"rehabilitation\",\"'s\",\"done\",\"wheat\",\"cut\",\"spread\",\"mission\",\"tropical\",\"earthquakes\",\"missing\",\"centres\",\"26\",\"donations\",\"energy\",\"giving\",\"reach\",\"free\",\"carrying\",\"60\",\"irrigation\",\"violence\",\"stop\",\"close\",\"true\",\"hour\",\"committee\",\"armed\",\"conflict\",\"informations\",\"acute\",\"enough\",\"doing\",\"info\",\"virus\",\"young\",\"goods\",\"partners\",\"happy\",\"difficult\",\"below\",\"harvest\",\"estimated\",\"widespread\",\"21\",\"save\",\"current\",\"measures\",\"waters\",\"seen\",\"social\",\"added\",\"foods\",\"arrived\",\"sms\",\"normal\",\"assessment\",\"trees\",\"saturday\",\"fuel\",\"sources\",\"friends\",\"16\",\"great\",\"places\",\"debris\",\"build\",\"impact\",\"late\",\"sri\",\"remain\",\"refugee\",\"together\",\"peace\",\"soil\",\"dry\",\"taken\",\"council\",\"taking\",\"section\",\"somalia\",\"lines\",\"2010\",\"cholera\",\"half\",\"messages\",\"mali\",\"various\",\"case\",\"evacuation\",\"heat\",\"essential\",\"action\",\"future\",\"mobile\",\"understand\",\"miles\",\"latrines\",\"assist\",\"forced\",\"cooking\",\"gas\",\"airport\",\"co\",\"torrential\",\"continues\",\"toll\",\"volunteers\",\"sheets\",\"despite\",\"n\",\"throughout\",\"heard\",\"process\",\"ok\",\"men\",\"become\",\"times\",\"medicines\",\"field\",\"via\",\"contaminated\",\"built\",\"huge\",\"wind\",\"leave\",\"full\",\"there's\",\"mosquito\",\"triggered\",\"likely\",\"hard\",\"bodies\",\"leaving\",\"ready\",\"tanks\",\"concern\",\"means\",\"distributing\",\"students\",\"seeds\",\"route\",\"doctors\",\"location\",\"elections\",\"fires\",\"b\",\"p\",\"diarrhoea\",\"infections\",\"cities\",\"bangladesh\",\"22\",\"distribute\",\"units\",\"cash\",\"storms\",\"ago\",\"market\",\"effort\",\"passport\",\"e\",\"deaths\",\"head\",\"private\",\"move\",\"media\",\"related\",\"campaign\",\"improved\",\"light\",\"bless\",\"kind\",\"line\",\"bridges\",\"began\",\"flooded\",\"name\",\"advance\",\"party\",\"hot\",\"kenya\",\"although\",\"university\",\"monitoring\",\"feel\",\"broken\",\"often\",\"republic\",\"coordination\",\"repair\",\"attacks\",\"plans\",\"2012\",\"c\",\"ocean\",\"cleaning\",\"kids\",\"brought\",\"earlier\",\"devastating\",\"potential\",\"having\",\"him\",\"waste\",\"war\",\"higher\",\"malnutrition\",\"visit\",\"suffered\",\"farming\",\"flash\",\"seven\",\"mother\",\"nation\",\"die\",\"body\",\"remote\",\"student\",\"forecast\",\"nepal\",\"law\",\"irin\",\"27\",\"experts\",\"contact\",\"planning\",\"recently\",\"largest\",\"rainy\",\"above\",\"county\",\"forest\",\"household\",\"didn't\",\"whole\",\"w\",\"short\",\"soldiers\",\"inside\",\"sector\",\"outbreaks\",\"sumatra\",\"fighting\",\"mountain\",\"station\",\"tonnes\",\"frankenstorm\",\"helicopter\",\"provision\",\"environmental\",\"waves\",\"2005\",\"necessary\",\"network\",\"unit\",\"reduce\",\"deadly\",\"150\",\"programs\",\"took\",\"croix\",\"600\",\"church\",\"significant\",\"clear\",\"known\",\"period\",\"protect\",\"donors\",\"meteorological\",\"fresh\",\"occurred\",\"warned\",\"28\",\"anyone\",\"asia\",\"increasing\",\"federation\",\"different\",\"union\",\"deliver\",\"unhcr\",\"sick\",\"ethiopia\",\"material\",\"front\",\"aircraft\",\"troops\",\"french\",\"70\",\"lanka\",\"400\",\"rise\",\"best\",\"households\",\"devastated\",\"severely\",\"election\",\"feeding\",\"23\",\"hectares\",\"quality\",\"looking\",\"japan\",\"reduced\",\"personnel\",\"appeal\",\"provincial\",\"trucks\",\"fish\",\"company\",\"ngos\",\"key\",\"mud\",\"threat\",\"indonesian\",\"own\",\"swept\",\"wave\",\"car\",\"source\",\"less\",\"seed\",\"side\",\"heart\",\"buy\",\"saw\",\"loss\",\"face\",\"special\",\"infection\",\"daily\",\"bridge\",\"reached\",\"traffic\",\"request\",\"stations\",\"soon\",\"nuclear\",\"hands\",\"member\",\"includes\",\"washed\",\"powerful\",\"19\",\"destruction\",\"cost\",\"affecting\",\"anymore\",\"went\",\"anti\",\"held\",\"search\",\"always\",\"wait\",\"senegal\",\"bank\",\"closed\",\"nutrition\",\"tools\",\"shortages\",\"critical\",\"common\",\"o\",\"blood\",\"billion\",\"plants\",\"activity\",\"soap\",\"doesn't\",\"longer\",\"democratic\",\"trying\",\"latest\",\"jacmel\",\"eight\",\"purification\",\"sub\",\"warm\",\"earth\",\"pay\",\"established\",\"drink\",\"transportation\",\"china's\",\"myanmar\",\"towards\",\"society\",\"hospitals\",\"rubble\",\"approximately\",\"ongoing\",\"fields\",\"31\",\"flights\",\"lower\",\"deployed\",\"delivered\",\"2000\",\"perishable\",\"communication\",\"once\",\"yesterday\",\"leaders\",\"followed\",\"opposition\",\"livelihoods\",\"80\",\"evacuated\",\"neighbouring\",\"polio\",\"boats\",\"meals\",\"begin\",\"director\",\"immediately\",\"dengue\",\"treated\",\"growing\",\"leading\",\"feet\",\"sustainable\",\"milk\",\"ever\",\"permanent\",\"presidential\",\"look\",\"2004\",\"tablets\",\"environment\",\"meeting\",\"average\",\"kitchen\",\"canned\",\"saying\",\"adequate\",\"that's\",\"issues\",\"running\",\"prevention\",\"treat\",\"saint\",\"technical\",\"included\",\"fao\",\"limited\",\"iom\",\"al\",\"movement\",\"temperature\",\"carried\",\"helped\",\"concerned\",\"makeshift\",\"safety\",\"financial\",\"focus\",\"existing\",\"highly\",\"extreme\",\"structures\",\"civilians\",\"measles\",\"translate\",\"kilometres\",\"point\",\"completely\",\"though\",\"attack\",\"supported\",\"vehicles\",\"reuters\",\"mozambique\",\"seismic\",\"sending\",\"regarding\",\"tonight\",\"thing\",\"rapid\",\"prices\",\"income\",\"centers\",\"rebuilding\",\"niger\",\"visa\",\"developed\",\"rebuild\",\"impasse\",\"respiratory\",\"sites\",\"prepare\",\"form\",\"afternoon\",\"summer\",\"donation\",\"meet\",\"ngo\",\"trained\",\"alert\",\"york\",\"taliban\",\"effective\",\"resulted\",\"dollars\",\"isolated\",\"fall\",\"yes\",\"direct\",\"cooperation\",\"goave\",\"date\",\"man\",\"animals\",\"seasonal\",\"facing\",\"nigeria\",\"12th\",\"hear\",\"hits\",\"participate\",\"jobs\",\"remains\",\"richter\",\"storage\",\"feed\",\"top\",\"initial\",\"rising\",\"real\",\"organisation\",\"towns\",\"d\",\"supporting\",\"electric\",\"serve\",\"islands\",\"kashmir\",\"civilian\",\"mt\",\"donated\",\"afghan\",\"mainly\",\"arrive\",\"villagers\",\"valley\",\"completed\",\"populations\",\"islamic\",\"wounded\",\"vital\",\"what's\",\"re\",\"launched\",\"sudan\",\"respond\",\"32\",\"ong\",\"wife\",\"35\",\"practices\",\"fight\",\"funding\",\"resulting\",\"moving\",\"show\",\"statement\",\"www\",\"guinea\",\"batteries\",\"mostly\",\"base\",\"third\",\"feared\",\"weekend\",\"governments\",\"toilets\",\"commission\",\"parties\",\"whose\",\"cereal\",\"stranded\",\"entire\",\"salt\",\"fontamara\",\"insecurity\",\"pregnant\",\"lead\",\"telephone\",\"cards\",\"aids\",\"year's\",\"particular\",\"programmes\",\"degrees\",\"survive\",\"developing\",\"drainage\",\"typhoon\",\"solar\",\"write\",\"alive\",\"run\",\"amount\",\"alone\",\"usaid\",\"farm\",\"mm\",\"attention\",\"xinhua\",\"research\",\"islamabad\",\"banks\",\"issued\",\"pressure\",\"annual\",\"beginning\",\"moved\",\"eruption\",\"fishing\",\"effects\",\"speak\",\"travel\",\"required\",\"badly\",\"2008\",\"idps\",\"points\",\"grain\",\"affairs\",\"quickly\",\"active\",\"continuing\",\"northeast\",\"prone\",\"pakistani\",\"pacific\",\"khan\",\"rebels\",\"drop\",\"electrical\",\"watch\",\"amp\",\"oxfam\",\"jakarta\",\"33\",\"volcanic\",\"announced\",\"happen\",\"29\",\"crescent\",\"banda\",\"diarrhea\",\"deep\",\"volunteer\",\"truck\",\"cover\",\"internet\",\"delta\",\"present\",\"urban\",\"decades\",\"reduction\",\"somali\",\"authority\",\"delivery\",\"volcano\",\"avoid\",\"planting\",\"chronic\",\"aftermath\",\"zimbabwe\",\"danger\",\"makes\",\"bouquets\",\"similar\",\"cattle\",\"foot\",\"vaccine\",\"drugs\",\"study\",\"shortage\",\"phase\",\"bags\",\"experienced\",\"later\",\"policy\",\"meanwhile\",\"pumps\",\"sheeting\",\"vegetable\",\"opened\",\"poverty\",\"skin\",\"continuous\",\"2013\",\"extremely\",\"paper\",\"series\",\"zones\",\"sierra\",\"provides\",\"chinese\",\"losses\",\"mercy\",\"locations\",\"beneficiaries\",\"santo\",\"preparedness\",\"drive\",\"ny\",\"cargo\",\"nets\",\"washing\",\"association\",\"mid\",\"g\",\"gonaives\",\"electoral\",\"myself\",\"rest\",\"2001\",\"primary\",\"twitter\",\"growth\",\"confirmed\",\"joint\",\"cans\",\"fell\",\"targeted\",\"issue\",\"forget\",\"try\",\"recorded\",\"fear\",\"upper\",\"canada\",\"experience\",\"intervention\",\"cell\",\"cap\",\"violent\",\"calls\",\"75\",\"generators\",\"allow\",\"deal\",\"gressier\",\"begun\",\"1999\",\"flight\",\"starving\",\"woman\",\"northwest\",\"donor\",\"petit\",\"adding\",\"asked\",\"borne\",\"foundation\",\"institutions\",\"boat\",\"droughts\",\"influenza\",\"advice\",\"causes\",\"pakistan's\",\"conducted\",\"tens\",\"liberia\",\"illness\",\"vaccination\",\"hold\",\"largely\",\"raising\",\"bringing\",\"120\",\"devastation\",\"role\",\"2009\",\"example\",\"cent\",\"create\",\"minutes\",\"tree\",\"sorghum\",\"check\",\"produce\",\"frequent\",\"awareness\",\"sign\",\"wants\",\"thailand\",\"either\",\"sindh\",\"play\",\"starting\",\"lake\",\"bay\",\"2011\",\"business\",\"kabul\",\"contributions\",\"jan\",\"responsible\",\"grant\",\"constructed\",\"mass\",\"injuries\",\"lots\",\"epidemic\",\"bed\",\"organisations\",\"failed\",\"secretary\",\"southwest\",\"northeastern\",\"comes\",\"inundated\",\"price\",\"pictures\",\"wish\",\"haram\",\"boko\",\"numbers\",\"falling\",\"gave\",\"sanitary\",\"ethnic\",\"snowfall\",\"world's\",\"el\",\"proper\",\"park\",\"rate\",\"showers\",\"assembly\",\"former\",\"beach\",\"trapped\",\"happened\",\"icrc\",\"raised\",\"created\",\"prime\",\"visited\",\"i've\",\"symptoms\",\"tremors\",\"contamination\",\"event\",\"english\",\"appropriate\",\"people's\",\"thought\",\"prepared\",\"middle\",\"beijing\",\"traditional\",\"room\",\"father\",\"southeast\",\"aftershock\",\"toilet\",\"might\",\"majority\",\"iron\",\"finally\",\"r\",\"behind\",\"sure\",\"dams\",\"gone\",\"chief\",\"charge\",\"driver\",\"themselves\",\"priority\",\"animal\",\"agreement\",\"embassy\",\"2006\",\"operating\",\"seems\",\"gonna\",\"jerry\",\"seriously\",\"2002\",\"sugar\",\"sets\",\"pray\",\"identified\",\"greater\",\"data\",\"spend\",\"90\",\"flow\",\"met\",\"dangerous\",\"officers\",\"works\",\"pradesh\",\"grand\",\"fears\",\"resistant\",\"wide\",\"beans\",\"collapse\",\"religious\",\"covered\",\"ten\",\"muzaffarabad\",\"eating\",\"grants\",\"survey\",\"gonave\",\"pap\",\"concrete\",\"corps\",\"pre\",\"government's\",\"nearby\",\"events\",\"floodwaters\",\"restored\",\"importance\",\"measuring\",\"farms\",\"missions\",\"results\",\"regular\",\"previous\",\"record\",\"follow\",\"moment\",\"wash\",\"establishment\",\"carry\",\"sun\",\"increasingly\",\"explosion\",\"reaching\",\"cyclones\",\"funded\",\"700\",\"nor\",\"stocks\",\"photos\",\"economy\",\"vision\",\"basis\",\"range\",\"i'll\",\"undp\",\"illnesses\",\"millions\",\"cook\",\"associated\",\"gmt\",\"france\",\"nj\",\"spent\",\"250\",\"reservoirs\",\"meters\",\"oral\",\"failure\",\"whatever\",\"chemical\",\"infected\",\"incomplete\",\"terrorist\",\"receiving\",\"preparation\",\"urgently\",\"avenue\",\"leone\",\"improving\",\"fled\",\"sos\",\"worse\",\"complex\",\"k\",\"vegetables\",\"buried\",\"breeding\",\"list\",\"reportedly\",\"livelihood\",\"lying\",\"possibility\",\"standing\",\"dozens\",\"surface\",\"mountainous\",\"sewage\",\"800\",\"note\",\"course\",\"stricken\",\"word\",\"2007\",\"enable\",\"drug\",\"pollution\",\"jesus\",\"you're\",\"containers\",\"complete\",\"blocked\",\"involved\",\"highway\",\"friend\",\"kill\",\"agreed\",\"delhi\",\"vietnam\",\"communications\",\"beyond\",\"preparing\",\"sichuan\",\"mine\",\"catastrophe\",\"forcing\",\"whether\",\"offer\",\"personal\",\"planned\",\"freezing\",\"teachers\",\"partner\",\"felt\",\"orissa\",\"'m\",\"expect\",\"downpours\",\"administration\",\"boxes\",\"partnership\",\"haitians\",\"act\",\"nutritional\",\"rebel\",\"malawi\",\"committed\",\"du\",\"officer\",\"concerns\",\"progress\",\"board\",\"brother\",\"bengal\",\"roofs\",\"cayes\",\"mean\",\"green\",\"rail\",\"sand\",\"governmental\",\"installed\",\"urged\",\"fact\",\"showed\",\"calling\",\"claimed\",\"surrounding\",\"pain\",\"text\",\"question\",\"korea\",\"clinics\",\"mr\",\"nine\",\"java\",\"toys\",\"org\",\"fully\",\"garbage\",\"lava\",\"mosquitoes\",\"pneumonia\",\"industrial\",\"suspected\",\"wooden\",\"kilometers\",\"respect\",\"strengthening\",\"everybody\",\"grow\",\"fighters\",\"independent\",\"passed\",\"manhattan\",\"task\",\"read\",\"requirements\",\"suffer\",\"submerged\",\"ville\",\"2015\",\"landslide\",\"corn\",\"santa\",\"develop\",\"kachipul\",\"tarpaulins\",\"precipitation\",\"networks\",\"usa\",\"moderate\",\"asian\",\"wanted\",\"alternative\",\"corrugated\",\"parents\",\"doctor\",\"rations\",\"fallen\",\"varieties\",\"overall\",\"gotten\",\"indicate\",\"clearing\",\"2014\",\"therefore\",\"property\",\"wet\",\"tsunamis\",\"representatives\",\"consumption\",\"turned\",\"bureau\",\"trouble\",\"benefit\",\"mountains\",\"charity\",\"vast\",\"elderly\",\"meal\",\"biggest\",\"punjab\",\"release\",\"heavily\",\"spokesman\",\"spring\",\"ruling\",\"normally\",\"solution\",\"companies\",\"ones\",\"citizens\",\"constitutional\",\"celsius\",\"youth\",\"strengthen\",\"birth\",\"ocha\",\"finished\",\"00\",\"directly\",\"harvesting\",\"implemented\",\"ship\",\"train\",\"terms\",\"inadequate\",\"assessments\",\"unusually\",\"status\",\"availability\",\"contribute\",\"space\",\"reply\",\"transmission\",\"chad\",\"displacement\",\"cant\",\"disrupted\",\"les\",\"strategy\",\"worth\",\"towels\",\"plane\",\"metric\",\"msf\",\"flows\",\"highest\",\"48\",\"finish\",\"ensuring\",\"infectious\",\"rocked\",\"trade\",\"basin\",\"restoration\",\"share\",\"christ\",\"tajikistan\",\"japanese\",\"designed\",\"commercial\",\"initiative\",\"justice\",\"chlorine\",\"resume\",\"hurricanes\",\"roof\",\"presence\",\"goes\",\"sometimes\",\"flour\",\"accommodation\",\"utensils\",\"famine\",\"industry\",\"eyes\",\"offices\",\"itself\",\"ponds\",\"crises\",\"value\",\"turn\",\"eu\",\"malian\",\"self\",\"occur\",\"break\",\"challenges\",\"threats\",\"restore\",\"rule\",\"senior\",\"conference\",\"net\",\"stock\",\"techniques\",\"history\",\"court\",\"technology\",\"saving\",\"press\",\"mining\",\"dust\",\"broke\",\"estimates\",\"considered\",\"supplied\",\"opening\",\"lights\",\"ravaged\",\"transitional\",\"islamist\",\"dispatched\",\"positive\",\"parliament\",\"walls\",\"collaboration\",\"misery\",\"locusts\",\"pump\",\"quakes\",\"societies\",\"tidal\",\"decided\",\"setting\",\"clashes\",\"difficulties\",\"implementation\",\"takes\",\"condition\",\"headquarters\",\"combat\",\"slow\",\"fukushima\",\"prior\",\"metres\",\"repos\",\"we've\",\"dam\",\"harsh\",\"returned\",\"brooklyn\",\"bacteria\",\"wake\",\"42\",\"noted\",\"specific\",\"babies\",\"casualties\",\"released\",\"commodities\",\"planes\",\"fine\",\"worked\",\"prolonged\",\"43\",\"decision\",\"resource\",\"russian\",\"arriving\",\"demand\",\"chance\",\"costs\",\"patterns\",\"stress\",\"onset\",\"talk\",\"affect\",\"they're\",\"neighborhood\",\"else\",\"taiwan\",\"45\",\"approach\",\"nias\",\"maximum\",\"rehydration\",\"door\",\"oh\",\"raise\",\"ap\",\"extensive\",\"radioactive\",\"uk\",\"evacuate\",\"survival\",\"step\",\"03\",\"domestic\",\"america\",\"resettlement\",\"children's\",\"aimed\",\"intense\",\"inter\",\"rainwater\",\"tinyurl\",\"risks\",\"square\",\"effect\",\"interventions\",\"desert\",\"australian\",\"thus\",\"erosion\",\"refuge\",\"learn\",\"surveillance\",\"expressed\",\"paix\",\"pick\",\"assisted\",\"bamboo\",\"medication\",\"institute\",\"fast\",\"looks\",\"destroying\",\"allowed\",\"viral\",\"haitien\",\"dominican\",\"laboratory\",\"upon\",\"borders\",\"profit\",\"rather\",\"european\",\"concerning\",\"coal\",\"tremor\",\"vote\",\"brothers\",\"cars\",\"wood\",\"cereals\",\"functioning\",\"cruz\",\"engaged\",\"happening\",\"totally\",\"rapidly\",\"truncated\",\"sectors\",\"experiencing\",\"stoves\",\"lol\",\"yangtze\",\"age\",\"navy\",\"candles\",\"markets\",\"padang\",\"cope\",\"cassava\",\"min\",\"nurses\",\"believe\",\"helps\",\"bus\",\"facility\",\"map\",\"british\",\"mom\",\"satellite\",\"channel\",\"registered\",\"fertilizer\",\"reason\",\"driving\",\"rock\",\"selling\",\"matter\",\"ill\",\"petion\",\"neighboring\",\"video\",\"sir\",\"strategic\",\"locally\",\"update\",\"delma\",\"identify\",\"talking\",\"locust\",\"stand\",\"campaigns\",\"numerous\",\"vegetation\",\"pasture\",\"lt\",\"fruit\",\"mortality\",\"forward\",\"mothers\",\"indonesia's\",\"commune\",\"girls\",\"'\",\"reporting\",\"single\",\"gloves\",\"dark\",\"becoming\",\"fault\",\"finding\",\"walk\",\"establish\",\"voluntary\",\"delivering\",\"measured\",\"predicted\",\"writing\",\"integrated\",\"130\",\"waterborne\",\"breaking\",\"balochistan\",\"fuck\",\"elevation\",\"passengers\",\"register\",\"railway\",\"conservation\",\"conduct\",\"settlements\",\"staying\",\"harvests\",\"maintenance\",\"prayers\",\"web\",\"l\",\"informed\",\"phenomenon\",\"pam\",\"floor\",\"toxic\",\"hong\",\"sell\",\"routes\",\"strongest\",\"playing\",\"lord\",\"girl\",\"surge\",\"constitution\",\"seeking\",\"underground\",\"remained\",\"focused\",\"construct\",\"patient\",\"whom\",\"democracy\",\"previously\",\"worldwide\",\"producing\",\"certain\",\"transfer\",\"logistical\",\"militia\",\"employment\",\"migration\",\"ability\",\"bamako\",\"x\",\"congo\",\"seeing\",\"medan\",\"commitment\",\"communal\",\"maintain\",\"quick\",\"driven\",\"enter\",\"requesting\",\"rescuers\",\"mali's\",\"hundred\",\"tarpaulin\",\"type\",\"leader\",\"coordinate\",\"afghans\",\"willing\",\"2003\",\"strain\",\"isn't\",\"studies\",\"hampered\",\"organized\",\"nairobi\",\"clinic\",\"require\",\"responsibility\",\"fundraising\",\"dehydration\",\"responding\",\"gujarat\",\"probably\",\"polluted\",\"manage\",\"threatened\",\"governance\",\"yields\",\"factors\",\"disposal\",\"purchase\",\"dec\",\"leaves\",\"embankments\",\"warnings\",\"mats\",\"sustained\",\"individuals\",\"mudslides\",\"swollen\",\"guys\",\"internally\",\"sufficient\",\"creating\",\"groundwater\",\"se\",\"ii\",\"scheduled\",\"linked\",\"cite\",\"usually\",\"instead\",\"containing\",\"ruined\",\"weapons\",\"na\",\"aims\",\"returning\",\"alleged\",\"steps\",\"generally\",\"productivity\",\"tectonic\",\"till\",\"biscuits\",\"internal\",\"gap\",\"actions\",\"unable\",\"shows\",\"laws\",\"boreholes\",\"portable\",\"gourdes\",\"round\",\"burning\",\"amid\",\"impacts\",\"computer\",\"chartered\",\"specialists\",\"join\",\"fleeing\",\"serving\",\"shut\",\"37\",\"diapers\",\"shit\",\"reform\",\"passing\",\"remaining\",\"immigration\",\"implementing\",\"mitigation\",\"tank\",\"geological\",\"equipped\",\"malnourished\",\"testing\",\"nov\",\"television\",\"shook\",\"antibiotics\",\"responded\",\"website\",\"produced\",\"operational\",\"evidence\",\"assess\",\"cycle\",\"contribution\",\"uprooted\",\"canal\",\"financing\",\"plate\",\"countryside\",\"timely\",\"52\",\"usd\",\"territory\",\"underway\",\"crazy\",\"trauma\",\"55\",\"closely\",\"branch\",\"legal\",\"blocks\",\"spanish\",\"fort\",\"multiple\",\"uganda\",\"strikes\",\"smaller\",\"flashlights\",\"college\",\"belg\",\"requested\",\"95\",\"vitamin\",\"cooked\",\"investment\",\"fed\",\"exposed\",\"budget\",\"moisture\",\"accompanied\",\"assam\",\"relatively\",\"conducting\",\"eye\",\"sahel\",\"account\",\"candidates\",\"emergencies\",\"canadian\",\"bitch\",\"australia\",\"hotel\",\"f\",\"v\",\"forests\",\"size\",\"elected\",\"actually\",\"indicated\",\"survived\",\"suicide\",\"cultivation\",\"removal\",\"besides\",\"division\",\"stagnant\",\"consisting\",\"lived\",\"terrorism\",\"cnn\",\"nwfp\",\"labour\",\"abroad\",\"relevant\",\"representative\",\"india's\",\"understanding\",\"christian\",\"count\",\"thousand\",\"drc\",\"potable\",\"preventing\",\"offered\",\"federal\",\"logistics\",\"rocks\",\"landing\",\"muslim\",\"fortified\",\"militants\",\"potato\",\"hepatitis\",\"mount\",\"ways\",\"heating\",\"terrain\",\"shipment\",\"won't\",\"36\",\"kandahar\",\"hiv\",\"goal\",\"promotion\",\"independence\",\"keeping\",\"jersey\",\"sad\",\"professional\",\"temporarily\",\"desperate\",\"reactor\",\"karachi\",\"relatives\",\"stuff\",\"elements\",\"extent\",\"impassable\",\"himalayan\",\"alliance\",\"climatic\",\"view\",\"coupled\",\"ha\",\"block\",\"husband\",\"cafe\",\"epicenter\",\"38\",\"collection\",\"pm\",\"canals\",\"convoy\",\"powder\",\"swarms\",\"placed\",\"framework\",\"arms\",\"dropped\",\"skills\",\"repairing\",\"recover\",\"saline\",\"treating\",\"allowing\",\"maputo\",\"iran\",\"elsewhere\",\"kit\",\"arrival\",\"vaccines\",\"impossible\",\"dried\",\"fodder\",\"distributions\",\"vessel\",\"dogs\",\"350\",\"stopped\",\"supplementary\",\"rs\",\"relocation\",\"finance\",\"bottled\",\"raining\",\"heads\",\"legislative\",\"aug\",\"nutritious\",\"thinking\",\"dhaka\",\"speed\",\"bag\",\"improvement\",\"spreading\",\"infestation\",\"tanzania\",\"constructing\",\"vehicle\",\"horn\",\"metal\",\"lies\",\"online\",\"nan\",\"weak\",\"cotton\",\"wanna\",\"cyber\",\"municipal\",\"township\",\"generous\",\"frontier\",\"ended\",\"pilot\",\"1000\",\"dependent\",\"healthcare\",\"promote\",\"sudden\",\"h\",\"covers\",\"battered\",\"counting\",\"furthermore\",\"kg\",\"plates\",\"kong\",\"installation\",\"administered\",\"significantly\",\"extra\",\"stuck\",\"catastrophic\",\"implement\",\"sister\",\"links\",\"idea\",\"adra\",\"repairs\",\"bottles\",\"procedures\",\"clouds\",\"white\",\"lashed\",\"who's\",\"contributed\",\"transported\",\"farmland\",\"lose\",\"wild\",\"damages\",\"crimes\",\"mental\",\"ordered\",\"supplying\",\"specialist\",\"coalition\",\"store\",\"900\",\"potentially\",\"peacekeeping\",\"structure\",\"metre\",\"facilitate\",\"executive\",\"declared\",\"lakes\",\"words\",\"transporting\",\"lands\",\"flying\",\"surgical\",\"acts\",\"sorry\",\"grains\",\"apocalypse\",\"bangkok\",\"century\",\"warming\",\"staple\",\"crowded\",\"talca\",\"awaiting\",\"formed\",\"substantial\",\"ration\",\"priorities\",\"hurt\",\"corruption\",\"generator\",\"vomiting\",\"pur\",\"acres\",\"bread\",\"assisting\",\"destroy\",\"successfully\",\"moreover\",\"scattered\",\"believed\",\"attempt\",\"washington\",\"situations\",\"secondary\",\"caught\",\"precautions\",\"idp\",\"nurse\",\"ash\",\"ice\",\"extended\",\"fishermen\",\"1st\",\"watan\",\"putting\",\"wrote\",\"grazing\",\"combination\",\"structural\",\"ti\",\"amounts\",\"salts\",\"convoys\",\"zero\",\"mon\",\"kathmandu\",\"marc\",\"approved\",\"methods\",\"ring\",\"restoring\",\"terrible\",\"sheet\",\"halloween\",\"mild\",\"tragedy\",\"encourage\",\"aerial\",\"nobody\",\"transmitted\",\"branches\",\"class\",\"alot\",\"''\",\"rehabilitate\",\"tamil\",\"ahead\",\"dr\",\"minimum\",\"challenge\",\"test\",\"engineers\",\"le\",\"tried\",\"signed\",\"unprecedented\",\"cluster\",\"yangon\",\"1998\",\"grace\",\"standards\",\"inland\",\"bon\",\"tetanus\",\"afraid\",\"ships\",\"pieces\",\"violations\",\"coordinated\",\"mixed\",\"havoc\",\"stage\",\"46\",\"cutting\",\"citizen\",\"meat\",\"businesses\",\"plaine\",\"hill\",\"mogadishu\",\"neighbors\",\"mariani\",\"voice\",\"final\",\"ifrc\",\"poorest\",\"overnight\",\"giant\",\"jean\",\"cws\",\"medium\",\"moves\",\"bomb\",\"coats\",\"beds\",\"export\",\"figures\",\"pumping\",\"increases\",\"oct\",\"downtown\",\"scholarship\",\"deforestation\",\"radiation\",\"schemes\",\"protein\",\"enhance\",\"irrigated\",\"transit\",\"changing\",\"therapeutic\",\"populated\",\"changes\",\"promised\",\"multi\",\"listen\",\"supplements\",\"coup\",\"rescued\",\"collecting\",\"timber\",\"feb\",\"review\",\"southwestern\",\"psychosocial\",\"epidemics\",\"quilts\",\"illegal\",\"struggling\",\"packets\",\"typhoid\",\"organic\",\"carbon\",\"purifying\",\"yellow\",\"slowly\",\"parliamentary\",\"apartment\",\"covering\",\"became\",\"collected\",\"generation\",\"monitor\",\"hopes\",\"extremist\",\"corner\",\"listening\",\"host\",\"kept\",\"constituci\\u201a\\u00e0\\u00f6\\u201a\\u00e2\\u2022n\",\"ferry\",\"certificate\",\"tv\",\"gets\",\"burst\",\"assets\",\"maybe\",\"opportunity\",\"downpour\",\"meetings\",\"registration\",\"sky\",\"installing\",\"threatening\",\"mark\",\"hazards\",\"talks\",\"yard\",\"interested\",\"scientists\",\"fertile\",\"female\",\"dear\",\"infos\",\"replace\",\"package\",\"muddy\",\"thirst\",\"black\",\"story\",\"commissioner\",\"contain\",\"tuareg\",\"dollar\",\"planted\",\"adults\",\"peak\",\"nature\",\"goma\",\"separate\",\"immunization\",\"procurement\",\"organize\",\"coordinator\",\"degree\",\"africa's\",\"41\",\"decrease\",\"delay\",\"cry\",\"defence\",\"comprehensive\",\"poles\",\"ethiopian\",\"fly\",\"educational\",\"observed\",\"crs\",\"stem\",\"nazon\",\"darfur\",\"madagascar\",\"seek\",\"tabarre\",\"gathered\",\"arrested\",\"subsequent\",\"winters\",\"mudslide\",\"design\",\"insect\",\"preliminary\",\"incidents\",\"residential\",\"drilling\",\"collect\",\"ourselves\",\"primarily\",\"resident\",\"islamists\",\"quantity\",\"worried\",\"trip\",\"larger\",\"darling\",\"coffee\",\"secure\",\"situated\",\"ave\",\"44\",\"toward\",\"identification\",\"saved\",\"louis\",\"path\",\"chaos\",\"gives\",\"meningitis\",\"estimate\",\"faced\",\"specially\",\"mouth\",\"neither\",\"simple\",\"bombing\",\"container\",\"infestations\",\"russia\",\"success\",\"sections\",\"20\\u00ac\\u00a8\\u201a\\u00e0\\u00fb\",\"chf\",\"belt\",\"kenyan\",\"grown\",\"mauritania\",\"shoes\",\"comtex\",\"nargis\",\"protests\",\"partially\",\"usual\",\"struggle\",\"shallow\",\"erratic\",\"39\",\"domingo\",\"complications\",\"ur\",\"sold\",\"sweep\",\"repaired\",\"uses\",\"policies\",\"concepci\\u201a\\u00e0\\u00f6\\u201a\\u00e2\\u2022n\",\"bihar\",\"signal\",\"watching\",\"raging\",\"ruelle\",\"unless\",\"jolted\",\"id\",\"pic\",\"malaysia\",\"tuberculosis\",\"zambia\",\"virtually\",\"faith\",\"mechanisms\",\"goats\",\"smoke\",\"dpa\",\"images\",\"fertilizers\",\"pledges\",\"slopes\",\"useful\",\"canape\",\"phones\",\"staten\",\"hydropower\",\"rates\",\"landfall\",\"everywhere\",\"classes\",\"solid\",\"vert\",\"couple\",\"proposed\",\"regime\",\"calm\",\"easily\",\"hasn't\",\"seasons\",\"wall\",\"escaped\",\"cement\",\"tea\",\"incident\",\"cleanup\",\"communicable\",\"managed\",\"47\",\"arid\",\"blow\",\"telecommunication\",\"reducing\",\"forecasting\",\"club\",\"overflowing\",\"stability\",\"initiatives\",\"delayed\",\"survivor\",\"vulnerability\",\"57\",\"54\",\"accused\",\"flee\",\"soils\",\"hardest\",\"newly\",\"german\",\"2nd\",\"marine\",\"spraying\",\"attributed\",\"corpses\",\"churches\",\"pro\",\"hygienic\",\"sense\",\"bean\",\"dad\",\"boost\",\"pour\",\"women's\",\"sweet\",\"j\",\"supporters\",\"remove\",\"delegation\",\"cropping\",\"combined\",\"email\",\"colombo\",\"rubber\",\"fm\",\"upcoming\",\"millet\",\"worker\",\"somebody\",\"allocated\",\"feuilles\",\"160\",\"intestinal\",\"pulses\",\"da\",\"fill\",\"launch\",\"exposure\",\"shot\",\"variety\",\"aim\",\"hunan\",\"boy\",\"target\",\"archipelago\",\"remember\",\"reopening\",\"welcome\",\"ali\",\"drain\",\"okay\",\"movements\",\"thunderstorms\",\"sound\",\"chi\",\"repatriation\",\"named\",\"suspended\",\"blanket\",\"hydro\",\"vice\",\"rooms\",\"poultry\",\"expert\",\"amongst\",\"sharing\",\"triggering\",\"downstream\",\"learning\",\"y\",\"departments\",\"nice\",\"packs\",\"physical\",\"76\",\"heading\",\"dirty\",\"modern\",\"opportunities\",\"figure\",\"position\",\"miragoane\",\"53\",\"riviere\",\"son\",\"double\",\"compared\",\"fair\",\"committees\",\"rainfalls\",\"mind\",\"forecasts\",\"jackets\",\"table\",\"supposed\",\"manager\",\"destructive\",\"worsening\",\"focusing\",\"damn\",\"dire\",\"hey\",\"verify\",\"frequently\",\"killings\",\"pipes\",\"heaviest\",\"classrooms\",\"cracked\",\"contagious\",\"mess\",\"powers\",\"toiletries\",\"participants\",\"add\",\"california\",\"rubbles\",\"except\",\"congress\",\"philippines\",\"morne\",\"excessive\",\"bilateral\",\"excess\",\"gate\",\"packed\",\"trust\",\"reaches\",\"tube\",\"minor\",\"rich\",\"chemicals\",\"effectively\",\"explosions\",\"1997\",\"34\",\"pmi\",\"belongings\",\"stored\",\"deficiency\",\"heatwave\",\"cuba\",\"floodwater\",\"clinical\",\"damaging\",\"observers\",\"dozen\",\"predict\",\"guangdong\",\"paddy\",\"en\",\"recurrent\",\"accumulation\",\"autumn\",\"install\",\"owned\",\"forgot\",\"questions\",\"jeremie\",\"expensive\",\"05\",\"governor\",\"books\",\"tornadoes\",\"explained\",\"stronger\",\"sheep\",\"counties\",\"airlifted\",\"insecticide\",\"endemic\",\"micro\",\"maternal\",\"airlift\",\"external\",\"125\",\"cleared\",\"fatal\",\"region's\",\"northwestern\",\"meulaboh\",\"individual\",\"weakened\",\"flowing\",\"drowned\",\"tide\",\"habitat\",\"deployment\",\"veterinary\",\"qaeda\",\"corporation\",\"gallon\",\"mag\",\"judicial\",\"specifically\",\"agenda\",\"separatist\",\"soichi\",\"guard\",\"peshawar\",\"pest\",\"surviving\",\"yogyakarta\",\"clercine\",\"described\",\"suppose\",\"floors\",\"criminal\",\"litres\",\"notice\",\"objective\",\"latrine\",\"resistance\",\"ward\",\"output\",\"generating\",\"advices\",\"intensive\",\"exchange\",\"mongolia\",\"pastoral\",\"credit\",\"coastline\",\"complicated\",\"ki\",\"buckets\",\"digging\",\"plus\",\"resilience\",\"230\",\"ministers\",\"49\",\"cv\",\"reservoir\",\"geneva\",\"administrative\",\"medications\",\"basins\",\"runs\",\"angry\",\"generously\",\"roofing\",\"anticipated\",\"ban\",\"mnla\",\"initially\",\"types\",\"creole\",\"partly\",\"san\",\"naval\",\"mais\",\"evacuating\",\"dog\",\"06\",\"surges\",\"promoting\",\"mile\",\"pesticides\",\"3rd\",\"recovered\",\"drains\",\"germany\",\"sisters\",\"haemorrhagic\",\"cyclonic\",\"burma\",\"dream\",\"epicentre\",\"comprising\",\"learned\",\"diesel\",\"holding\",\"wipes\",\"crew\",\"quoted\",\"nigeria's\",\"handle\",\"irrawaddy\",\"loan\",\"marooned\",\"brutal\",\"edge\",\"consider\",\"determine\",\"telecommunications\",\"locals\",\"aware\",\"liberation\",\"pipeline\",\"cousin\",\"congratulate\",\"haze\",\"angola\",\"recommendations\",\"gps\",\"respectively\",\"soya\",\"solutions\",\"attacked\",\"strategies\",\"teacher\",\"influence\",\"reasons\",\"kot\",\"core\",\"safely\",\"strike\",\"subject\",\"coverage\",\"busy\",\"establishing\",\"hills\",\"consequences\",\"thirsty\",\"prefabricated\",\"industries\",\"inhabitants\",\"hail\",\"bases\",\"charitable\",\"gao\",\"supports\",\"halted\",\"game\",\"loaded\",\"inundation\",\"59\",\"absence\",\"viruses\",\"blue\",\"processing\",\"rwanda\",\"monthly\",\"joke\",\"friendly\",\"requires\",\"formation\",\"bid\",\"burmese\",\"thermal\",\"plz\",\"windows\",\"dialogue\",\"engineer\",\"knowledge\",\"participation\",\"minute\",\"signs\",\"efficient\",\"shops\",\"shore\",\"translated\",\"hazard\",\"overcrowded\",\"deputy\",\"thick\",\"warehouses\",\"packing\",\"andhra\",\"disruption\",\"invasion\",\"deliveries\",\"evacuees\",\"plains\",\"wrong\",\"europe\",\"praying\",\"linking\",\"miss\",\"blamed\",\"accidents\",\"cables\",\"blew\",\"sewerage\",\"valleys\",\"rival\",\"somewhere\",\"hurry\",\"clearly\",\"prep\",\"addressing\",\"imposed\",\"lightning\",\"4th\",\"bacterial\",\"rainfed\",\"mph\",\"israel\",\"crucial\",\"consist\",\"passenger\",\"ow\",\"exercise\",\"stores\",\"looting\",\"soup\",\"thoughts\",\"fruits\",\"depression\",\"swiss\",\"formula\",\"inform\",\"rehabilitated\",\"difficulty\",\"nation's\",\"amazing\",\"crews\",\"consecutive\",\"accept\",\"dykes\",\"diarrhoeal\",\"undertake\",\"names\",\"flu\",\"hazardous\",\"journalists\",\"liquid\",\"empty\",\"impacted\",\"prevented\",\"packages\",\"trains\",\"trafficking\",\"controlled\",\"posts\",\"tackle\",\"shop\",\"newspaper\",\"asean\",\"garden\",\"adult\",\"entering\",\"identifying\",\"targeting\",\"accident\",\"yield\",\"surgery\",\"efficiency\",\"voters\",\"witnesses\",\"inaccessible\",\"potatoes\",\"blog\",\"agro\",\"herat\",\"mars\",\"eradication\",\"capsized\",\"warmer\",\"blowing\",\"forms\",\"cracks\",\"wow\",\"pastoralists\",\"buying\",\"intensity\",\"dadaab\",\"pleas\",\"connecting\",\"americans\",\"dinner\",\"pattern\",\"anse\",\"ambassador\",\"tourism\",\"appeared\",\"link\",\"mumbai\",\"tehsil\",\"stands\",\"kilometre\",\"resumed\",\"cleaned\",\"visiting\",\"shift\",\"nato\",\"consideration\",\"kidal\",\"typhoons\",\"interim\",\"broad\",\"arab\",\"panic\",\"pupils\",\"sporadic\",\"frequency\",\"undersea\",\"parasites\",\"strength\",\"stated\",\"super\",\"crushed\",\"selected\",\"brief\",\"corporate\",\"otherwise\",\"apart\",\"undertaken\",\"arrangements\",\"matching\",\"eligible\",\"stages\",\"semi\",\"huts\",\"transition\",\"monsoonal\",\"erupted\",\"rendered\",\"honey\",\"palm\",\"poll\",\"58\",\"decisions\",\"73\",\"smell\",\"conflicts\",\"blackout\",\"manner\",\"regard\",\"risen\",\"roi\",\"blast\",\"upstream\",\"tented\",\"salinity\",\"buses\",\"pests\",\"targets\",\"ceasefire\",\"tunnel\",\"scene\",\"accountability\",\"unknown\",\"loans\",\"reforms\",\"decade\",\"mineral\",\"operate\",\"thunderstorm\",\"insects\",\"rajanpur\",\"bush\",\"resolution\",\"pack\",\"casualty\",\"extension\",\"forestry\",\"shortly\",\"published\",\"burkina\",\"wounds\",\"welfare\",\"cable\",\"cancer\",\"unsafe\",\"depend\",\"pledged\",\"turning\",\"furniture\",\"flattened\",\"arrest\",\"contract\",\"dysentery\",\"minustah\",\"peacekeepers\",\"interest\",\"leadership\",\"withstand\",\"encouraging\",\"embankment\",\"pls\",\"ecowas\",\"evacuations\",\"plantations\",\"standard\",\"iraq\",\"scarce\",\"pandemic\",\"artibonite\",\"twelve\",\"paid\",\"channels\",\"93\",\"peaceful\",\"easy\",\"actors\",\"counter\",\"hoping\",\"crime\",\"palace\",\"peas\",\"changed\",\"migrants\",\"jacques\",\"bye\",\"onto\",\"involving\",\"melt\",\"japan's\",\"suitable\",\"aren't\",\"drops\",\"thank's\",\"220\",\"purchased\",\"institutional\",\"precaution\",\"deficit\",\"advanced\",\"exactly\",\"ending\",\"apparently\",\"bhuj\",\"investigation\",\"que\",\"southeastern\",\"maldives\",\"details\",\"lessons\",\"picture\",\"hemorrhagic\",\"backed\",\"flat\",\"highlands\",\"cyclon\",\"firm\",\"lift\",\"hate\",\"species\",\"catholic\",\"compounded\",\"mobilized\",\"connected\",\"organised\",\"worsen\",\"04\",\"tensions\",\"quetta\",\"peanut\",\"marie\",\"greatest\",\"melting\",\"petionville\",\"beneath\",\"workshop\",\"shown\",\"smallholder\",\"walking\",\"85\",\"litre\",\"injuring\",\"mines\",\"mechanism\",\"wine\",\"pushed\",\"clock\",\"express\",\"sexual\",\"haven\",\"cool\",\"ripped\",\"surgeons\",\"mandate\",\"multilateral\",\"beira\",\"quantities\",\"scores\",\"gaps\",\"cough\",\"pet\",\"plague\",\"let's\",\"kinds\",\"decline\",\"offensive\",\"mazar\",\"pool\",\"echo\",\"expansion\",\"foreigners\",\"welcomed\",\"highways\",\"coasts\",\"critically\",\"suffers\",\"h1n1\",\"spaces\",\"escape\",\"technician\",\"coordinating\",\"09\",\"filled\",\"localized\",\"abandoned\",\"creation\",\"leptospirosis\",\"ton\",\"folks\",\"incessant\",\"evaluation\",\"harvested\",\"airlines\",\"mwen\",\"peninsula\",\"contributing\",\"inches\",\"muscle\",\"killer\",\"stressed\",\"duty\",\"civic\",\"expertise\",\"document\",\"donating\",\"cloud\",\"seedlings\",\"forcibly\",\"tokyo\",\"singapore\",\"crowd\",\"outskirts\",\"blackouts\",\"gardens\",\"seats\",\"exacerbated\",\"stro\",\"pretty\",\"110\",\"62\",\"herders\",\"interseismic\",\"basti\",\"inundating\",\"uzbekistan\",\"enhanced\",\"forgotten\",\"65\",\"faso\",\"depleted\",\"sit\",\"traveling\",\"poorly\",\"unstable\",\"joined\",\"outreach\",\"pierre\",\"reopen\",\"regularly\",\"compensation\",\"chlorination\",\"records\",\"hai\",\"fix\",\"snows\",\"historic\",\"localities\",\"factory\",\"attended\",\"tin\",\"pastures\",\"quang\",\"08\",\"nutrients\",\"born\",\"sans\",\"maintained\",\"01\",\"demonstrations\",\"obtain\",\"successful\",\"capable\",\"posed\",\"sought\",\"steel\",\"densely\",\"rehabilitating\",\"officially\",\"xai\",\"destitute\",\"ecological\",\"assault\",\"unity\",\"snowfalls\",\"gunmen\",\"lowland\",\"instability\",\"hitting\",\"mentioned\",\"et\",\"quarters\",\"improvements\",\"disrupting\",\"juice\",\"caritas\",\"raw\",\"handling\",\"chicken\",\"fierce\",\"nord\",\"rainstorms\",\"speaking\",\"solidarity\",\"63\",\"trash\",\"spot\",\"ashore\",\"omg\",\"involvement\",\"tarps\",\"cooling\",\"lahore\",\"brown\",\"settlement\",\"apply\",\"vitamins\",\"culture\",\"nutrient\",\"anywhere\",\"principles\",\"mekong\",\"somalis\",\"iodine\",\"vaccinated\",\"peoples\",\"ni\\u00f1o\",\"bloody\",\"burial\",\"towers\",\"protective\",\"cote\",\"eruptions\",\"unidentified\",\"happens\",\"findings\",\"bathing\",\"gender\",\"interior\",\"periods\",\"insurgents\",\"charges\",\"seeks\",\"allocation\",\"discussed\",\"ppl\",\"gain\",\"persistent\",\"reactors\",\"scheme\",\"negative\",\"adjoining\",\"we'll\",\"reconciliation\",\"140\",\"stable\",\"witnessed\",\"music\",\"streams\",\"stones\",\"summit\",\"approaching\",\"thatched\",\"falls\",\"explain\",\"vessels\",\"telling\",\"perfect\",\"possibly\",\"ease\",\"barley\",\"nationwide\",\"insufficient\",\"poured\",\"depth\",\"fleet\",\"scary\",\"tax\",\"dug\",\"influx\",\"sat\",\"seem\",\"capacities\",\"leaking\",\"77\",\"drinkable\",\"swathes\",\"inputs\",\"gusts\",\"wonder\",\"choice\",\"psychological\",\"terror\",\"shifted\",\"root\",\"burned\",\"micronutrient\",\"collapsing\",\"syndrome\",\"catchment\",\"advocacy\",\"fixed\",\"hydroelectric\",\"07\",\"ya\",\"pull\",\"atlantic\",\"perhaps\",\"circumstances\",\"edh\",\"barracks\",\"\\u201a\\u00e0\\u00f6\\u221a\\u00fc\",\"seas\",\"turkey\",\"nigerian\",\"bought\",\"machine\",\"dealing\",\"insurgency\",\"pipe\",\"irene\",\"narrow\",\"teh\",\"stepped\",\"science\",\"shovels\",\"cabinet\",\"adjacent\",\"bar\",\"repeat\",\"clearance\",\"avalanches\",\"safer\",\"dist\",\"ruled\",\"cloths\",\"yar\",\"original\",\"appealed\",\"ran\",\"ou\",\"loose\",\"lighting\",\"susceptible\",\"rushed\",\"overseas\",\"rough\",\"applied\",\"aedes\",\"enormous\",\"admitted\",\"orange\",\"grid\",\"afghanistan's\",\"lucky\",\"noodles\",\"fertility\",\"professionals\",\"repeated\",\"effected\",\"journey\",\"crossing\",\"voter\",\"beautiful\",\"context\",\"shifting\",\"korean\",\"syria\",\"cameroon\",\"shape\",\"adopt\",\"encouraged\",\"dairy\",\"zhejiang\",\"overflow\",\"malarial\",\"breath\",\"fourth\",\"protecting\",\"recommended\",\"n't\",\"knew\",\"bio\",\"race\",\"clogged\",\"tower\",\"expand\",\"shake\",\"bagh\",\"listed\",\"reading\",\"served\",\"mobilization\",\"scared\",\"volcanoes\",\"healthy\",\"hall\",\"expired\",\"model\",\"filtration\",\"mobilize\",\"presented\",\"wfp's\",\"doors\",\"devices\",\"gaza\",\"rose\",\"freshwater\",\"indus\",\"balance\",\"rainning\",\"footage\",\"sachets\",\"hired\",\"achieved\",\"tweets\",\"starts\",\"greatly\",\"gouvernment\",\"depending\",\"preval\",\"adress\",\"expanded\",\"prospects\",\"humans\",\"updated\",\"screening\",\"sickness\",\"arrives\",\"sukkur\",\"relations\",\"actively\",\"jampur\",\"favourable\",\"recieved\",\"generosity\",\"masks\",\"detection\",\"polls\",\"prelate\",\"visits\",\"floating\",\"explosive\",\"somalia's\",\"instance\",\"arranged\",\"twice\",\"mix\",\"lakh\",\"newyork\",\"renewed\",\"namibia\",\"ranging\",\"purpose\",\"yunnan\",\"advantage\",\"travelling\",\"appear\",\"content\",\"category\",\"twenty\",\"benefited\",\"minusma\",\"he's\",\"resort\",\"involves\",\"drowning\",\"sessions\",\"plume\",\"loved\",\"wastewater\",\"jiangxi\",\"anyway\",\"specialized\",\"aggravated\",\"yuan\",\"tired\",\"jammu\",\"boil\",\"fujian\",\"renewable\",\"ghulam\",\"sanctions\",\"plagued\",\"battle\",\"recieve\",\"closer\",\"aide\",\"shah\",\"pahore\",\"batticaloa\",\"connection\",\"crater\",\"archives\",\"swamped\",\"gradually\",\"returnees\",\"arable\",\"criticism\",\"entrance\",\"subscribe\",\"kenya's\",\"focuses\",\"developments\",\"showing\",\"bigger\",\"pond\",\"distt\",\"claims\",\"approaches\",\"79\",\"9th\",\"51\",\"holes\",\"coping\",\"appears\",\"researchers\",\"direction\",\"assessing\",\"steep\",\"smashed\",\"nicolas\",\"wing\",\"bulk\",\"morbidity\",\"rubbish\",\"240\",\"defense\",\"shock\",\"cited\",\"consists\",\"paramilitary\",\"nights\",\"threaten\",\"meaning\",\"kalimantan\",\"occupation\",\"prisoners\",\"liter\",\"pounded\",\"stomach\",\"deteriorating\",\"guangxi\",\"necessities\",\"ministries\",\"announcement\",\"closest\",\"diarrheal\",\"offering\",\"180\",\"whilst\",\"valued\",\"provisional\",\"bill\",\"becomes\",\"rift\",\"sides\",\"tides\",\"blend\",\"crashed\",\"abuse\",\"supplement\",\"warn\",\"alleviate\",\"indicates\",\"recede\",\"timbuktu\",\"terrorists\",\"introduced\",\"bike\",\"infant\",\"hook\",\"kafou\",\"michel\",\"tanker\",\"incidence\",\"origin\",\"candidate\",\"threatens\",\"matters\",\"tough\",\"contained\",\"requests\",\"450\",\"glad\",\"petite\",\"fifth\",\"boys\",\"accounting\",\"warehouse\",\"degradation\",\"parcels\",\"fired\",\"gov\",\"characterized\",\"handed\",\"brick\",\"exhausted\",\"analysis\",\"angolan\",\"170\",\"seized\",\"addressed\",\"excuse\",\"measure\",\"popular\",\"hearing\",\"adversely\",\"hell\",\"dropping\",\"lagonave\",\"daiichi\",\"male\",\"baluchistan\",\"lay\",\"tho\",\"shaking\",\"institution\",\"participating\",\"options\",\"product\",\"ruins\",\"rebuilt\",\"tant\",\"lamentin\",\"breast\",\"provisions\",\"bottom\",\"summary\",\"gift\",\"confirm\",\"broadcast\",\"discharged\",\"eaten\",\"none\",\"redcross\",\"cultural\",\"piece\",\"ex\",\"nursing\",\"occurs\",\"practice\",\"suggest\",\"traumatized\",\"vocational\",\"knows\",\"imagine\",\"updates\",\"royal\",\"accommodate\",\"shocks\",\"fluids\",\"midnight\",\"recruitment\",\"relationship\",\"dig\",\"tells\",\"yo\",\"distance\",\"camping\",\"starvation\",\"climb\",\"5th\",\"older\",\"restart\",\"mail\",\"compound\",\"interests\",\"innocent\",\"function\",\"quite\",\"exam\",\"engineering\",\"10th\",\"losing\",\"teaching\",\"nam\",\"catch\",\"follows\",\"bbc\",\"deluge\",\"lamps\",\"indeed\",\"accepted\",\"psychologist\",\"aviation\",\"push\",\"sheltering\",\"mayor\",\"svp\",\"greetings\",\"bleach\",\"bizoton\",\"directed\",\"cusecs\",\"analysts\",\"balakot\",\"benefiting\",\"66\",\"breached\",\"steady\",\"spells\",\"meant\",\"750\",\"blocking\",\"load\",\"knocked\",\"kyrgyzstan\",\"protest\",\"stood\",\"shower\",\"por\",\"avalanche\",\"implications\",\"looked\",\"emissions\",\"worsened\",\"hoboken\",\"emerged\",\"halt\",\"muslims\",\"djibouti\",\"diplomatic\",\"rwandan\",\"traditionally\",\"indiscriminate\",\"lankan\",\"fisheries\",\"tool\",\"martissant\",\"congestion\",\"proportion\",\"shattered\",\"delegate\",\"wiped\",\"hopefully\",\"drill\",\"hats\",\"adopted\",\"exact\",\"cubic\",\"demonstration\",\"ofda\",\"il\",\"freres\",\"routine\",\"rooftops\",\"katrina\",\"firefighters\",\"memory\",\"scenario\",\"sponsored\",\"attempts\",\"rome\",\"contingency\",\"dryness\",\"constant\",\"filters\",\"69\",\"diet\",\"landscape\",\"powered\",\"tiny\",\"ko\",\"hub\",\"stone\",\"wildfires\",\"bound\",\"ray\",\"maintaining\",\"london\",\"jam\",\"antoine\",\"soy\",\"considering\",\"cancelled\",\"thatta\",\"taluka\",\"surrounded\",\"atmospheric\",\"gulf\",\"deficits\",\"scarcity\",\"appealing\",\"umcor\",\"heaters\",\"iranian\",\"addis\",\"algiers\",\"procured\",\"papua\",\"removed\",\"exceptionally\",\"tip\",\"biodiversity\",\"windy\",\"degraded\",\"aged\",\"technologies\",\"cambodia\",\"ecosystems\",\"smog\",\"intensified\",\"dprk\",\"dessalines\",\"ghana\",\"accumulated\",\"andaman\",\"pakhtunkhwa\",\"videos\",\"played\",\"protesters\",\"fragile\",\"allegedly\",\"pics\",\"trial\",\"maiduguri\",\"horrible\",\"prayer\",\"gt\",\"worry\",\"unrest\",\"intended\",\"chain\",\"radical\",\"polling\",\"overland\",\"utility\",\"porridge\",\"desperately\",\"abuses\",\"smh\",\"militant\",\"explosives\",\"bladders\",\"import\",\"failures\",\"article\",\"gases\",\"transparency\",\"limit\",\"agents\",\"universities\",\"scientific\",\"slum\",\"chairman\",\"battery\",\"dumped\",\"proved\",\"box\",\"ladies\",\"terremotochile\",\"bars\",\"crossed\",\"coupons\",\"charged\",\"squalid\",\"subduction\",\"archive\",\"burden\",\"afford\",\"bleeding\",\"ct\",\"waterways\",\"advised\",\"tributaries\",\"headache\",\"minus\",\"miami\",\"engulfed\",\"flimsy\",\"entered\",\"detect\",\"assured\",\"tzu\",\"they'll\",\"hide\",\"americares\",\"represent\",\"'the\",\"tankers\",\"pyongyang\",\"enhancing\",\"bathroom\",\"king\",\"widely\",\"algeria\",\"intrusion\",\"farmer\",\"craft\",\"federation's\",\"patrol\",\"rampant\",\"tap\",\"opinion\",\"dwellings\",\"hallo\",\"machinery\",\"d'ivoire\",\"trincomalee\",\"latter\",\"fema\",\"distress\",\"euro\",\"throw\",\"outlook\",\"britain\",\"operated\",\"pure\",\"simply\",\"subsidized\",\"continent\",\"blended\",\"3000\",\"raid\",\"ambulance\",\"option\",\"organizing\",\"bunch\",\"productive\",\"pose\",\"unclear\",\"passports\",\"gen\",\"transformers\",\"cane\",\"match\",\"circulation\",\"netherlands\",\"barrier\",\"leg\",\"handing\",\"extend\",\"orders\",\"recharge\",\"sharif\",\"swat\",\"freak\",\"equivalent\",\"accounts\",\"bitter\",\"rahim\",\"silo\",\"dadu\",\"underwater\",\"spell\",\"whereas\",\"everytime\",\"nw\",\"abandon\",\"panels\",\"demanding\",\"abundant\",\"intake\",\"grass\",\"pa\",\"giang\",\"assessed\",\"behalf\",\"premier\",\"divisions\",\"successive\",\"spoke\",\"unseasonably\",\"replenish\",\"sore\",\"piped\",\"track\",\"iom's\",\"tolerant\",\"subway\",\"greet\",\"khyber\",\"arrange\",\"seconds\",\"producers\",\"fews\",\"soybean\",\"sulawesi\",\"posted\",\"nadu\",\"sept\",\"trucking\",\"ends\",\"football\",\"mangrove\",\"dump\",\"militias\",\"ne\",\"saudi\",\"govt\",\"outages\",\"gathering\",\"mattresses\",\"johannesburg\",\"briefing\",\"decreased\",\"foundations\",\"protected\",\"junta\",\"ad\",\"ampara\",\"prevalence\",\"garissa\",\"application\",\"swaziland\",\"prompted\",\"aceh's\",\"havent\",\"guizhou\",\"sort\",\"stream\",\"realize\",\"discussions\",\"weed\",\"dart\",\"meteorology\",\"proceed\",\"merapi\",\"pushing\",\"sales\",\"freedom\",\"bouquet\",\"drawn\",\"desalination\",\"untreated\",\"burn\",\"roadside\",\"8th\",\"mobilised\",\"stakeholders\",\"kid\",\"removing\",\"offshore\",\"shirts\",\"lasting\",\"gastrointestinal\",\"storey\",\"tarp\",\"est\",\"discuss\",\"factor\",\"insecure\",\"participated\",\"comprised\",\"grade\",\"gravel\",\"vector\",\"ailments\",\"outcome\",\"nile\",\"governing\",\"hanoi\",\"firewood\",\"darkness\",\"laundry\",\"rolls\",\"demonstrated\",\"processes\",\"wire\",\"shooting\",\"affects\",\"await\",\"pace\",\"quiet\",\"asthma\",\"slums\",\"rapporteur\",\"inner\",\"sparked\",\"pots\",\"landed\",\"proof\",\"photo\",\"feuille\",\"medecine\",\"requirement\",\"humanity\",\"gilgit\",\"schedule\",\"1500\",\"106\",\"therapy\",\"predominantly\",\"conjunction\",\"guidelines\",\"strongly\",\"stormy\",\"delays\",\"niger's\",\"seat\",\"suddenly\",\"severed\",\"kazakhstan\",\"initiated\",\"impoverished\",\"volume\",\"courage\",\"diabetes\",\"documents\",\"inclusive\",\"nyiragongo\",\"caution\",\"hostel\",\"heights\",\"difference\",\"warns\",\"o'clock\",\"dera\",\"reserves\",\"commodity\",\"cape\",\"brigade\",\"basket\",\"nnt\",\"additionally\",\"minimize\",\"visible\",\"associations\",\"magma\",\"guess\",\"introducing\",\"dirt\",\"acted\",\"collapses\",\"allegations\",\"samples\",\"apparent\",\"reality\",\"guerrilla\",\"mole\",\"norway\",\"kidney\",\"contracted\",\"airports\",\"74\",\"examined\",\"dose\",\"noon\",\"mdc\",\"plain\",\"portion\",\"amnesty\",\"choose\",\"medics\",\"dfid\",\"toppled\",\"uttar\",\"palestinian\",\"accepting\",\"visas\",\"bout\",\"repression\",\"stars\",\"suggested\",\"sectarian\",\"god's\",\"residence\",\"coastlines\",\"factions\",\"del\",\"seismically\",\"depot\",\"freetown\",\"nowhere\",\"convention\",\"victimes\",\"asap\",\"missed\",\"detailed\",\"warfare\",\"kph\",\"unita\",\"emphasis\",\"adverse\",\"caribbean\",\"unleashed\",\"refusing\",\"soleil\",\"mechanic\",\"outlying\",\"accessible\",\"96\",\"dwellers\",\"ababa\",\"posing\",\"calamities\",\"typically\",\"til\",\"aside\",\"harassment\",\"namely\",\"torrents\",\"enabling\",\"tech\",\"chengdu\",\"64\",\"agree\",\"israeli\",\"brahmaputra\",\"group's\",\"restrictions\",\"deficiencies\",\"lanterns\",\"sharia\",\"supervision\",\"zinc\",\"identity\",\"employees\",\"papers\",\"1995\",\"turkmenistan\",\"moderately\",\"imc\",\"atmosphere\",\"kerosene\",\"myanmar's\",\"bombings\",\"counseling\",\"lowlands\",\"accelerated\",\"recurring\",\"generated\",\"th\",\"occurring\",\"bottle\",\"stupid\",\"intermittent\",\"aquifers\",\"arrests\",\"heavier\",\"beat\",\"totals\",\"winterized\",\"bone\",\"aunt\",\"feeling\",\"locate\",\"21st\",\"adb\",\"boulders\",\"wear\",\"uprising\",\"searching\",\"anne\",\"investments\",\"respite\",\"crush\",\"deadliest\",\"sandbags\",\"authoritarian\",\"hampering\",\"tepco\",\"ve\",\"cultivate\",\"residual\",\"denied\",\"tracks\",\"nonprofit\",\"ecosystem\",\"rawalpindi\",\"comity\",\"hydrological\",\"yon\",\"brings\",\"straw\",\"detected\",\"forecasters\",\"moscow\",\"prompting\",\"canvas\",\"salute\",\"belonging\",\"socio\",\"precise\",\"norwegian\",\"mitigate\",\"charcoal\",\"lanka's\",\"equally\",\"inflatable\",\"buddhist\",\"550\",\"sits\",\"foodstuffs\",\"dramatically\",\"dedicated\",\"truth\",\"overflowed\",\"selab\",\"composed\",\"flew\",\"spirit\",\"rare\",\"mashable\",\"ado\",\"yele\",\"sandwiches\",\"em\",\"chile's\",\"cloudy\",\"lmao\",\"outage\",\"severity\",\"thin\",\"soft\",\"aur\",\"speech\",\"twitpic\",\"dichato\",\"replaced\",\"platform\",\"projected\",\"cup\",\"lane\",\"mobilizing\",\"translator\",\"slightly\",\"won\",\"hon\",\"bedding\",\"unusual\",\"boots\",\"purposes\",\"mi\",\"pupil\",\"67\",\"dental\",\"ikeportnoydt\",\"chapter\",\"skies\",\"code\",\"kitchens\",\"claim\",\"window\",\"attempted\",\"marketing\",\"artists\",\"pernier\",\"eliminate\",\"plug\",\"loading\",\"ideal\",\"roughly\",\"sensitive\",\"quarter\",\"27th\",\"butter\",\"alongside\",\"charter\",\"soldier\",\"ahmad\",\"snap\",\"premises\",\"pot\",\"midday\",\"terminal\",\"fans\",\"sounds\",\"alertnet\",\"stretch\",\"unfortunately\",\"pasport\",\"guns\",\"responses\",\"astoria\",\"nationally\",\"fertilisers\",\"hostilities\",\"chitral\",\"birthday\",\"flies\",\"manpower\",\"city's\",\"standby\",\"anybody\",\"chilly\",\"toothpaste\",\"pools\",\"professor\",\"nicobar\",\"completion\",\"mini\",\"fractures\",\"disperse\",\"allied\",\"municipality\",\"answers\",\"lists\",\"stamford\",\"sports\",\"tension\",\"confidence\",\"zimbabwe's\",\"neighborhoods\",\"uncontrolled\",\"torn\",\"ambassy\",\"split\",\"factories\",\"demands\",\"encephalitis\",\"mainland\",\"tribal\",\"false\",\"li\",\"monetary\",\"band\",\"relocated\",\"hectare\",\"begins\",\"volatile\",\"carries\",\"bangladesh's\",\"yen\",\"housed\",\"you'll\",\"thirds\",\"erupting\",\"deterioration\",\"procure\",\"prevailing\",\"ansar\",\"dine\",\"accord\",\"contrast\",\"corridor\",\"lactating\",\"hubei\",\"didnt\",\"closure\",\"repeatedly\",\"properly\",\"undertaking\",\"lagos\",\"shrimp\",\"maritime\",\"involve\",\"vs\",\"forum\",\"wenchuan\",\"fearing\",\"foresee\",\"shared\",\"trend\",\"declining\",\"commander\",\"septic\",\"kilometer\",\"botswana\",\"gouvernement\",\"explains\",\"reserve\",\"fond\",\"petrol\",\"yielding\",\"rajasthan\",\"gangs\",\"needing\",\"monitored\",\"ircs\",\"saturday's\",\"talcahuano\",\"aspects\",\"ahmed\",\"managing\",\"easier\",\"sprawling\",\"earthen\",\"artificial\",\"militaire\",\"refused\",\"mirebalais\",\"teff\",\"perishables\",\"dong\",\"paralysis\",\"fungal\",\"exodus\",\"pier\",\"cups\",\"gold\",\"weight\",\"facilitated\",\"rust\",\"ports\",\"damien\",\"socks\",\"discovered\",\"exploitation\",\"agreements\",\"cabaret\",\"stresses\",\"sudanese\",\"piles\",\"granted\",\"rash\",\"smile\",\"swimming\",\"phuket\",\"acting\",\"she's\",\"divert\",\"alarming\",\"tract\",\"criminals\",\"eritrea\",\"dakar\",\"truly\",\"underneath\",\"dealt\",\"imported\",\"ima\",\"nails\",\"glaciers\",\"wagons\",\"imminent\",\"checking\",\"struggled\",\"commitments\",\"118\",\"faces\",\"considerable\",\"adaptation\",\"thanksgiving\",\"style\",\"soul\",\"requiring\",\"ms\",\"cerf\",\"parasitic\",\"gansu\",\"tones\",\"plateau\",\"fevers\",\"smart\",\"monsoons\",\"di\",\"ft\",\"achieve\",\"trigger\",\"outpouring\",\"locality\",\"metropolitan\",\"seemed\",\"breastfeeding\",\"sewers\",\"zealand\",\"plots\",\"gros\",\"isolation\",\"dikes\",\"recreation\",\"disastrous\",\"pharmaceutical\",\"harder\",\"srinagar\",\"eradicate\",\"replacement\",\"1994\",\"favorable\",\"rainstorm\",\"van\",\"wireless\",\"boyer\",\"arc\",\"persist\",\"island's\",\"referred\",\"method\",\"stretched\",\"disorders\",\"glacier\",\"innovative\",\"subsistence\",\"entry\",\"dramatic\",\"hoped\",\"jams\",\"binh\",\"pouring\",\"basement\",\"tore\",\"consistent\",\"slammed\",\"crippled\",\"mexico\",\"wrecked\",\"mcc\",\"diagnosis\",\"spontaneous\",\"72\",\"magloire\",\"cumulative\",\"crc\",\"varying\",\"file\",\"centered\",\"nepal's\",\"engage\",\"airlifts\",\"edible\",\"surplus\",\"lung\",\"sud\",\"nausea\",\"goals\",\"they've\",\"launching\",\"reopened\",\"mudflow\",\"liver\",\"glass\",\"models\",\"journalist\",\"facebook\",\"autonomy\",\"prospect\",\"detainees\",\"witness\",\"spreads\",\"seawater\",\"technicians\",\"horrific\",\"feeder\",\"you've\",\"escort\",\"pou\",\"unhealthy\",\"birds\",\"forming\",\"advise\",\"principle\",\"session\",\"tweet\",\"earn\",\"mosque\",\"occasion\",\"observation\",\"burundi\",\"zanu\",\"gardening\",\"color\",\"burnt\",\"kuala\",\"minerals\",\"gonaive\",\"downed\",\"doubled\",\"bertin\",\"exist\",\"residing\",\"unexploded\",\"mode\",\"tested\",\"ain't\",\"consultation\",\"doses\",\"guy\",\"hrs\",\"rcsc\",\"forgiveness\",\"strengthened\",\"gd\",\"pressed\",\"couldn't\",\"famous\",\"revealed\",\"unique\",\"drastically\",\"leak\",\"outdoors\",\"battling\",\"ho\",\"wouldn't\",\"han\",\"assistant\",\"deploy\",\"kingdom\",\"regulations\",\"app\",\"\\u201a\\u00e0\\u00f6\\u201a\\u00e2\\u2022\",\"urlplaceholder\\u201a\\u00e0\\u00f6\\u221a\\u00fc\",\"gulab\",\"investigate\",\"enforcement\",\"staged\",\"clorox\",\"voting\",\"politically\",\"cultivated\",\"ups\",\"tracking\",\"calamity\",\"favor\",\"prison\",\"preparations\",\"italy\",\"imp\",\"engine\",\"intimidation\",\"debt\",\"wildfire\",\"draft\",\"gam\",\"detention\",\"shipments\",\"neighbor\",\"pf\",\"language\",\"61\",\"aircrafts\",\"holds\",\"humidity\",\"jamshoro\",\"grip\",\"patrols\",\"detained\",\"stove\",\"fraud\",\"ass\",\"herds\",\"forecasted\",\"ideas\",\"exams\",\"remainder\",\"banana\",\"contacted\",\"eggs\",\"grandmother\",\"gode\",\"worrying\",\"poses\",\"disinfectant\",\"tragic\",\"marked\",\"peat\",\"citing\",\"catchments\",\"trail\",\"affiliated\",\"ed\",\"pan\",\"sustain\",\"slight\",\"image\",\"shikarpur\",\"russia's\",\"gale\",\"explanation\",\"moon\",\"concentration\",\"ors\",\"deposit\",\"dangerously\",\"version\",\"precious\",\"laying\",\"apt\",\"marginal\",\"complaining\",\"traders\",\"thru\",\"discharge\",\"demolished\",\"rely\",\"terre\",\"functional\",\"acehnese\",\"urge\",\"bomber\",\"drivers\",\"relentless\",\"83\",\"pockets\",\"tigers\",\"victory\",\"essentials\",\"reception\",\"nino\",\"ll\",\"bleak\",\"radios\",\"john\",\"wheel\",\"bleaching\",\"shabab\",\"shebab\",\"appeals\",\"extending\",\"state's\",\"similarly\",\"expression\",\"checks\",\"regards\",\"tourist\",\"density\",\"negotiations\",\"faster\",\"beg\",\"irc\",\"sandyhelp\",\"perished\",\"wards\",\"cease\",\"sorting\",\"depends\",\"handwashing\",\"himself\",\"economies\",\"society's\",\"tackling\",\"99\",\"obama\",\"gon\",\"excellent\",\"purchasing\",\"touch\",\"pasta\",\"twin\",\"strict\",\"westerly\",\"representation\",\"cows\",\"wala\",\"headed\",\"spite\",\"bandits\",\"thieves\",\"joking\",\"proclaimed\",\"pigs\",\"amphibious\",\"fifty\",\"reconstruct\",\"vicinity\",\"banned\",\"nevertheless\",\"lunch\",\"sudan's\",\"5000\",\"aquaculture\",\"boukan\",\"frere\",\"enroll\",\"chocolate\",\"decentralization\",\"accountable\",\"theme\",\"badakhshan\",\"rakhine\",\"breakfast\",\"activists\",\"grateful\",\"fate\",\"snowstorm\",\"unlike\",\"sunday's\",\"11th\",\"handicap\",\"coconut\",\"nearest\",\"teach\",\"hybrid\",\"impunity\",\"alix\",\"casa\",\"stretching\",\"bma\",\"86\",\"likelihood\",\"ninh\",\"courses\",\"ate\",\"parking\",\"burns\",\"sandy's\",\"trench\",\"discrimination\",\"dzud\",\"insurance\",\"sorties\",\"thats\",\"returns\",\"shipped\",\"goverment\",\"condemned\",\"remind\",\"addu\",\"pulling\",\"comprises\",\"kv\",\"riot\",\"88\",\"ambroise\",\"pans\",\"sizes\",\"zhouqu\",\"chadian\",\"blasts\",\"constrained\",\"globe\",\"sleeps\",\"bin\",\"bois\",\"considerably\",\"prolong\",\"pr\",\"vilage\",\"con\",\"paramedics\",\"carefour\",\"bumper\",\"surfaid\",\"khairpur\",\"ethiopia's\",\"benin\",\"upto\",\"galle\",\"fun\",\"bacc\",\"rupees\",\"disruptions\",\"letter\",\"awesome\",\"recruiting\",\"mounted\",\"sainte\",\"acid\",\"ingc\",\"problematic\",\"drier\",\"countless\",\"approached\",\"kutch\",\"lacking\",\"coral\",\"1991\",\"imports\",\"serves\",\"rok\",\"customs\",\"lasted\",\"sumatra's\",\"secretariat\",\"fb\",\"terremoto\",\"fahrenheit\",\"precautionary\",\"coldest\",\"02\",\"seismological\",\"jalozai\",\"87\",\"gs\",\"today's\",\"exception\",\"discussion\",\"autonomous\",\"outpatient\",\"charles\",\"nippes\",\"cli\",\"joy\",\"topics\",\"thirty\",\"bombs\",\"thankful\",\"slept\",\"itis\",\"enterprise\",\"generate\",\"agent\",\"scorching\",\"l'artibonite\",\"rep\",\"revenue\",\"whenever\",\"monitors\",\"unions\",\"impending\",\"crashing\",\"urea\",\"sheltered\",\"gates\",\"ca\",\"ireland\",\"114\",\"psychiatric\",\"reconstructed\",\"molasses\",\"disputed\",\"trick\",\"spending\",\"thunder\",\"frozen\",\"purifiers\",\"dangers\",\"poisoning\",\"lentils\",\"harmful\",\"cramped\",\"rotting\",\"principal\",\"diphtheria\",\"unsanitary\",\"gallons\",\"throat\",\"psychologists\",\"proposal\",\"jorking\",\"mansehra\",\"utilities\",\"1990s\",\"equip\",\"regulatory\",\"pastoralist\",\"variability\",\"ka\",\"responders\",\"portions\",\"rape\",\"culverts\",\"component\",\"concentrations\",\"expanding\",\"apr\",\"benefits\",\"spray\",\"consuming\",\"eleven\",\"torrent\",\"ahmedabad\",\"yorkers\",\"detergent\",\"demonstrators\",\"migrant\",\"alerts\",\"advisory\",\"bite\",\"consulate\",\"tracts\",\"1996\",\"adapt\",\"zimbabwean\",\"consolidated\",\"closes\",\"keeps\",\"comprehension\",\"foul\",\"fucking\",\"deeply\",\"sandynj\",\"fr\",\"switzerland\",\"comfort\",\"art\",\"annually\",\"rushing\",\"destination\",\"beside\",\"pits\",\"extremism\",\"articles\",\"neighbours\",\"shanghai\",\"dawn\",\"violently\",\"communist\",\"wondering\",\"married\",\"daughter\",\"pounding\",\"gifts\",\"sight\",\"flown\",\"sar\",\"device\",\"cuz\",\"liters\",\"rebellion\",\"tasks\",\"firing\",\"existence\",\"ancient\",\"stamp\",\"logistic\",\"springs\",\"exports\",\"represents\",\"reliable\",\"england\",\"crying\",\"designated\",\"harshest\",\"altitude\",\"scholarships\",\"disinfecting\",\"rashes\",\"license\",\"disappeared\",\"mohammad\",\"brocken\",\"handpumps\",\"arbitrary\",\"grande\",\"communicate\",\"ta\",\"surging\",\"enriched\",\"creates\",\"anger\",\"jihadist\",\"command\",\"tests\",\"referral\",\"stories\",\"pulled\",\"foothills\",\"rush\",\"newark\",\"installations\",\"reverse\",\"moh\",\"draw\",\"minh\",\"helpful\",\"neighbourhoods\",\"executions\",\"grocery\",\"receding\",\"telecom\",\"credible\",\"mobilisation\",\"bale\",\"chances\",\"proven\",\"chains\",\"kala\",\"initiate\",\"cellphone\",\"hidden\",\"depletion\",\"thai\",\"recognized\",\"pleased\",\"environmentally\",\"asylum\",\"lime\",\"orphans\",\"barriers\",\"soaring\",\"philanthropy\",\"surveys\",\"silt\",\"gastro\",\"habits\",\"boiling\",\"puts\",\"131\",\"divide\",\"monrovia\",\"fundamental\",\"wtf\",\"barge\",\"intersection\",\"illegally\",\"referendum\",\"james\",\"sectoral\",\"infants\",\"deteriorate\",\"columns\",\"florida\",\"suburbs\",\"legitimate\",\"commenced\",\"surgeon\",\"bowls\",\"consultant\",\"reinforced\",\"bins\",\"aruba\",\"accountant\",\"allies\",\"imagery\",\"injury\",\"overcome\",\"dioxide\",\"tactics\",\"incomes\",\"highlighted\",\"erected\",\"collapsible\",\"neglect\",\"tourists\",\"commonly\",\"fatigue\",\"temple\",\"260\",\"thien\",\"acquired\",\"legislation\",\"politics\",\"senegalese\",\"hosted\",\"fishery\",\"letting\",\"don\",\"noaa\",\"torture\",\"dushanbe\",\"lethal\",\"crackdown\",\"subsidies\",\"enforce\",\"preventable\",\"enterprises\",\"tractor\",\"rises\",\"thoroughly\",\"confirmation\",\"shaken\",\"impass\",\"community's\",\"engagement\",\"captured\",\"matisan\",\"interagency\",\"sitoli\",\"spare\",\"infrastructures\",\"lilavois\",\"ceiling\",\"usgs\",\"98\",\"instruments\",\"census\",\"beer\",\"passage\",\"soviet\",\"ties\",\"dal\",\"submarine\",\"reference\",\"interviews\",\"responsable\",\"importing\",\"epi\",\"neck\",\"shakes\",\"height\",\"gang\",\"eventually\",\"index\",\"integrity\",\"nationals\",\"ltte\",\"where's\",\"tables\",\"tb\",\"solino\",\"plunged\",\"grounds\",\"noticed\",\"8okesh\",\"christophe\",\"owner\",\"expecting\",\"bengkulu\",\"meter\",\"cooperatives\",\"hiring\",\"worms\",\"tni\",\"relocate\",\"onward\",\"crore\",\"recommends\",\"shacks\",\"sewer\",\"pelerin\",\"proposals\",\"boiled\",\"martin\",\"cam\",\"adventist\",\"hospitalized\",\"gather\",\"resolve\",\"unhas\",\"wasn't\",\"aboard\",\"lamp\",\"hair\",\"guarantee\",\"emerge\",\"crwrc\",\"payment\",\"kilos\",\"winterization\",\"marines\",\"memories\",\"operators\",\"tigray\",\"ari\",\"liberian\",\"determination\",\"stationed\",\"undernourished\",\"dollo\",\"7th\",\"labourers\",\"indicating\",\"juba\",\"scaling\",\"winterised\",\"meteorologists\",\"motor\",\"tajik\",\"maslakh\",\"appointed\",\"durable\",\"bladder\",\"175\",\"selection\",\"decreasing\",\"chokwe\",\"consignment\",\"preventive\",\"eartquake\",\"occupying\",\"hostal\",\"jiangsu\",\"spain\",\"activate\",\"cheese\",\"song\",\"gunung\",\"argentina\",\"indigenous\",\"1990\",\"decide\",\"disinfect\",\"grew\",\"cuts\",\"injected\",\"sitting\",\"layers\",\"rules\",\"wreaked\",\"closing\",\"kidnapping\",\"reaction\",\"drama\",\"frost\",\"purify\",\"crammed\",\"mention\",\"delegates\",\"attached\",\"paste\",\"650\",\"instant\",\"area's\",\"transmit\",\"blizzards\",\"operator\",\"geophysics\",\"andes\",\"elevated\",\"maps\",\"abnormal\",\"concert\",\"emerging\",\"dredging\",\"congested\",\"ghar\",\"watery\",\"nomadic\",\"prey\",\"subsided\",\"separately\",\"bandages\",\"stretches\",\"essentially\",\"mas\",\"practical\",\"jaffna\",\"curriculum\",\"prcs\",\"combating\",\"drinks\",\"maharashtra\",\"rendering\",\"avian\",\"deficient\",\"drip\",\"wires\",\"speaker\",\"sustaining\",\"spots\",\"uncertainty\",\"troop\",\"enabled\",\"malteser\",\"charities\",\"scarves\",\"concluded\",\"belong\",\"deyr\",\"limpopo\",\"weekly\",\"complement\",\"kms\",\"inclement\",\"kills\",\"monday's\",\"municipalities\",\"scientist\",\"psycho\",\"rc\",\"kharif\",\"exceeding\",\"barra\",\"tractors\",\"maternity\",\"neglected\",\"organ\",\"seism\",\"diploma\",\"meher\",\"195\",\"referring\",\"xinjiang\",\"offers\",\"us17\",\"arrivals\",\"82\",\"tops\",\"accompanying\",\"plight\",\"landmines\",\"expenses\",\"grasslands\",\"tremendous\",\"sexually\",\"overwhelming\",\"runoff\",\"krcs\",\"sandyrelief\",\"interesting\",\"partnerships\",\"brackish\",\"owing\",\"resilient\",\"valuable\",\"affectees\",\"determined\",\"consequent\",\"upgrading\",\"occurrence\",\"fatalities\",\"dike\",\"steam\",\"extremists\",\"physician\",\"unclean\",\"lutheran\",\"92\",\"sweaters\",\"yeah\",\"luck\",\"catastrophy\",\"taps\",\"queens\",\"nh\",\"intensify\",\"unseasonal\",\"paddies\",\"negatively\",\"perceived\",\"joining\",\"actual\",\"'d\",\"breaches\",\"unfolding\",\"taipei\",\"hyderabad\",\"roots\",\"intolerance\",\"hillsides\",\"himachal\",\"silence\",\"khel\",\"curfew\",\"ear\",\"damp\",\"sack\",\"terrified\",\"blindness\",\"ticket\",\"rangelands\",\"iv\",\"teleco\",\"suspension\",\"129\",\"mapping\",\"qubo\",\"glacial\",\"wedding\",\"incoming\",\"claiming\",\"mega\",\"urine\",\"proud\",\"polonnaruwa\",\"connections\",\"hardship\",\"trends\",\"parched\",\"togo\",\"safeguard\",\"'ve\",\"hue\",\"naturally\",\"caring\",\"chilean\",\"recedes\",\"volunteering\",\"para\",\"underlying\",\"gym\",\"pregnancy\",\"necessity\",\"drenched\",\"paying\",\"qatar\",\"frigid\",\"efficiently\",\"microbes\",\"wider\",\"founded\",\"chongqing\",\"calendar\",\"departement\",\"allah\",\"stealing\",\"helmand\",\"vietnam's\",\"input\",\"madad\",\"financed\",\"contracting\",\"restaurant\",\"behavior\",\"advancement\",\"pleases\",\"56\",\"spill\",\"vicious\",\"gi\",\"bare\",\"tahseel\",\"noting\",\"aquatab\",\"written\",\"q\",\"prefecture\",\"beneficial\",\"feels\",\"bored\",\"totaling\",\"hydrogen\",\"performance\",\"mad\",\"winning\",\"loads\",\"observatory\",\"recovering\",\"manufacturing\",\"oxfam's\",\"16th\",\"leads\",\"saeed\",\"freight\",\"raises\",\"rarely\",\"nathan\",\"sown\",\"bas\",\"games\",\"experiences\",\"malians\",\"relation\",\"forth\",\"worm\",\"shabelle\",\"wage\",\"neighbourhood\",\"computers\",\"iii\",\"younger\",\"pounds\",\"salut\",\"sciences\",\"reproductive\",\"programm\",\"ghor\",\"azad\",\"uranium\",\"burma's\",\"motivated\",\"nfis\",\"consular\",\"vaccinations\",\"attackers\",\"wanting\",\"libya\",\"bear\",\"shortfall\",\"unpredictable\",\"appreciate\",\"responsibilities\",\"15th\",\"strife\",\"arena\",\"forever\",\"suited\",\"star\",\"drawing\",\"aqui\",\"tumors\",\"uttarakhand\",\"prevail\",\"extremes\",\"hanging\",\"chest\",\"cookies\",\"disabled\",\"landmine\",\"exercises\",\"shells\",\"receded\",\"riots\",\"nebraskans\",\"haha\",\"registering\",\"legs\",\"stabilization\",\"turnout\",\"braces\",\"soaking\",\"harbour\",\"yours\",\"continental\",\"scabies\",\"exploded\",\"sunny\",\"basically\",\"policemen\",\"procedure\",\"fox\",\"elevations\",\"observer\",\"nervous\",\"ya6kpzm\",\"thundershowers\",\"madhya\",\"lashing\",\"tan\",\"suppliers\",\"spate\",\"straight\",\"resist\",\"resolved\",\"overturned\",\"library\",\"viet\",\"suggests\",\"steal\",\"strains\",\"translation\",\"gust\",\"artillery\",\"midst\",\"millennium\",\"substations\",\"ultimately\",\"intelligence\",\"faction\",\"equipments\",\"mainstream\",\"obviously\",\"geared\",\"factional\",\"bissau\",\"pneumococcal\",\"91\",\"yusuf\",\"panel\",\"thereby\",\"alarm\",\"territorial\",\"wont\",\"demanded\",\"ballot\",\"longest\",\"ins\",\"diets\",\"salvaged\",\"thankfully\",\"raids\",\"mandatory\",\"multiparty\",\"accommodations\",\"equitable\",\"manila\",\"escalation\",\"approval\",\"classroom\",\"enjoy\",\"jacobabad\",\"integration\",\"unarmed\",\"wounding\",\"bearing\",\"mein\",\"loc\",\"congolese\",\"virulent\",\"divers\",\"consortium\",\"grave\",\"striving\",\"ranks\",\"amadou\",\"biogas\",\"abdul\",\"sewing\",\"laid\",\"meuro\",\"wetlands\",\"enforced\",\"aziz\",\"improvised\",\"ht\",\"examine\",\"barely\",\"fucked\",\"bracing\",\"khaskheli\",\"blows\",\"voltage\",\"geothermal\",\"entirely\",\"guards\",\"vacation\",\"excreta\",\"colleges\",\"renamo\",\"nationality\",\"bombers\",\"pir\",\"munitions\",\"sorts\",\"kambr\",\"bucket\",\"grim\",\"perrin\",\"jalalabad\",\"lkapranos\",\"era\",\"fecal\",\"background\",\"mugabe\",\"exhibition\",\"unep\",\"kiss\",\"ushahidi\",\"yourself\",\"supplementation\",\"eliminated\",\"cast\",\"upgrade\",\"das\",\"erra\",\"theres\",\"madrid\",\"grassroots\",\"razed\",\"tearfund\",\"managers\",\"loya\",\"paved\",\"trendy\",\"positioned\",\"commanders\",\"hr\",\"carefully\",\"fighter\",\"feminine\",\"economically\",\"introduction\",\"prefectures\",\"ch\",\"sheer\",\"brazzaville\",\"bet\",\"endure\",\"controlling\",\"upgraded\",\"surprise\",\"falciparum\",\"entities\",\"theatre\",\"arcahaie\",\"page\",\"disinfection\",\"originally\",\"iodized\",\"buhari\",\"un's\",\"predicts\",\"spla\",\"laplaine\",\"equality\",\"blame\",\"postponed\",\"thankyou\",\"koi\",\"preview\",\"fail\",\"complementary\",\"rouge\",\"waney\",\"youtube\",\"italian\",\"lined\",\"smuggling\",\"specialised\",\"declare\",\"compromised\",\"paris\",\"danish\",\"positions\",\"essa\",\"jihad\",\"critics\",\"tear\",\"deliberately\",\"126\",\"97\",\"programming\",\"ke\",\"rafts\",\"poliovirus\",\"ont\",\"147\",\"slope\",\"pens\",\"swing\",\"monuc\",\"spinal\",\"cord\",\"predicting\",\"neonatal\",\"gusting\",\"719\",\"bicycle\",\"phases\",\"reeling\",\"meagre\",\"repatriated\",\"bird\",\"accordance\",\"dwelling\",\"perform\",\"levees\",\"neelum\",\"toothbrushes\",\"incentives\",\"activated\",\"corail\",\"salty\",\"digicell\",\"merger\",\"antibiotic\",\"dialysis\",\"consumed\",\"studying\",\"fixing\",\"concessional\",\"sixth\",\"stocking\",\"210\",\"relative\",\"napkins\",\"unicef's\",\"thinks\",\"picking\",\"hydrology\",\"molten\",\"whith\",\"cyclical\",\"plenty\",\"mosquitos\",\"pledge\",\"nampula\",\"1976\",\"crumbled\",\"baltistan\",\"centigrade\",\"slowed\",\"speeds\",\"rattled\",\"anaemia\",\"aquin\",\"dusty\",\"conjunctivitis\",\"nyu\",\"revised\",\"transferred\",\"exclusive\",\"investigating\",\"counselors\",\"placing\",\"armenia\",\"alley\",\"ensured\",\"yemyin\",\"decomposing\",\"reliability\",\"titus\",\"week's\",\"ache\",\"patience\",\"parasite\",\"encourages\",\"shipping\",\"farmers'\",\"mongolian\",\"hearts\",\"precisely\",\"lamno\",\"sunflower\",\"workshops\",\"transboundary\",\"saharan\",\"circulating\",\"viable\",\"shortfalls\",\"devouring\",\"marin\",\"directorate\",\"screaming\",\"nous\",\"plaza\",\"lowest\",\"thomazeau\",\"pathogens\",\"separated\",\"collectively\",\"intermediate\",\"invest\",\"mta\",\"transformer\",\"wereda\",\"dispatch\",\"haryana\",\"swiftly\",\"sprung\",\"vacuum\",\"francs\",\"mechanical\",\"eurasian\",\"eased\",\"soaps\",\"270\",\"closures\",\"280\",\"promise\",\"exacerbating\",\"lifting\",\"absolutely\",\"deposited\",\"nopower\",\"huddled\",\"amda\",\"te\",\"irrigate\",\"urging\",\"pursued\",\"ogaden\",\"miserable\",\"umbrella\",\"goo\",\"sirens\",\"decent\",\"continuously\",\"huaihe\",\"thap\",\"slides\",\"cells\",\"sowing\",\"dreams\",\"gaining\",\"logs\",\"chat\",\"assorted\",\"drilled\",\"champ\",\"goodnight\",\"squad\",\"replanting\",\"dyke\",\"apartments\",\"jointly\",\"8000\",\"va\",\"filthy\",\"msg\",\"exceptional\",\"christmas\",\"notably\",\"midwives\",\"gravity\",\"manual\",\"bhubaneswar\",\"subsequently\",\"receives\",\"undergoing\",\"lumpur\",\"marathon\",\"widening\",\"caesium\",\"retention\",\"balanced\",\"145\",\"miners\",\"poland\",\"tolerance\",\"tolerate\",\"documented\",\"unleashing\",\"paediatric\",\"rotating\",\"pressing\",\"unhcr's\",\"aai\",\"unlikely\",\"amounting\",\"abdominal\",\"thua\",\"holy\",\"insecticides\",\"diagnostic\",\"machines\",\"combatants\",\"trough\",\"crowds\",\"broadly\",\"syringes\",\"typical\",\"sale\",\"exploration\",\"lend\",\"320\",\"broader\",\"iaea\",\"counted\",\"jail\",\"imd\",\"pointed\",\"rescuing\",\"occasional\",\"moments\",\"refer\",\"recipient\",\"conducive\",\"chill\",\"canadians\",\"sandyabc7\",\"occupied\",\"tana\",\"quarantine\",\"mango\",\"pointing\",\"partial\",\"electronic\",\"cocoa\",\"plantings\",\"australians\",\"sugarcane\",\"musharraf\",\"swine\",\"lady\",\"qui\",\"google\",\"assembled\",\"calcium\",\"shell\",\"presently\",\"controversial\",\"laden\",\"dl\",\"lorries\",\"interpreter\",\"formerly\",\"sucre\",\"sucks\",\"fiscal\",\"negotiate\",\"guidance\",\"132\",\"eroded\",\"26th\",\"canne\",\"greeting\",\"moyale\",\"native\",\"internationally\",\"outdoor\",\"ride\",\"gear\",\"colder\",\"grounded\",\"isiolo\",\"emotional\",\"brain\",\"loves\",\"waterlogged\",\"disseminate\",\"formal\",\"84\",\"anxious\",\"answered\",\"butte\",\"rotary\",\"contractor\",\"allocations\",\"earmarked\",\"accommodated\",\"tentes\",\"triple\",\"immune\",\"currents\",\"duration\",\"centimeters\",\"cellular\",\"cont\",\"zambezi\",\"mozambican\",\"zambezia\",\"condolences\",\"je\",\"transfers\",\"consequence\",\"fronti\\u00e8res\",\"cat\",\"fellow\",\"aches\",\"leaflets\",\"mixing\",\"everyday\",\"tributary\",\"tight\",\"fairly\",\"murder\",\"switch\",\"lets\",\"absorb\",\"month's\",\"announcing\",\"clan\",\"rabel\",\"kick\",\"mai\",\"corporations\",\"fuelling\",\"nepalese\",\"bitterly\",\"pumped\",\"standstill\",\"urbanization\",\"exceeded\",\"78\",\"suspects\",\"passeport\",\"objectives\",\"los\",\"partnering\",\"nut\",\"ryongchon\",\"trainings\",\"ages\",\"deeper\",\"produces\",\"chili\",\"whites\",\"crois\",\"assure\",\"underwear\",\"commitee\",\"tn\",\"mathieu\",\"peasants\",\"mall\",\"uncle\",\"suspect\",\"profession\",\"urgency\",\"gasoline\",\"156\",\"comitee\",\"theirs\",\"artist\",\"peguy\",\"belok\",\"prolongee\",\"ile\",\"sogebank\",\"tk\",\"functions\",\"villa\",\"ther\",\"olympic\",\"disturbance\",\"pads\",\"pop\",\"pestel\",\"z\",\"solidarite\",\"pont\",\"architects\",\"paloma\",\"carfour\",\"lycee\",\"shada\",\"hypertension\",\"leveled\",\"othe\",\"overwhelmed\",\"plage\",\"renaissance\",\"iss\",\"perpetrated\",\"georgia\",\"breach\",\"laos\",\"crest\",\"centred\",\"simeulue\",\"instructed\",\"blistering\",\"uss\",\"isaf\",\"pilgrims\",\"brokered\",\"meltdown\",\"appalling\",\"reefs\",\"desertification\",\"borno\",\"choked\",\"educate\",\"hoceima\",\"burying\",\"shaanxi\",\"anhui\",\"nrc\",\"examples\",\"ni\\u00f1a\",\"arctic\",\"raged\",\"hainan\",\"adds\",\"178\",\"gu\",\"sparse\",\"bhutan\",\"224\",\"regency\",\"blazes\",\"ferocious\",\"puntland\",\"abnormally\",\"obliterated\",\"sparsely\",\"123\",\"touching\",\"ensuing\",\"sidr\",\"informal\",\"pathogenic\",\"sustainability\",\"bolosse\",\"substantially\",\"consequently\",\"northward\",\"anomalies\",\"uncertain\",\"mosaic\",\"diverse\",\"relief's\",\"capabilities\",\"inhambane\",\"townships\",\"wrought\",\"employ\",\"mombasa\",\"execution\",\"afflicted\",\"modest\",\"unplanned\",\"amhara\",\"undac\",\"kosovo\",\"delivers\",\"pledging\",\"maturing\",\"hamlets\",\"prediction\",\"kunduz\",\"boundary\",\"sludge\",\"regulation\",\"relies\",\"bore\",\"ranges\",\"temblor\",\"manmade\",\"madras\",\"tended\",\"grasses\",\"displacing\",\"sweeping\",\"screened\",\"cotonou\",\"kyrgyz\",\"trucked\",\"bursting\",\"consultations\",\"arcs\",\"wreak\",\"uprooting\",\"forthcoming\",\"facilitating\",\"physicians\",\"kano\",\"dispatching\",\"chittagong\",\"dpr\",\"intravenous\",\"sweltering\",\"hottest\",\"prove\",\"jica\",\"embattled\",\"ajk\",\"kpk\",\"saturated\",\"fog\",\"airdrops\",\"immense\",\"contingent\",\"microfinance\",\"deploying\",\"reflected\",\"growers\",\"spoons\",\"fit\",\"sized\",\"brand\",\"alcohol\",\"conserve\",\"1980s\",\"baked\",\"sandyproblems\",\"applications\",\"diameter\",\"blizzard\",\"skilled\",\"tuna\",\"duties\",\"litter\",\"ctsandy\",\"secured\",\"dude\",\"surf\",\"sealed\",\"parks\",\"stayed\",\"jets\",\"employed\",\"xd\",\"fortunately\",\"leaks\",\"boxed\",\"batch\",\"dis\",\"lincoln\",\"5yhujg\",\"woke\",\"awful\",\"perspective\",\"worries\",\"somewhat\",\"watched\",\"collective\",\"msnbc\",\"centuries\",\"earned\",\"sf\",\"nuts\",\"sq\",\"charging\",\"seniors\",\"stairs\",\"starbucks\",\"jeans\",\"7pm\",\"coned\",\"greenpoint\",\"walked\",\"ideally\",\"flickering\",\"metro\",\"pleaded\",\"cauquenes\",\"lean\",\"canceled\",\"minimal\",\"deadline\",\"fuckyousandy\",\"swells\",\"boarded\",\"hudson\",\"promises\",\"bailey\",\"induced\",\"loud\",\"williamsburg\",\"ruthless\",\"src\",\"watchdog\",\"absolute\",\"luxembourg\",\"ambulances\",\"blown\",\"proceeds\",\"brunt\",\"gained\",\"rationing\",\"turbine\",\"compounds\",\"airbase\",\"roll\",\"abbas\",\"looters\",\"nonetheless\",\"flames\",\"\\u201a\\u00e0\\u00f6\\u00ac\\u00a9\",\"suits\",\"indo\",\"asa\",\"antonio\",\"pleasant\",\"crash\",\"tom\\u201a\\u00e0\\u00f6\\u00ac\\u00a9\",\"hubble\",\"scope\",\"wiredscience\",\"reporter\",\"sultan\",\"highlight\",\"learnt\",\"breaks\",\"kuch\",\"shahdadkot\",\"sy\",\"haidar\",\"hamed\",\"tahsel\",\"abad\",\"pul\",\"mera\",\"minors\",\"jilin\",\"xvzzt\",\"membership\",\"vowed\",\"jirga\",\"missiles\",\"budgetary\",\"gunshot\",\"grenades\",\"decomposed\",\"courts\",\"abducted\",\"complaints\",\"executed\",\"reprisals\",\"achieving\",\"slabs\",\"effectiveness\",\"trailers\",\"resettle\",\"reliant\",\"democratically\",\"dietary\",\"challenging\",\"bujumbura\",\"unaccompanied\",\"igad\",\"chaklala\",\"legitimacy\",\"dolo\",\"impose\",\"leakage\",\"constitute\",\"groundnut\",\"paths\",\"mismanagement\",\"consumers\",\"complained\",\"logging\",\"bricks\",\"flush\",\"organs\",\"tsf\",\"criticised\",\"amity\",\"savings\",\"doubts\",\"merlin\",\"pilots\",\"azawad\",\"immunisation\",\"rented\",\"dilapidated\",\"emphasized\",\"tend\",\"contains\",\"forensic\",\"rope\",\"treaty\",\"irregularities\",\"refinery\",\"reiterated\",\"filter\",\"unlawful\",\"bombardment\",\"secessionist\",\"overthrow\",\"welding\",\"thatch\",\"seafood\",\"zambian\",\"recycling\",\"bantul\",\"lawmakers\",\"affordable\",\"engines\",\"statements\",\"unearmarked\",\"chronically\",\"supplemental\",\"bhachau\",\"insulation\",\"ferrying\",\"secretions\",\"emphasizes\",\"regain\",\"oic\",\"asbestos\",\"qaida\",\"reprisal\",\"reconnaissance\",\"beatings\",\"peanuts\",\"faeces\",\"fertiliser\",\"muhammadu\",\"marriage\",\"ideology\",\"tasked\",\"fibre\",\"fiber\",\"optic\",\"tortured\",\"alongwith\",\"ballots\",\"stronghold\",\"aquatic\",\"tinned\",\"experimental\",\"mujao\",\"repressive\",\"obstetric\",\"warehousing\",\"gross\",\"dense\",\"stockpiles\",\"mosques\",\"refusal\",\"defecation\",\"reiterate\",\"steering\",\"triage\",\"province's\",\"wade\",\"tomatoes\",\"sahara\",\"migratory\",\"piping\",\"swift\",\"seismology\",\"snowstorms\",\"globally\",\"repercussions\",\"chennai\",\"nagapattinam\",\"youths\",\"ditches\",\"rearing\",\"goat\",\"interference\",\"lifesaving\",\"ruminant\",\"constantly\",\"dryland\",\"kcna\",\"unexpected\",\"dubai\",\"defecate\",\"aspect\",\"prevailed\",\"cowpea\",\"germination\",\"m3\",\"111\",\"latitude\",\"gushing\",\"aligned\",\"bulldozers\",\"360\",\"reveal\",\"complicating\",\"2020\",\"consumer\",\"warring\",\"taliban's\",\"fought\",\"easing\",\"upsurge\",\"oppressive\",\"frontline\",\"operates\",\"pediatric\",\"aegypti\",\"salvador\",\"cida\",\"assigned\",\"135\",\"eliminating\",\"substances\",\"granaries\",\"assistants\",\"lifeline\",\"jetties\",\"besar\",\"volumes\",\"deposits\",\"epidemiologists\",\"river's\",\"bacterium\",\"kinshasa\",\"rugged\",\"npc\",\"beaches\",\"galvanized\",\"consume\",\"reduces\",\"scorched\",\"chikungunya\",\"formally\",\"nursery\",\"330\",\"freely\",\"sniffer\",\"dref\",\"swedish\",\"senator\",\"utilized\",\"pulmonary\",\"disappearance\",\"barren\",\"sharp\",\"plunging\",\"conservative\",\"mozambique's\",\"225\",\"nomads\",\"obstacles\",\"pipelines\",\"trunk\",\"informants\",\"representing\",\"stranding\",\"conclusion\",\"outstanding\",\"fluid\",\"residues\",\"sep\",\"shores\",\"interface\",\"ferried\",\"neutral\",\"containment\",\"proliferation\",\"firefighting\",\"shutdown\",\"liberia's\",\"rocket\",\"dependence\",\"leaf\",\"gastroenteritis\",\"earth's\",\"sank\",\"appliances\",\"aluminium\",\"converted\",\"senegal's\",\"cave\",\"sells\",\"troubled\",\"caraibes\",\"aquatable\",\"tants\",\"peter\",\"eathquake\",\"tt\",\"105\",\"waitting\",\"stops\",\"reflect\",\"104\",\"antenna\",\"sturdy\",\"book\",\"relying\",\"pb\",\"manufacture\",\"emessage\",\"reactions\",\"governement\",\"occupy\",\"intact\",\"unfpa\",\"noise\",\"13th\",\"sin\",\"possibilities\",\"legume\",\"chase\",\"arsenic\",\"users\",\"champagne\",\"cit\",\"nitrogen\",\"jobless\",\"wap\",\"favour\",\"costly\",\"invading\",\"cow\",\"substance\",\"filling\",\"succession\",\"nose\",\"beneficiary\",\"asset\",\"touched\",\"author\",\"bb\",\"juvenile\",\"intends\",\"blanchard\",\"opposite\",\"meds\",\"correct\",\"careful\",\"treatments\",\"camped\",\"blanc\",\"soaked\",\"begging\",\"wound\",\"cheap\",\"mother's\",\"supervise\",\"ba\",\"properties\",\"resignation\",\"basketball\",\"adoption\",\"89\",\"compost\",\"hostage\",\"politicians\",\"lie\",\"aquatabs\",\"school's\",\"monney\",\"bloc\",\"organisms\",\"rent\",\"sink\",\"juste\",\"fatality\",\"lagonav\",\"ambushes\",\"34th\",\"ravine\",\"las\",\"18th\",\"purified\",\"junior\",\"electrician\",\"consult\",\"labor\",\"tour\",\"shouldn't\",\"68\",\"unreliable\",\"homeland\",\"lambi\",\"untill\",\"how's\",\"laptop\",\"historical\",\"tooth\",\"helpless\",\"examinations\",\"unemployment\",\"dgi\",\"spared\",\"master\",\"24th\",\"merely\",\"satisfactory\",\"possessions\",\"monies\",\"jamaica\",\"childrens\",\"scare\",\"htg\",\"favorite\",\"voted\",\"departure\",\"turns\",\"ma\",\"ping\",\"drenching\",\"mp\",\"sentence\",\"finds\",\"biting\",\"customers\",\"jump\",\"intervene\",\"frontieres\",\"um\",\"plumbing\",\"diquini\",\"ngo's\",\"25th\",\"dept\",\"plantation\",\"bright\",\"digg\",\"anemia\",\"nipples\",\"null\",\"hiding\",\"obvious\",\"mills\",\"concept\",\"relating\",\"fasting\",\"attacking\",\"schooling\",\"boring\",\"unemployed\",\"republican\",\"4000\",\"tied\",\"season's\",\"155\",\"monkeys\",\"crude\",\"salvation\",\"champs\",\"hardly\",\"moun\",\"martissan\",\"koupo\",\"expects\",\"avoiding\",\"1992\",\"190\",\"destroys\",\"belongs\",\"passes\",\"counterparts\",\"wyclef\",\"peasant\",\"counterpart\",\"literally\",\"attend\",\"assurance\",\"portugal\",\"fees\",\"flower\",\"fried\",\"bwa\",\"instructions\",\"yeu\",\"buffer\",\"presumed\",\"legumes\",\"m\\u00e9decins\",\"teenagers\",\"faulting\",\"disbursed\",\"particles\",\"briefed\",\"mahotiere\",\"reward\",\"tomazo\",\"advocate\",\"wishes\",\"recognition\",\"fuels\",\"expenditures\",\"completly\",\"bangladeshi\",\"rocky\",\"southerly\",\"theatres\",\"h5n1\",\"providers\",\"atolls\",\"besoin\",\"paralysed\",\"206\",\"reclamation\",\"replant\",\"coordinators\",\"'re\",\"flashlight\",\"premature\",\"barbancourt\",\"seize\",\"pesticide\",\"radioactivity\",\"wetland\",\"fallout\",\"collaborating\",\"hovering\",\"newborn\",\"par\",\"tailings\",\"tracing\",\"counsellors\",\"hatte\",\"revolt\",\"tbilisi\",\"irrigating\",\"subsurface\",\"investigations\",\"laboratories\",\"myfoxdc\",\"allows\",\"sterile\",\"utilize\",\"witnessing\",\"ammonium\",\"circulate\",\"miyagi\",\"dabon\",\"undermining\",\"supermarket\",\"ignore\",\"grows\",\"71\",\"chao\",\"phraya\",\"kerala\",\"hotels\",\"hire\",\"praise\",\"gossip\",\"prevails\",\"declaration\",\"forage\",\"necessarily\",\"oceanic\",\"convergence\",\"nantou\",\"1986\",\"refuse\",\"islam\",\"mercredi\",\"turkana\",\"epidemiology\",\"inhabited\",\"singh\",\"catastrophes\",\"brush\",\"tripartite\",\"volcanology\",\"ruminants\",\"ppr\",\"positively\",\"youngsters\",\"confluence\",\"scenic\",\"answering\",\"mutur\",\"transformed\",\"breakdown\",\"missile\",\"faults\",\"lesotho\",\"environments\",\"bauchi\",\"deemed\",\"equity\",\"czech\",\"medecins\",\"decree\",\"mountainsides\",\"insisted\",\"multinational\",\"continuity\",\"equatorial\",\"totalling\",\"ketsana\",\"endangered\",\"zoonotic\",\"environmentalists\",\"quicker\",\"akim\",\"kraze\",\"migrating\",\"ramadan\",\"recreational\",\"comment\",\"stadium\",\"jerusalem\",\"antananarivo\",\"emergence\",\"administer\",\"mama\",\"percentage\",\"needy\",\"commit\",\"bites\",\"creek\",\"meningococcal\",\"rudimentary\",\"reconnect\",\"obtained\",\"reinforce\",\"vibrio\",\"appetite\",\"rmb\",\"general's\",\"monasteries\",\"diversity\",\"modified\",\"oilseed\",\"guiding\",\"colds\",\"agency's\",\"fantastic\",\"layer\",\"admissions\",\"thar\",\"crumbling\",\"asks\",\"gers\",\"irregular\",\"hoa\",\"coupon\",\"seeding\",\"ownership\",\"shirt\",\"rained\",\"annan\",\"wearing\",\"felled\",\"bosco\",\"sees\",\"arising\",\"dredge\",\"lwr\",\"weakness\",\"streak\",\"restive\",\"menos\",\"warship\",\"maghreb\",\"acacia\",\"insisting\",\"storing\",\"bundles\",\"brr\",\"baton\",\"keita\",\"disinfected\",\"rive\",\"sou\",\"static\",\"plot\",\"forwarded\",\"thomassin\",\"diamonds\",\"protestors\",\"repeal\",\"attain\",\"genocide\",\"sanctioned\",\"dispersed\",\"lhokseumawe\",\"detonated\",\"finland\",\"rumor\",\"existed\",\"amend\",\"represented\",\"marburg\",\"genuine\",\"rescues\",\"aftershake\",\"hostages\",\"overhead\",\"teargas\",\"accuses\",\"malnourishment\",\"harare\",\"rejected\",\"tunisia\",\"socialism\",\"profound\",\"preserving\",\"khatlon\",\"sovereignty\",\"freedoms\",\"aqim\",\"refueling\",\"serbia\",\"chlorinated\",\"victime\",\"tfg\",\"smugglers\",\"pardon\",\"gunfire\",\"disability\",\"leogan\",\"brach\",\"n'djamena\",\"banditry\",\"manifestation\",\"rte\",\"jihadi\",\"voix\",\"elders\",\"hole\",\"rods\",\"jack\",\"chickens\",\"egypt\",\"tragedies\",\"paraffin\",\"tou\",\"simultaneously\",\"cartons\",\"bel\",\"poisonous\",\"leafy\",\"diversification\",\"shack\",\"appreciated\",\"unimix\",\"lome\",\"landless\",\"thyroid\",\"eco\",\"gerard\",\"joseph\",\"csb\",\"aquifer\",\"belair\",\"potent\",\"bodily\",\"voices\",\"havnt\",\"tuaregs\",\"unama\",\"relay\",\"motorized\",\"salutation\",\"regardless\",\"surfaces\",\"tubers\",\"faculty\",\"shelling\",\"chechnya\",\"protracted\",\"boosting\",\"oversight\",\"assassination\",\"judiciary\",\"squatter\",\"sadness\",\"airforce\",\"staging\",\"crossroads\",\"mapou\",\"cater\",\"vietnamese\",\"looted\",\"prolonge\",\"103\",\"rheto\",\"composting\",\"shabaab\",\"transplant\",\"custom\",\"megawatt\",\"countering\",\"enacted\",\"firms\",\"coeur\",\"cfa\",\"meltdowns\",\"blaming\",\"threshold\",\"kivu\",\"valid\",\"taxi\",\"drew\",\"gaz\",\"simon\",\"mainstreaming\",\"unocha\",\"readiness\",\"biological\",\"prompt\",\"bakery\",\"undermine\",\"palais\",\"prevalent\",\"meantime\",\"dalles\",\"masonry\",\"mortar\",\"blockade\",\"earnings\",\"kenscoff\",\"kenyans\",\"mrcs\",\"paradise\",\"scouts\",\"illicit\",\"implements\",\"tendency\",\"decontaminate\",\"imf\",\"divided\",\"cookers\",\"fumes\",\"takeover\",\"unaccounted\",\"belgium\",\"unjlc\",\"limits\",\"bordering\",\"quelimane\",\"awake\",\"violation\",\"dien\",\"prepaid\",\"sample\",\"replenishment\",\"beaten\",\"elimination\",\"demonstrating\",\"obtaining\",\"kisses\",\"brutally\",\"tajikistan's\",\"deceased\",\"radius\",\"tu\",\"hike\",\"suburban\",\"diverted\",\"topsoil\",\"addresses\",\"kidnapped\",\"sumatera\",\"enters\",\"halls\",\"mobilising\",\"nationalist\",\"soccer\",\"orthopedic\",\"costa\",\"evolution\",\"minority\",\"mos\",\"greece\",\"borehole\",\"accompany\",\"ammunition\",\"ans\",\"intergovernmental\",\"drafting\",\"430\",\"architect\",\"contaminating\",\"blessed\",\"faustin\",\"fractured\",\"186\",\"halting\",\"withdrawal\",\"desalinization\",\"haitel\",\"pitting\",\"smooth\",\"dew\",\"airdrop\",\"distributes\",\"rebellions\",\"robbery\",\"wastes\",\"inappropriate\",\"chernobyl\",\"freed\",\"shelterbox\",\"camels\",\"sterilization\",\"railroad\",\"monseigneur\",\"precision\",\"hang\",\"leishmaniasis\",\"renegade\",\"reflects\",\"drones\",\"bother\",\"proportional\",\"1988\",\"persistently\",\"mdm\",\"opv\",\"medevac\",\"ensures\",\"sacks\",\"shouting\",\"citizenship\",\"anthrax\",\"motors\",\"wen\",\"lifted\",\"warlords\",\"ministery\",\"solve\",\"visibility\",\"gulberg\",\"hum\",\"aik\",\"abu\",\"shadadkot\",\"accomodation\",\"behaviour\",\"happiness\",\"matric\",\"meri\",\"gul\",\"khair\",\"rojhan\",\"iphone\",\"hea\",\"jamur\",\"khairo\",\"colony\",\"saed\",\"exists\",\"mir\",\"swim\",\"kamber\",\"tha\",\"bathe\",\"virgin\",\"eid\",\"sujawal\",\"tahsil\",\"mianwali\",\"haji\",\"effecte\",\"kro\",\"glasses\",\"awarded\",\"normality\",\"sa\",\"lining\",\"struggles\",\"plays\",\"pra\",\"qualified\",\"cruise\",\"reads\",\"crafts\",\"react\",\"hay\",\"genesis\",\"sponsor\",\"normalcy\",\"convinced\",\"traveled\",\"jose\",\"ja\",\"firmly\",\"cm\",\"20th\",\"sens\",\"mar\",\"galets\",\"colombia\",\"monterey\",\"theater\",\"pit\",\"salary\",\"ghotki\",\"owners\",\"contaminate\",\"braved\",\"elementary\",\"conscience\",\"hess\",\"goodwill\",\"wealthy\",\"shaped\",\"pine\",\"educated\",\"vomit\",\"unchanged\",\"shifts\",\"ps\",\"horizon\",\"debate\",\"canes\",\"advisories\",\"competition\",\"songhua\",\"harbin\",\"robert\",\"ni\",\"returnee\",\"earthquaque\",\"790\",\"policeman\",\"knee\",\"accurate\",\"pylons\",\"vaginal\",\"pt\",\"existent\",\"121\",\"defeat\",\"nationale\",\"ignored\",\"29th\",\"discourage\",\"bell\",\"jfk\",\"kale\",\"grove\",\"dome\",\"compagny\",\"deg\",\"shall\",\"mobil\",\"speedy\",\"episodes\",\"seaside\",\"transparent\",\"clients\",\"bergen\",\"stays\",\"stressing\",\"candle\",\"shoot\",\"grinding\",\"sticks\",\"confined\",\"trading\",\"shuttle\",\"gun\",\"heritage\",\"raided\",\"diagnosed\",\"title\",\"hati\",\"select\",\"homeowners\",\"dame\",\"judge\",\"beef\",\"indication\",\"necrosis\",\"painkillers\",\"heinous\",\"backpack\",\"trays\",\"snacks\",\"academy\",\"sponges\",\"boycott\",\"trips\",\"shampoo\",\"hammers\",\"sanitizer\",\"1842\",\"komin\",\"toddler\",\"yup\",\"braving\",\"nor'easter\",\"fat\",\"apples\",\"circle\",\"jelly\",\"horror\",\"honduras\",\"string\",\"md\",\"retweet\",\"compassion\",\"omgfacts\",\"gl\",\"fundraiser\",\"hahaha\",\"physically\",\"savethechildren\",\"abt\",\"describe\",\"eyewitness\",\"inefficient\",\"therese\",\"op\",\"funny\",\"tweeting\",\"ugh\",\"dominated\",\"feature\",\"geology\",\"115\",\"perish\",\"devastates\",\"6ogjrx\",\"overview\",\"philippine\",\"30am\",\"yrs\",\"cnnbrk\",\"100g\",\"breezy\",\"nigga\",\"announce\",\"willingness\",\"sum\",\"shelf\",\"chair\",\"knock\",\"brooms\",\"tri\",\"daughters\",\"ben\",\"wifi\",\"bleu\",\"recognize\",\"wo\",\"nonsensical\",\"wishing\",\"holiday\",\"m8\",\"pelluhue\",\"pichilemu\",\"inc\",\"maule\",\"santiago's\",\"supermarkets\",\"raiding\",\"underprivileged\",\"constitucion\",\"valparaiso\",\"revive\",\"directions\",\"santiagoand\",\"midtown\",\"replica\",\"anxiety\",\"deserted\",\"inn\",\"pissed\",\"375\",\"uptown\",\"pairs\",\"flame\",\"foster\",\"combustion\",\"wich\",\"sandynyc\",\"sounami\",\"classified\",\"sandysucks\",\"uws\",\"commute\",\"lightly\",\"pillows\",\"pollination\",\"importantly\",\"episode\",\"tense\",\"licensed\",\"drives\",\"fam\",\"evaluate\",\"movies\",\"dance\",\"sparking\",\"responder\",\"prosperity\",\"patchy\",\"gentlemen\",\"recession\",\"stationing\",\"ndma\",\"secret\",\"blind\",\"empowerment\",\"mw\",\"expenditure\",\"subsidy\",\"hinche\",\"ninth\",\"venezuela\",\"drove\",\"settled\",\"hammond\",\"constituent\",\"arise\",\"bosnia\",\"loving\",\"thx\",\"laboule\",\"hindu\",\"lacks\",\"zaire\",\"shame\",\"zhang\",\"recruited\",\"widened\",\"lending\",\"124\",\"finalized\",\"altogether\",\"seekers\",\"540\",\"incorporated\",\"expatriate\",\"turkish\",\"marchand\",\"deteriorated\",\"toppling\",\"bahr\",\"ghazal\",\"fin\",\"reporters\",\"cemetery\",\"isn\",\"certified\",\"spark\",\"karakoram\",\"prescription\",\"crippling\",\"imigration\",\"reminded\",\"mangroves\",\"sediment\",\"sender\",\"balkans\",\"observe\",\"daytime\",\"fo\",\"manufacturers\",\"137\",\"volcano's\",\"paralyzed\",\"mentawai\",\"unimaginable\",\"taiwan's\",\"communes\",\"fury\",\"reconstructing\",\"friendship\",\"initiating\",\"bo\",\"fake\",\"ouest\",\"salem\",\"unveiled\",\"deliberate\",\"castro\",\"orphanage\",\"tout\",\"geologists\",\"masons\",\"ethiopians\",\"31st\",\"concentrate\",\"evangelical\",\"vacant\",\"engulfing\",\"surroundings\",\"yam\",\"spinach\",\"certificates\",\"kosi\",\"choppers\",\"developmental\",\"embassies\",\"littered\",\"jonathan\",\"climates\",\"enhancement\",\"proportions\",\"ye\",\"310\",\"periodic\",\"colonel\",\"520\",\"arunachal\",\"bath\",\"euros\",\"uncovered\",\"decimated\",\"pressures\",\"grasshoppers\",\"husbandry\",\"regimes\",\"mesage\",\"defences\",\"surgeries\",\"pmd\",\"issuing\",\"propaganda\",\"landmark\",\"manure\",\"limiting\",\"customer\",\"sprayed\",\"breed\",\"onslaught\",\"wars\",\"we'd\",\"patch\",\"committing\",\"breathing\",\"exp\",\"orthopaedic\",\"faucet\",\"profile\",\"geographic\",\"australia's\",\"chosen\",\"swelled\",\"rumors\",\"features\",\"tortue\",\"bihar's\",\"seismologists\",\"inevitable\",\"influenced\",\"crack\",\"stolen\",\"thereas\",\"sling\",\"backup\",\"alright\",\"dissent\",\"destined\",\"crown\",\"560\",\"intention\",\"responsability\",\"exhaustion\",\"340\",\"boyfriend\",\"relieve\",\"advises\",\"pride\",\"sharply\",\"hearthquake\",\"lighter\",\"puerto\",\"qinghai\",\"374\",\"classical\",\"mercury\",\"railways\",\"chemistry\",\"snowy\",\"waterworks\",\"oceans\",\"unfavorable\",\"gala\",\"interview\",\"digestive\",\"cracking\",\"tuesday's\",\"bulletins\",\"saltwater\",\"unfavourable\",\"assistances\",\"borrow\",\"kinnaur\",\"swelling\",\"organization's\",\"happend\",\"dekad\",\"asia's\",\"weting\",\"subtropical\",\"performing\",\"spewed\",\"grief\",\"postpone\",\"denounce\",\"permission\",\"yushu\",\"cator\",\"gratitude\",\"usage\",\"sounded\",\"presidency\",\"resultant\",\"proving\",\"290\",\"lit\",\"febrile\",\"worship\",\"hirat\",\"union's\",\"extends\",\"element\",\"compounding\",\"acrid\",\"integrate\",\"sinking\",\"dignity\",\"troubles\",\"80km\",\"capability\",\"cares\",\"silted\",\"coarse\",\"scenarios\",\"feasibility\",\"decentralized\",\"unseasonable\",\"rolling\",\"silver\",\"lash\",\"hilly\",\"himalayas\",\"kelut\",\"comprise\",\"drying\",\"jaya\",\"larvae\",\"prisons\",\"lingering\",\"tradition\",\"snake\",\"draining\",\"256\",\"bloated\",\"tamils\",\"inundate\",\"bands\",\"exacerbate\",\"sofala\",\"enrolled\",\"disclosed\",\"c\\u00f4te\",\"pile\",\"failing\",\"recharging\",\"ayeyawaddy\"],\"x\":{\"__ndarray__\":\"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\",\"dtype\":\"float32\",\"shape\":[8484]},\"y\":{\"__ndarray__\":\"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\",\"dtype\":\"float32\",\"shape\":[8484]}},\"selected\":{\"id\":\"1160\",\"type\":\"Selection\"},\"selection_policy\":{\"id\":\"1161\",\"type\":\"UnionRenderers\"}},\"id\":\"1139\",\"type\":\"ColumnDataSource\"},{\"attributes\":{},\"id\":\"1114\",\"type\":\"LinearScale\"},{\"attributes\":{\"callback\":null},\"id\":\"1108\",\"type\":\"DataRange1d\"},{\"attributes\":{},\"id\":\"1126\",\"type\":\"PanTool\"},{\"attributes\":{\"data_source\":{\"id\":\"1139\",\"type\":\"ColumnDataSource\"},\"glyph\":{\"id\":\"1140\",\"type\":\"Text\"},\"hover_glyph\":null,\"muted_glyph\":null,\"nonselection_glyph\":{\"id\":\"1141\",\"type\":\"Text\"},\"selection_glyph\":null,\"view\":{\"id\":\"1143\",\"type\":\"CDSView\"}},\"id\":\"1142\",\"type\":\"GlyphRenderer\"},{\"attributes\":{\"formatter\":{\"id\":\"1157\",\"type\":\"BasicTickFormatter\"},\"ticker\":{\"id\":\"1117\",\"type\":\"BasicTicker\"}},\"id\":\"1116\",\"type\":\"LinearAxis\"},{\"attributes\":{\"source\":{\"id\":\"1139\",\"type\":\"ColumnDataSource\"}},\"id\":\"1143\",\"type\":\"CDSView\"},{\"attributes\":{},\"id\":\"1161\",\"type\":\"UnionRenderers\"},{\"attributes\":{},\"id\":\"1127\",\"type\":\"WheelZoomTool\"},{\"attributes\":{\"text_color\":{\"value\":\"black\"},\"x\":{\"field\":\"x\"},\"y\":{\"field\":\"y\"}},\"id\":\"1140\",\"type\":\"Text\"},{\"attributes\":{},\"id\":\"1157\",\"type\":\"BasicTickFormatter\"},{\"attributes\":{},\"id\":\"1131\",\"type\":\"HelpTool\"},{\"attributes\":{},\"id\":\"1112\",\"type\":\"LinearScale\"},{\"attributes\":{},\"id\":\"1129\",\"type\":\"SaveTool\"},{\"attributes\":{\"active_drag\":\"auto\",\"active_inspect\":\"auto\",\"active_multi\":null,\"active_scroll\":\"auto\",\"active_tap\":\"auto\",\"tools\":[{\"id\":\"1126\",\"type\":\"PanTool\"},{\"id\":\"1127\",\"type\":\"WheelZoomTool\"},{\"id\":\"1128\",\"type\":\"BoxZoomTool\"},{\"id\":\"1129\",\"type\":\"SaveTool\"},{\"id\":\"1130\",\"type\":\"ResetTool\"},{\"id\":\"1131\",\"type\":\"HelpTool\"}]},\"id\":\"1132\",\"type\":\"Toolbar\"},{\"attributes\":{\"bottom_units\":\"screen\",\"fill_alpha\":{\"value\":0.5},\"fill_color\":{\"value\":\"lightgrey\"},\"left_units\":\"screen\",\"level\":\"overlay\",\"line_alpha\":{\"value\":1.0},\"line_color\":{\"value\":\"black\"},\"line_dash\":[4,4],\"line_width\":{\"value\":2},\"render_mode\":\"css\",\"right_units\":\"screen\",\"top_units\":\"screen\"},\"id\":\"1159\",\"type\":\"BoxAnnotation\"},{\"attributes\":{},\"id\":\"1160\",\"type\":\"Selection\"},{\"attributes\":{},\"id\":\"1130\",\"type\":\"ResetTool\"},{\"attributes\":{\"dimension\":1,\"ticker\":{\"id\":\"1122\",\"type\":\"BasicTicker\"}},\"id\":\"1125\",\"type\":\"Grid\"},{\"attributes\":{},\"id\":\"1122\",\"type\":\"BasicTicker\"},{\"attributes\":{\"callback\":null},\"id\":\"1110\",\"type\":\"DataRange1d\"},{\"attributes\":{\"text\":\"\"},\"id\":\"1154\",\"type\":\"Title\"},{\"attributes\":{},\"id\":\"1117\",\"type\":\"BasicTicker\"},{\"attributes\":{\"overlay\":{\"id\":\"1159\",\"type\":\"BoxAnnotation\"}},\"id\":\"1128\",\"type\":\"BoxZoomTool\"},{\"attributes\":{\"formatter\":{\"id\":\"1155\",\"type\":\"BasicTickFormatter\"},\"ticker\":{\"id\":\"1122\",\"type\":\"BasicTicker\"}},\"id\":\"1121\",\"type\":\"LinearAxis\"},{\"attributes\":{\"text_alpha\":{\"value\":0.1},\"text_color\":{\"value\":\"black\"},\"x\":{\"field\":\"x\"},\"y\":{\"field\":\"y\"}},\"id\":\"1141\",\"type\":\"Text\"},{\"attributes\":{},\"id\":\"1155\",\"type\":\"BasicTickFormatter\"},{\"attributes\":{\"ticker\":{\"id\":\"1117\",\"type\":\"BasicTicker\"}},\"id\":\"1120\",\"type\":\"Grid\"}],\"root_ids\":[\"1107\"]},\"title\":\"Bokeh Application\",\"version\":\"1.4.0\"}};\n",
       "  var render_items = [{\"docid\":\"35538f6b-11b2-4a51-9e4b-69398d56a03c\",\"roots\":{\"1107\":\"43e7c3e5-0d5a-42c7-b524-b563b8089da7\"}}];\n",
       "  root.Bokeh.embed.embed_items_notebook(docs_json, render_items);\n",
       "\n",
       "  }\n",
       "  if (root.Bokeh !== undefined) {\n",
       "    embed_document(root);\n",
       "  } else {\n",
       "    var attempts = 0;\n",
       "    var timer = setInterval(function(root) {\n",
       "      if (root.Bokeh !== undefined) {\n",
       "        clearInterval(timer);\n",
       "        embed_document(root);\n",
       "      } else {\n",
       "        attempts++;\n",
       "        if (attempts > 100) {\n",
       "          clearInterval(timer);\n",
       "          console.log(\"Bokeh: ERROR: Unable to run BokehJS code because BokehJS library is missing\");\n",
       "        }\n",
       "      }\n",
       "    }, 10, root)\n",
       "  }\n",
       "})(window);"
      ],
      "application/vnd.bokehjs_exec.v0+json": ""
     },
     "metadata": {
      "application/vnd.bokehjs_exec.v0+json": {
       "id": "1107"
      }
     },
     "output_type": "display_data"
    }
   ],
   "source": [
    "output_notebook()\n",
    "subset_df = coords_df\n",
    "p = figure(plot_width=800, plot_height=800)\n",
    "_ = p.text(x=subset_df.x, y=subset_df.y, text=subset_df.token)\n",
    "show(p)"
   ]
  },
  {
   "cell_type": "code",
   "execution_count": 139,
   "metadata": {},
   "outputs": [
    {
     "data": {
      "text/html": [
       "<div>\n",
       "<style scoped>\n",
       "    .dataframe tbody tr th:only-of-type {\n",
       "        vertical-align: middle;\n",
       "    }\n",
       "\n",
       "    .dataframe tbody tr th {\n",
       "        vertical-align: top;\n",
       "    }\n",
       "\n",
       "    .dataframe thead th {\n",
       "        text-align: right;\n",
       "    }\n",
       "</style>\n",
       "<table border=\"1\" class=\"dataframe\">\n",
       "  <thead>\n",
       "    <tr style=\"text-align: right;\">\n",
       "      <th></th>\n",
       "      <th>x</th>\n",
       "      <th>y</th>\n",
       "      <th>token</th>\n",
       "    </tr>\n",
       "  </thead>\n",
       "  <tbody>\n",
       "    <tr>\n",
       "      <th>0</th>\n",
       "      <td>-4.643049</td>\n",
       "      <td>-0.971839</td>\n",
       "      <td></td>\n",
       "    </tr>\n",
       "    <tr>\n",
       "      <th>1</th>\n",
       "      <td>-4.975239</td>\n",
       "      <td>-1.246674</td>\n",
       "      <td>e</td>\n",
       "    </tr>\n",
       "    <tr>\n",
       "      <th>2</th>\n",
       "      <td>-5.192276</td>\n",
       "      <td>-1.665038</td>\n",
       "      <td>a</td>\n",
       "    </tr>\n",
       "    <tr>\n",
       "      <th>3</th>\n",
       "      <td>-5.209760</td>\n",
       "      <td>-1.004585</td>\n",
       "      <td>t</td>\n",
       "    </tr>\n",
       "    <tr>\n",
       "      <th>4</th>\n",
       "      <td>-4.985987</td>\n",
       "      <td>-1.156545</td>\n",
       "      <td>o</td>\n",
       "    </tr>\n",
       "    <tr>\n",
       "      <th>...</th>\n",
       "      <td>...</td>\n",
       "      <td>...</td>\n",
       "      <td>...</td>\n",
       "    </tr>\n",
       "    <tr>\n",
       "      <th>113</th>\n",
       "      <td>2.098106</td>\n",
       "      <td>-0.248387</td>\n",
       "      <td>&lt;</td>\n",
       "    </tr>\n",
       "    <tr>\n",
       "      <th>114</th>\n",
       "      <td>6.618929</td>\n",
       "      <td>-0.342723</td>\n",
       "      <td>¢</td>\n",
       "    </tr>\n",
       "    <tr>\n",
       "      <th>115</th>\n",
       "      <td>3.316226</td>\n",
       "      <td>-0.291692</td>\n",
       "      <td>ô</td>\n",
       "    </tr>\n",
       "    <tr>\n",
       "      <th>116</th>\n",
       "      <td>3.014645</td>\n",
       "      <td>1.026564</td>\n",
       "      <td>ç</td>\n",
       "    </tr>\n",
       "    <tr>\n",
       "      <th>117</th>\n",
       "      <td>3.327381</td>\n",
       "      <td>-0.585721</td>\n",
       "      <td>~</td>\n",
       "    </tr>\n",
       "  </tbody>\n",
       "</table>\n",
       "<p>118 rows × 3 columns</p>\n",
       "</div>"
      ],
      "text/plain": [
       "            x         y token\n",
       "0   -4.643049 -0.971839      \n",
       "1   -4.975239 -1.246674     e\n",
       "2   -5.192276 -1.665038     a\n",
       "3   -5.209760 -1.004585     t\n",
       "4   -4.985987 -1.156545     o\n",
       "..        ...       ...   ...\n",
       "113  2.098106 -0.248387     <\n",
       "114  6.618929 -0.342723     ¢\n",
       "115  3.316226 -0.291692     ô\n",
       "116  3.014645  1.026564     ç\n",
       "117  3.327381 -0.585721     ~\n",
       "\n",
       "[118 rows x 3 columns]"
      ]
     },
     "execution_count": 139,
     "metadata": {},
     "output_type": "execute_result"
    }
   ],
   "source": [
    "coords_df"
   ]
  },
  {
   "cell_type": "markdown",
   "metadata": {},
   "source": [
    "# Keras Model\n",
    "\n",
    "## DNN"
   ]
  },
  {
   "cell_type": "code",
<<<<<<< HEAD
   "execution_count": 22,
=======
   "execution_count": 116,
>>>>>>> 1ad88738b7f8d6f6515fa36a8fb8f75b89e33c44
   "metadata": {},
   "outputs": [
    {
     "name": "stdout",
     "output_type": "stream",
     "text": [
<<<<<<< HEAD
      "Model: \"sequential\"\n",
      "_________________________________________________________________\n",
      "Layer (type)                 Output Shape              Param #   \n",
      "=================================================================\n",
      "embedding (Embedding)        (None, 200, 100)          1500000   \n",
      "_________________________________________________________________\n",
      "flatten (Flatten)            (None, 20000)             0         \n",
      "_________________________________________________________________\n",
      "dense (Dense)                (None, 32)                640032    \n",
      "_________________________________________________________________\n",
      "dense_1 (Dense)              (None, 36)                1188      \n",
      "=================================================================\n",
      "Total params: 2,141,220\n",
      "Trainable params: 2,141,220\n",
      "Non-trainable params: 0\n",
      "_________________________________________________________________\n"
     ]
    },
    {
     "ename": "NameError",
     "evalue": "name 'embedding_matrix' is not defined",
     "output_type": "error",
     "traceback": [
      "\u001b[0;31m---------------------------------------------------------------------------\u001b[0m",
      "\u001b[0;31mNameError\u001b[0m                                 Traceback (most recent call last)",
      "\u001b[0;32m<ipython-input-22-35d6af25f9bc>\u001b[0m in \u001b[0;36m<module>\u001b[0;34m\u001b[0m\n\u001b[1;32m      8\u001b[0m \u001b[0mmodel\u001b[0m\u001b[0;34m.\u001b[0m\u001b[0msummary\u001b[0m\u001b[0;34m(\u001b[0m\u001b[0;34m)\u001b[0m\u001b[0;34m\u001b[0m\u001b[0;34m\u001b[0m\u001b[0m\n\u001b[1;32m      9\u001b[0m \u001b[0;34m\u001b[0m\u001b[0m\n\u001b[0;32m---> 10\u001b[0;31m \u001b[0mmodel\u001b[0m\u001b[0;34m.\u001b[0m\u001b[0mlayers\u001b[0m\u001b[0;34m[\u001b[0m\u001b[0;36m0\u001b[0m\u001b[0;34m]\u001b[0m\u001b[0;34m.\u001b[0m\u001b[0mset_weights\u001b[0m\u001b[0;34m(\u001b[0m\u001b[0;34m[\u001b[0m \u001b[0membedding_matrix\u001b[0m\u001b[0;34m]\u001b[0m\u001b[0;34m)\u001b[0m\u001b[0;34m\u001b[0m\u001b[0;34m\u001b[0m\u001b[0m\n\u001b[0m\u001b[1;32m     11\u001b[0m \u001b[0mmodel\u001b[0m\u001b[0;34m.\u001b[0m\u001b[0mlayers\u001b[0m\u001b[0;34m[\u001b[0m\u001b[0;36m0\u001b[0m\u001b[0;34m]\u001b[0m\u001b[0;34m.\u001b[0m\u001b[0mtrainable\u001b[0m \u001b[0;34m=\u001b[0m \u001b[0;32mFalse\u001b[0m\u001b[0;34m\u001b[0m\u001b[0;34m\u001b[0m\u001b[0m\n\u001b[1;32m     12\u001b[0m \u001b[0;34m\u001b[0m\u001b[0m\n",
      "\u001b[0;31mNameError\u001b[0m: name 'embedding_matrix' is not defined"
     ]
=======
      "Model: \"sequential_4\"\n",
      "_________________________________________________________________\n",
      "Layer (type)                 Output Shape              Param #   \n",
      "=================================================================\n",
      "embedding_4 (Embedding)      (None, 100, 100)          1000000   \n",
      "_________________________________________________________________\n",
      "flatten_4 (Flatten)          (None, 10000)             0         \n",
      "_________________________________________________________________\n",
      "dense_7 (Dense)              (None, 32)                320032    \n",
      "_________________________________________________________________\n",
      "dense_8 (Dense)              (None, 36)                1188      \n",
      "=================================================================\n",
      "Total params: 1,321,220\n",
      "Trainable params: 1,321,220\n",
      "Non-trainable params: 0\n",
      "_________________________________________________________________\n"
     ]
>>>>>>> 1ad88738b7f8d6f6515fa36a8fb8f75b89e33c44
    }
   ],
   "source": [
    "from keras.models import Sequential \n",
    "from keras.layers import Embedding, Flatten, Dense \n",
    "model = Sequential() \n",
    "model.add( Embedding( max_words, embedding_dim, input_length = maxlen)) \n",
    "model.add( Flatten()) \n",
    "model.add( Dense( 32, activation ='relu')) \n",
    "model.add( Dense( 36, activation ='sigmoid'))\n",
    "model.summary()\n",
    "\n",
    "model.layers[0].set_weights([ embedding_matrix]) \n",
    "model.layers[0].trainable = False\n",
    "\n"
   ]
  },
  {
   "cell_type": "code",
   "execution_count": null,
   "metadata": {},
   "outputs": [],
   "source": []
  },
  {
   "cell_type": "code",
<<<<<<< HEAD
   "execution_count": null,
   "metadata": {},
   "outputs": [],
   "source": [
    "model.compile( optimizer ='rmsprop', loss ='binary_crossentropy', metrics =['acc']) \n",
    "history = model.fit( X_train, y_train, epochs = 10, batch_size = 32, validation_split = 0.2)  # validation_data = (X_test, y_test)\n",
    "model.save_weights('pre_trained_glove_model.h5')\n",
    "\n"
   ]
  },
  {
   "cell_type": "code",
   "execution_count": null,
   "metadata": {},
   "outputs": [],
   "source": [
    "results = model.evaluate(X_test, y_test, batch_size=128)\n",
    "print(\"test loss, test acc:\", results)\n"
   ]
  },
  {
   "cell_type": "markdown",
   "metadata": {},
   "source": [
    "# CNN"
   ]
  },
  {
   "cell_type": "code",
   "execution_count": 23,
   "metadata": {},
   "outputs": [],
   "source": [
    "from keras.preprocessing.sequence import pad_sequences\n",
    "from keras.models import Sequential\n",
    "from keras.layers import Dense, Dropout, Embedding\n",
    "from keras.layers import SpatialDropout1D, Conv1D, GlobalMaxPooling1D # new! \n",
    "from keras.callbacks import ModelCheckpoint\n",
    "import os\n",
    "from sklearn.metrics import roc_auc_score \n",
    "import matplotlib.pyplot as plt \n",
    "%matplotlib inline"
   ]
  },
  {
   "cell_type": "markdown",
   "metadata": {},
   "source": [
    "### Set Hyperparameters"
   ]
  },
  {
   "cell_type": "code",
   "execution_count": 25,
   "metadata": {},
   "outputs": [],
   "source": [
    "# output directory name:\n",
    "output_dir = 'model_output/conv'\n",
    "\n",
    "# training:\n",
    "epochs = 2\n",
    "batch_size = 128\n",
    "\n",
    "# vector-space embedding: \n",
    "n_dim = 100\n",
    "n_unique_words = max_words \n",
    "max_review_length = maxlen\n",
    "pad_type = trunc_type = 'pre'\n",
    "drop_embed = 0.2 # new!\n",
    "\n",
    "# convolutional layer architecture:\n",
    "n_conv = 256 # filters, a.k.a. kernels\n",
    "k_conv = 3 # kernel length\n",
    "\n",
    "# dense layer architecture: \n",
    "n_dense = 256\n",
    "dropout = 0.2"
   ]
  },
  {
   "cell_type": "markdown",
   "metadata": {},
   "source": [
    "#### Preprocess data"
   ]
  },
  {
   "cell_type": "code",
   "execution_count": 26,
   "metadata": {},
   "outputs": [
    {
     "data": {
      "text/plain": [
       "array([[ 200, 2130,    6, ...,    0,    0,    0],\n",
       "       [   9,    1,  142, ...,    0,    0,    0],\n",
       "       [1009,    8,  517, ...,    0,    0,    0],\n",
       "       ...,\n",
       "       [1586,    5, 4934, ...,    0,    0,    0],\n",
       "       [  47,  104,   55, ...,    0,    0,    0],\n",
       "       [   6, 4402, 3451, ...,    0,    0,    0]], dtype=int32)"
      ]
     },
     "execution_count": 26,
     "metadata": {},
     "output_type": "execute_result"
    }
   ],
   "source": [
    "X_data"
   ]
  },
  {
   "cell_type": "code",
   "execution_count": 27,
   "metadata": {},
   "outputs": [],
   "source": [
    "x_train, x_test, y_train, y_test = train_test_split(X_data, Y, test_size=0.3)"
   ]
  },
  {
   "cell_type": "code",
   "execution_count": 28,
   "metadata": {},
   "outputs": [
    {
     "data": {
      "text/plain": [
       "(18323, 200)"
      ]
     },
     "execution_count": 28,
     "metadata": {},
     "output_type": "execute_result"
    }
   ],
   "source": [
    "x_train.shape"
   ]
  },
  {
   "cell_type": "code",
   "execution_count": 29,
   "metadata": {},
   "outputs": [],
   "source": [
    "x_train = pad_sequences(X_train, maxlen=max_review_length, padding=pad_type, truncating=trunc_type, value=0)\n",
    "x_test = pad_sequences(X_test, maxlen=max_review_length, padding=pad_type, truncating=trunc_type, value=0)"
=======
   "execution_count": 118,
   "metadata": {},
   "outputs": [
    {
     "name": "stdout",
     "output_type": "stream",
     "text": [
      "Epoch 1/10\n",
      "459/459 [==============================] - 3s 5ms/step - loss: 0.0876 - acc: 0.9174 - val_loss: 0.1105 - val_acc: 0.8928\n",
      "Epoch 2/10\n",
      "459/459 [==============================] - 2s 4ms/step - loss: 0.0800 - acc: 0.9076 - val_loss: 0.1055 - val_acc: 0.9411\n",
      "Epoch 3/10\n",
      "459/459 [==============================] - 2s 4ms/step - loss: 0.0758 - acc: 0.9050 - val_loss: 0.1120 - val_acc: 0.8142\n",
      "Epoch 4/10\n",
      "459/459 [==============================] - 2s 4ms/step - loss: 0.0725 - acc: 0.8878 - val_loss: 0.1346 - val_acc: 0.8731\n",
      "Epoch 5/10\n",
      "459/459 [==============================] - 2s 5ms/step - loss: 0.0693 - acc: 0.8789 - val_loss: 0.1269 - val_acc: 0.9141\n",
      "Epoch 6/10\n",
      "459/459 [==============================] - 2s 5ms/step - loss: 0.0655 - acc: 0.8806 - val_loss: 0.1394 - val_acc: 0.8920\n",
      "Epoch 7/10\n",
      "459/459 [==============================] - 2s 5ms/step - loss: 0.0613 - acc: 0.8751 - val_loss: 0.1479 - val_acc: 0.8546\n",
      "Epoch 8/10\n",
      "459/459 [==============================] - 2s 5ms/step - loss: 0.0601 - acc: 0.8506 - val_loss: 0.1512 - val_acc: 0.8412\n",
      "Epoch 9/10\n",
      "459/459 [==============================] - 2s 4ms/step - loss: 0.0562 - acc: 0.8513 - val_loss: 0.1702 - val_acc: 0.8325\n",
      "Epoch 10/10\n",
      "459/459 [==============================] - 2s 5ms/step - loss: 0.0570 - acc: 0.8510 - val_loss: 0.1662 - val_acc: 0.8409\n"
     ]
    }
   ],
   "source": [
    "model.compile( optimizer ='rmsprop', loss ='binary_crossentropy', metrics =['acc']) \n",
    "history = model.fit( X_train, y_train, epochs = 10, batch_size = 32, validation_split = 0.2)  # validation_data = (X_test, y_test)\n",
    "model.save_weights('pre_trained_glove_model.h5')\n",
    "\n"
>>>>>>> 1ad88738b7f8d6f6515fa36a8fb8f75b89e33c44
   ]
  },
  {
   "cell_type": "code",
<<<<<<< HEAD
   "execution_count": 30,
   "metadata": {},
   "outputs": [
    {
     "data": {
      "text/plain": [
       "array([[  98,   16,  189, ...,    0,    0,    0],\n",
       "       [ 815,    3, 2316, ...,    0,    0,    0],\n",
       "       [   7,   12,    6, ...,    0,    0,    0],\n",
       "       ...,\n",
       "       [  90,   28,    7, ...,    0,    0,    0],\n",
       "       [  97, 9668,   10, ...,    0,    0,    0],\n",
       "       [ 534,  536,    9, ...,    0,    0,    0]], dtype=int32)"
      ]
     },
     "execution_count": 30,
     "metadata": {},
     "output_type": "execute_result"
    }
   ],
   "source": [
    "x_train"
   ]
  },
  {
   "cell_type": "code",
   "execution_count": 31,
   "metadata": {},
   "outputs": [
    {
     "data": {
      "text/plain": [
       "(18323, 200)"
      ]
     },
     "execution_count": 31,
     "metadata": {},
     "output_type": "execute_result"
    }
   ],
   "source": [
    "x_train.shape"
   ]
  },
  {
   "cell_type": "markdown",
   "metadata": {},
   "source": [
    "#### Design neural network architecture"
   ]
  },
  {
   "cell_type": "code",
   "execution_count": 32,
   "metadata": {},
   "outputs": [],
   "source": [
    "model2 = Sequential()\n",
    "model2.add(Embedding(n_unique_words, n_dim, input_length=max_review_length)) \n",
    "model2.add(SpatialDropout1D(drop_embed))\n",
    "model2.add(Conv1D(n_conv, k_conv, activation='relu'))\n",
    "# model.add(Conv1D(n_conv, k_conv, activation='relu'))\n",
    "model2.add(GlobalMaxPooling1D())\n",
    "model2.add(Dense(n_dense, activation='relu'))\n",
    "model2.add(Dropout(dropout))\n",
    "model2.add(Dense(36, activation='sigmoid'))"
   ]
  },
  {
   "cell_type": "code",
   "execution_count": 33,
   "metadata": {},
   "outputs": [
    {
     "name": "stdout",
     "output_type": "stream",
     "text": [
      "Model: \"sequential_1\"\n",
      "_________________________________________________________________\n",
      "Layer (type)                 Output Shape              Param #   \n",
      "=================================================================\n",
      "embedding_1 (Embedding)      (None, 200, 100)          1500000   \n",
      "_________________________________________________________________\n",
      "spatial_dropout1d (SpatialDr (None, 200, 100)          0         \n",
      "_________________________________________________________________\n",
      "conv1d (Conv1D)              (None, 198, 256)          77056     \n",
      "_________________________________________________________________\n",
      "global_max_pooling1d (Global (None, 256)               0         \n",
      "_________________________________________________________________\n",
      "dense_2 (Dense)              (None, 256)               65792     \n",
      "_________________________________________________________________\n",
      "dropout (Dropout)            (None, 256)               0         \n",
      "_________________________________________________________________\n",
      "dense_3 (Dense)              (None, 36)                9252      \n",
      "=================================================================\n",
      "Total params: 1,652,100\n",
      "Trainable params: 1,652,100\n",
      "Non-trainable params: 0\n",
      "_________________________________________________________________\n"
     ]
    }
   ],
   "source": [
    "model2.summary() "
   ]
  },
  {
   "cell_type": "markdown",
   "metadata": {},
   "source": [
    "#### Configure model"
   ]
  },
  {
   "cell_type": "code",
   "execution_count": 34,
   "metadata": {},
   "outputs": [],
   "source": [
    "model2.compile(loss='binary_crossentropy', optimizer='adam', metrics=['accuracy'])"
   ]
  },
  {
   "cell_type": "code",
   "execution_count": 35,
   "metadata": {},
   "outputs": [],
   "source": [
    "modelcheckpoint = ModelCheckpoint(filepath=output_dir+\"/weights.{epoch:02d}.hdf5\")\n",
    "if not os.path.exists(output_dir):\n",
    "    os.makedirs(output_dir)"
   ]
  },
  {
   "cell_type": "markdown",
   "metadata": {},
   "source": [
    "## Train Model"
   ]
  },
  {
   "cell_type": "code",
   "execution_count": 36,
   "metadata": {},
   "outputs": [
    {
     "data": {
      "text/plain": [
       "(18323, 36)"
      ]
     },
     "execution_count": 36,
     "metadata": {},
     "output_type": "execute_result"
    }
   ],
   "source": [
    "y_train.shape"
   ]
  },
  {
   "cell_type": "code",
   "execution_count": 37,
   "metadata": {},
   "outputs": [
    {
     "data": {
      "text/plain": [
       "(18323, 200)"
      ]
     },
     "execution_count": 37,
     "metadata": {},
     "output_type": "execute_result"
    }
   ],
   "source": [
    "x_train.shape"
   ]
  },
  {
   "cell_type": "code",
   "execution_count": 38,
   "metadata": {},
   "outputs": [
    {
     "data": {
      "text/plain": [
       "numpy.ndarray"
      ]
     },
     "execution_count": 38,
     "metadata": {},
     "output_type": "execute_result"
    }
   ],
   "source": [
    "type(x_train)"
   ]
  },
  {
   "cell_type": "code",
   "execution_count": 39,
   "metadata": {},
   "outputs": [
    {
     "name": "stdout",
     "output_type": "stream",
     "text": [
      "Epoch 1/2\n",
      "115/115 [==============================] - 38s 228ms/step - loss: 0.3810 - accuracy: 0.9162 - val_loss: 0.2157 - val_accuracy: 1.0000\n",
      "Epoch 2/2\n",
      "115/115 [==============================] - 26s 225ms/step - loss: 0.2235 - accuracy: 0.9994 - val_loss: 0.2159 - val_accuracy: 1.0000\n"
     ]
    },
    {
     "data": {
      "text/plain": [
       "<keras.callbacks.History at 0x7fc2270b6710>"
      ]
     },
     "execution_count": 39,
     "metadata": {},
     "output_type": "execute_result"
    }
   ],
   "source": [
    "model2.fit(x_train, y_train, batch_size=batch_size, epochs=epochs, \n",
    "           verbose=1, validation_split=0.2, callbacks=[modelcheckpoint],\n",
    "          workers=10)"
   ]
  },
  {
   "cell_type": "code",
   "execution_count": null,
   "metadata": {},
   "outputs": [],
   "source": []
  },
  {
   "cell_type": "markdown",
   "metadata": {},
   "source": [
    "#### Evaluate"
   ]
  },
  {
   "cell_type": "code",
   "execution_count": 232,
   "metadata": {},
   "outputs": [
    {
     "name": "stdout",
     "output_type": "stream",
     "text": [
      "/opt/conda/lib/python3.7/site-packages/secretstorage/dhcrypto.py:16: CryptographyDeprecationWarning: int_from_bytes is deprecated, use int.from_bytes instead\n",
      "  from cryptography.utils import int_from_bytes\n",
      "/opt/conda/lib/python3.7/site-packages/secretstorage/util.py:25: CryptographyDeprecationWarning: int_from_bytes is deprecated, use int.from_bytes instead\n",
      "  from cryptography.utils import int_from_bytes\n",
      "Collecting pydot\n",
      "  Downloading pydot-1.4.2-py2.py3-none-any.whl (21 kB)\n",
      "Requirement already satisfied: pyparsing>=2.1.4 in /opt/conda/lib/python3.7/site-packages (from pydot) (2.4.6)\n",
      "Installing collected packages: pydot\n",
      "Successfully installed pydot-1.4.2\n",
      "\u001b[33mWARNING: Running pip as root will break packages and permissions. You should install packages reliably by using venv: https://pip.pypa.io/warnings/venv\u001b[0m\n",
      "\u001b[33mWARNING: You are using pip version 21.1.1; however, version 21.1.3 is available.\n",
      "You should consider upgrading via the '/opt/conda/bin/python -m pip install --upgrade pip' command.\u001b[0m\n"
     ]
    }
   ],
   "source": [
    "!pip install pydot"
   ]
  },
  {
   "cell_type": "code",
   "execution_count": 40,
   "metadata": {},
   "outputs": [
    {
     "name": "stdout",
     "output_type": "stream",
     "text": [
      "('You must install pydot (`pip install pydot`) and install graphviz (see instructions at https://graphviz.gitlab.io/download/) ', 'for plot_model/model_to_dot to work.')\n"
     ]
    }
   ],
   "source": [
    "from tensorflow.keras.utils import plot_model \n",
    "plot_model(model2, to_file ='model.png')\n",
    "\n"
   ]
  },
  {
   "cell_type": "code",
   "execution_count": 236,
   "metadata": {},
   "outputs": [],
   "source": [
    "model2.load_weights(output_dir+\"/weights.03.hdf5\") "
   ]
  },
  {
   "cell_type": "code",
   "execution_count": 46,
   "metadata": {},
   "outputs": [
    {
     "name": "stdout",
     "output_type": "stream",
     "text": [
      "246/246 [==============================] - 3s 12ms/step - loss: 0.2170 - accuracy: 1.0000\n"
     ]
    }
   ],
   "source": [
    "score = model2.evaluate(X_test, y_test, verbose=1)"
   ]
  },
  {
   "cell_type": "code",
   "execution_count": 45,
   "metadata": {},
   "outputs": [
    {
     "data": {
      "text/plain": [
       "[0.21702812612056732, 1.0]"
      ]
     },
     "execution_count": 45,
     "metadata": {},
     "output_type": "execute_result"
    }
   ],
   "source": [
    "score"
   ]
  },
  {
   "cell_type": "code",
   "execution_count": 58,
   "metadata": {},
   "outputs": [
    {
     "data": {
      "text/plain": [
       "array([  37, 1024, 1886,   81,    3,    1,   19,    4,   64,   56,  187,\n",
       "        918,    6, 2543,   36, 1832, 4279,  351,    9,  950,    0,    0,\n",
       "          0,    0,    0,    0,    0,    0,    0,    0,    0,    0,    0,\n",
       "          0,    0,    0,    0,    0,    0,    0,    0,    0,    0,    0,\n",
       "          0,    0,    0,    0,    0,    0,    0,    0,    0,    0,    0,\n",
       "          0,    0,    0,    0,    0,    0,    0,    0,    0,    0,    0,\n",
       "          0,    0,    0,    0,    0,    0,    0,    0,    0,    0,    0,\n",
       "          0,    0,    0,    0,    0,    0,    0,    0,    0,    0,    0,\n",
       "          0,    0,    0,    0,    0,    0,    0,    0,    0,    0,    0,\n",
       "          0,    0,    0,    0,    0,    0,    0,    0,    0,    0,    0,\n",
       "          0,    0,    0,    0,    0,    0,    0,    0,    0,    0,    0,\n",
       "          0,    0,    0,    0,    0,    0,    0,    0,    0,    0,    0,\n",
       "          0,    0,    0,    0,    0,    0,    0,    0,    0,    0,    0,\n",
       "          0,    0,    0,    0,    0,    0,    0,    0,    0,    0,    0,\n",
       "          0,    0,    0,    0,    0,    0,    0,    0,    0,    0,    0,\n",
       "          0,    0,    0,    0,    0,    0,    0,    0,    0,    0,    0,\n",
       "          0,    0,    0,    0,    0,    0,    0,    0,    0,    0,    0,\n",
       "          0,    0,    0,    0,    0,    0,    0,    0,    0,    0,    0,\n",
       "          0,    0], dtype=int32)"
      ]
     },
     "execution_count": 58,
     "metadata": {},
     "output_type": "execute_result"
    }
   ],
   "source": [
    "X_test[1]"
   ]
  },
  {
   "cell_type": "code",
   "execution_count": 57,
   "metadata": {},
   "outputs": [
    {
     "data": {
      "text/plain": [
       "array([[0.76918554, 0.18914065, 0.00999364, ..., 0.03418863, 0.07880059,\n",
       "        0.22492412],\n",
       "       [0.8016392 , 0.15423238, 0.00463292, ..., 0.01926079, 0.05296534,\n",
       "        0.19054997],\n",
       "       [0.8071724 , 0.1486941 , 0.00393367, ..., 0.01703525, 0.04882434,\n",
       "        0.18162253],\n",
       "       ...,\n",
       "       [0.7908287 , 0.16814432, 0.00630653, ..., 0.02415285, 0.06178173,\n",
       "        0.20364228],\n",
       "       [0.7848606 , 0.1725134 , 0.00728792, ..., 0.0265694 , 0.06752771,\n",
       "        0.20553711],\n",
       "       [0.80032945, 0.15361273, 0.00478682, ..., 0.01984569, 0.05342638,\n",
       "        0.19172978]], dtype=float32)"
      ]
     },
     "execution_count": 57,
     "metadata": {},
     "output_type": "execute_result"
    }
   ],
   "source": [
    "model2.predict(X_test)"
   ]
  },
  {
   "cell_type": "code",
   "execution_count": 173,
   "metadata": {},
   "outputs": [
    {
     "data": {
      "text/plain": [
       "array([0, 0, 0, ..., 0, 0, 0])"
      ]
     },
     "execution_count": 173,
     "metadata": {},
     "output_type": "execute_result"
    }
   ],
   "source": [
    "np.argmax(model.predict(x_test), axis=-1)"
   ]
  },
  {
   "cell_type": "code",
   "execution_count": 177,
   "metadata": {},
   "outputs": [
    {
     "data": {
      "text/plain": [
       "0"
      ]
     },
     "execution_count": 177,
     "metadata": {},
     "output_type": "execute_result"
    }
   ],
   "source": [
    "np.argmax(y_hat[n])"
   ]
  },
  {
   "cell_type": "code",
   "execution_count": 222,
   "metadata": {},
   "outputs": [],
   "source": [
    "y_hat_round = y_hat.round()"
   ]
  },
  {
   "cell_type": "code",
   "execution_count": 223,
   "metadata": {},
   "outputs": [
    {
     "data": {
      "text/plain": [
       "array([[1., 0., 0., ..., 0., 0., 0.],\n",
       "       [1., 0., 0., ..., 0., 0., 0.],\n",
       "       [1., 0., 0., ..., 0., 0., 0.],\n",
       "       ...,\n",
       "       [1., 0., 0., ..., 0., 0., 0.],\n",
       "       [1., 0., 0., ..., 0., 0., 0.],\n",
       "       [1., 0., 0., ..., 0., 0., 0.]], dtype=float32)"
      ]
     },
     "execution_count": 223,
     "metadata": {},
     "output_type": "execute_result"
    }
   ],
   "source": [
    "y_hat_round"
=======
   "execution_count": 120,
   "metadata": {},
   "outputs": [
    {
     "name": "stdout",
     "output_type": "stream",
     "text": [
      "62/62 [==============================] - 0s 4ms/step - loss: 0.3364 - acc: 0.8373\n",
      "test loss, test acc: [0.33638080954551697, 0.8372596502304077]\n"
     ]
    }
   ],
   "source": [
    "results = model.evaluate(X_test, y_test, batch_size=128)\n",
    "print(\"test loss, test acc:\", results)\n"
>>>>>>> 1ad88738b7f8d6f6515fa36a8fb8f75b89e33c44
   ]
  },
  {
   "cell_type": "code",
   "execution_count": null,
   "metadata": {},
   "outputs": [],
   "source": []
  }
 ],
 "metadata": {
  "instance_type": "ml.t3.medium",
  "kernelspec": {
   "display_name": "Python 3 (Data Science)",
   "language": "python",
   "name": "python3__SAGEMAKER_INTERNAL__arn:aws:sagemaker:eu-central-1:936697816551:image/datascience-1.0"
  },
  "language_info": {
   "codemirror_mode": {
    "name": "ipython",
    "version": 3
   },
   "file_extension": ".py",
   "mimetype": "text/x-python",
   "name": "python",
   "nbconvert_exporter": "python",
   "pygments_lexer": "ipython3",
   "version": "3.7.10"
  }
 },
 "nbformat": 4,
 "nbformat_minor": 4
}
